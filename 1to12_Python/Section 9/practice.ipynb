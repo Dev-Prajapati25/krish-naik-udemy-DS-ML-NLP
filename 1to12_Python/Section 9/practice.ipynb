{
 "cells": [
  {
   "cell_type": "markdown",
   "id": "70a32b59",
   "metadata": {},
   "source": [
    "## Section 9 : File Handling"
   ]
  },
  {
   "cell_type": "markdown",
   "id": "46df5001",
   "metadata": {},
   "source": [
    "***"
   ]
  },
  {
   "cell_type": "markdown",
   "id": "ffbe25a4",
   "metadata": {},
   "source": [
    "### 34-File Operation"
   ]
  },
  {
   "cell_type": "code",
   "execution_count": 1,
   "id": "7f544dc2",
   "metadata": {},
   "outputs": [
    {
     "name": "stdout",
     "output_type": "stream",
     "text": [
      "Initial -\n",
      "content\n"
     ]
    }
   ],
   "source": [
    "example = \"example.txt\"\n",
    "\n",
    "# Read whole content \n",
    "with open(example, mode=\"r\") as file:\n",
    "    content = file.read()\n",
    "\n",
    "print(content)"
   ]
  },
  {
   "cell_type": "code",
   "execution_count": 2,
   "id": "ecaf5462",
   "metadata": {},
   "outputs": [
    {
     "name": "stdout",
     "output_type": "stream",
     "text": [
      "Initial -\n",
      "content\n"
     ]
    }
   ],
   "source": [
    "# Read line-by-line\n",
    "with open(example) as file:\n",
    "    for line in file:\n",
    "        print(line.strip())"
   ]
  },
  {
   "cell_type": "code",
   "execution_count": 3,
   "id": "1a35362b",
   "metadata": {},
   "outputs": [],
   "source": [
    "# Overwrite file\n",
    "with open(example, mode=\"w\") as file:\n",
    "    file.write(\"Hey there\\n\")\n",
    "    file.write(\"Hello\\n\")\n",
    "    file.write(\"Have you played Last of US Part 1\\n\")"
   ]
  },
  {
   "cell_type": "code",
   "execution_count": 4,
   "id": "525a171a",
   "metadata": {},
   "outputs": [],
   "source": [
    "# Write without overwriting\n",
    "with open(example, mode=\"a\") as file:\n",
    "    file.write(\"Yes i have played last of us\\n\")"
   ]
  },
  {
   "cell_type": "code",
   "execution_count": 5,
   "id": "26e04c57",
   "metadata": {},
   "outputs": [],
   "source": [
    "# Write list of lines\n",
    "lines = [\"Wazuppp\\n\", \"wazupppppp\\n\"]\n",
    "with open(example, \"a\") as file:\n",
    "    file.writelines(lines)"
   ]
  },
  {
   "cell_type": "code",
   "execution_count": 7,
   "id": "d91465e4",
   "metadata": {},
   "outputs": [],
   "source": [
    "# Write \\0x00\\0x01\\0x02\\0x03\\0x04\n",
    "data = b\"\\0x00\\0x01\\0x02\\0x03\\0x04\"\n",
    "with open(\"eample.bin\", \"wb\") as file:\n",
    "    file.write(data)"
   ]
  },
  {
   "cell_type": "code",
   "execution_count": 8,
   "id": "5a173c5d",
   "metadata": {},
   "outputs": [
    {
     "name": "stdout",
     "output_type": "stream",
     "text": [
      "b'\\x00x00\\x00x01\\x00x02\\x00x03\\x00x04'\n"
     ]
    }
   ],
   "source": [
    "# Read binary\n",
    "with open(\"eample.bin\", \"rb\") as file:\n",
    "    content = file.read()\n",
    "    print(content)"
   ]
  },
  {
   "cell_type": "code",
   "execution_count": 9,
   "id": "6abf1e81",
   "metadata": {},
   "outputs": [],
   "source": [
    "# Read from source file and write to destination\n",
    "with open(\"source.txt\", \"r\") as file:\n",
    "    content = file.read()\n",
    "\n",
    "with open(\"destination.txt\", \"w\") as file:\n",
    "    file.write(content)"
   ]
  },
  {
   "cell_type": "code",
   "execution_count": null,
   "id": "8d5f3756",
   "metadata": {},
   "outputs": [],
   "source": [
    "# Read a text file and count number of lines, words and characters\n",
    "def read_txt(lines_list):\n",
    "    no_lines = len(lines_list)\n",
    "    no_words = len([word for word in line.split() for line in lines_list])\n",
    "    no_chars = [char for char in word for word in no_words] \n",
    "\n",
    "\n",
    "with open(example) as file:\n",
    "    content = file.read()\n",
    "    lines = file.readlines()"
   ]
  },
  {
   "cell_type": "code",
   "execution_count": 5,
   "id": "4cbb4d55",
   "metadata": {},
   "outputs": [
    {
     "name": "stdout",
     "output_type": "stream",
     "text": [
      "Hello there\n",
      "bye\n"
     ]
    }
   ],
   "source": [
    "# Writitng and then reading\n",
    "with open(\"example.txt\", \"w+\") as file:\n",
    "    file.write(\"Hello there\\n\")\n",
    "    file.write(\"bye\")\n",
    "\n",
    "    # move cursor to beginning\n",
    "    file.seek(0)\n",
    "    \n",
    "    content = file.read()\n",
    "\n",
    "print(content)"
   ]
  },
  {
   "cell_type": "markdown",
   "id": "6ed62661",
   "metadata": {},
   "source": [
    "***\n",
    "## 35 - Working with file paths"
   ]
  },
  {
   "cell_type": "code",
   "execution_count": 1,
   "id": "cbf107a1",
   "metadata": {},
   "outputs": [],
   "source": [
    "import os"
   ]
  },
  {
   "cell_type": "code",
   "execution_count": 4,
   "id": "778c479f",
   "metadata": {},
   "outputs": [
    {
     "name": "stdout",
     "output_type": "stream",
     "text": [
      "'example_dir' succesfully created\n"
     ]
    }
   ],
   "source": [
    "# Create new directory\n",
    "new_dir = \"example_dir\"\n",
    "os.mkdir(new_dir)\n",
    "print(f\"'{new_dir}' succesfully created\")"
   ]
  },
  {
   "cell_type": "code",
   "execution_count": 7,
   "id": "39d7a637",
   "metadata": {},
   "outputs": [
    {
     "name": "stdout",
     "output_type": "stream",
     "text": [
      "['destination.txt', 'eample.bin', 'example.txt', 'example_dir', 'practice.ipynb', 'source.txt']\n"
     ]
    }
   ],
   "source": [
    "# List files and directories\n",
    "items = os.listdir('.')\n",
    "print(items)"
   ]
  },
  {
   "cell_type": "code",
   "execution_count": 8,
   "id": "e918712e",
   "metadata": {},
   "outputs": [
    {
     "name": "stdout",
     "output_type": "stream",
     "text": [
      "Relative path of new file 'example_dir\\test.txt'\n"
     ]
    }
   ],
   "source": [
    "# Joining paths\n",
    "new_file_name = 'test.txt'\n",
    "newfile_relative_path = os.path.join(new_dir, new_file_name)\n",
    "print(f\"Relative path of new file '{newfile_relative_path}'\")"
   ]
  },
  {
   "cell_type": "code",
   "execution_count": 10,
   "id": "f9e75d87",
   "metadata": {},
   "outputs": [
    {
     "name": "stdout",
     "output_type": "stream",
     "text": [
      "example_dir\\test.txt already exists\n"
     ]
    }
   ],
   "source": [
    "# Check if path exists\n",
    "if os.path.exists(newfile_relative_path):\n",
    "    print(f\"{newfile_relative_path} already exists\")\n",
    "else:\n",
    "    open(newfile_relative_path, \"x\")"
   ]
  },
  {
   "cell_type": "code",
   "execution_count": 11,
   "id": "5daec3d3",
   "metadata": {},
   "outputs": [
    {
     "name": "stdout",
     "output_type": "stream",
     "text": [
      "example_dir\\test.txt is a file\n"
     ]
    }
   ],
   "source": [
    "# check if path is file or directory\n",
    "if os.path.isfile(newfile_relative_path):\n",
    "    print(f\"{newfile_relative_path} is a file\")\n",
    "elif os.path.isdir(newfile_relative_path):\n",
    "    print(f\"{newfile_relative_path} is a directory\")\n",
    "else:\n",
    "    print(f\"{newfile_relative_path} is a neither file nor directory\")\n"
   ]
  },
  {
   "cell_type": "code",
   "execution_count": 13,
   "id": "efb5d4de",
   "metadata": {},
   "outputs": [
    {
     "name": "stdout",
     "output_type": "stream",
     "text": [
      "Absolute file path of the newfile is 'k:\\Learn\\KrishNaik-Udemy-ML-Bootcamp\\1to12_Python\\Section 9\\example_dir\\test.txt'\n"
     ]
    }
   ],
   "source": [
    "# Getting the absolute path\n",
    "newfile_absolute_path = os.path.abspath(newfile_relative_path)\n",
    "print(f\"Absolute file path of the newfile is '{newfile_absolute_path}'\")"
   ]
  }
 ],
 "metadata": {
  "kernelspec": {
   "display_name": "py-env",
   "language": "python",
   "name": "python3"
  },
  "language_info": {
   "codemirror_mode": {
    "name": "ipython",
    "version": 3
   },
   "file_extension": ".py",
   "mimetype": "text/x-python",
   "name": "python",
   "nbconvert_exporter": "python",
   "pygments_lexer": "ipython3",
   "version": "3.12.11"
  }
 },
 "nbformat": 4,
 "nbformat_minor": 5
}
