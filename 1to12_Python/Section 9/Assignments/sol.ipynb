{
 "cells": [
  {
   "cell_type": "markdown",
   "id": "ce313e4f",
   "metadata": {},
   "source": [
    "# File Handling"
   ]
  },
  {
   "cell_type": "markdown",
   "id": "9b58b62a",
   "metadata": {},
   "source": [
    "***"
   ]
  },
  {
   "cell_type": "code",
   "execution_count": 1,
   "id": "3df85c23",
   "metadata": {},
   "outputs": [],
   "source": [
    "import os"
   ]
  },
  {
   "cell_type": "code",
   "execution_count": 3,
   "id": "9a5e6106",
   "metadata": {},
   "outputs": [
    {
     "name": "stdout",
     "output_type": "stream",
     "text": [
      "Hello\n",
      "There\n"
     ]
    }
   ],
   "source": [
    "# Assi 1\n",
    "def print_lines(filename):\n",
    "    with open(filename) as f:\n",
    "        for line in f:\n",
    "            print(line.strip())\n",
    "\n",
    "print_lines(\"sample.txt\")"
   ]
  },
  {
   "cell_type": "markdown",
   "id": "ca1df914",
   "metadata": {},
   "source": [
    "***"
   ]
  },
  {
   "cell_type": "markdown",
   "id": "933521ca",
   "metadata": {},
   "source": [
    "### List inplace modification"
   ]
  },
  {
   "cell_type": "markdown",
   "id": "c4142d1b",
   "metadata": {},
   "source": [
    "Below code doesnot work because ```item += \"\\n\"``` only changes the local variable item and not the original list"
   ]
  },
  {
   "cell_type": "code",
   "execution_count": 5,
   "id": "60f5a308",
   "metadata": {},
   "outputs": [
    {
     "name": "stdout",
     "output_type": "stream",
     "text": [
      "['line1', 'line2', 'line3']\n"
     ]
    }
   ],
   "source": [
    "lines = [\"line1\", \"line2\", \"line3\"]\n",
    "\n",
    "for item in lines:\n",
    "    if not item.endswith(\"\\n\"):\n",
    "        item += \"\\n\"\n",
    "\n",
    "print(lines)"
   ]
  },
  {
   "cell_type": "markdown",
   "id": "16857074",
   "metadata": {},
   "source": [
    "To solve this we use pointers.      \n",
    "In python, we wil use the indices of the element"
   ]
  },
  {
   "cell_type": "code",
   "execution_count": 6,
   "id": "7f518268",
   "metadata": {},
   "outputs": [
    {
     "name": "stdout",
     "output_type": "stream",
     "text": [
      "['line1\\n', 'line2\\n', 'line3\\n']\n"
     ]
    }
   ],
   "source": [
    "for i in range(len(lines)):\n",
    "    if not lines[i].endswith(\"\\n\"):\n",
    "        lines[i] += \"\\n\"\n",
    "\n",
    "print(lines)"
   ]
  },
  {
   "cell_type": "markdown",
   "id": "6de23970",
   "metadata": {},
   "source": [
    "***"
   ]
  },
  {
   "cell_type": "code",
   "execution_count": 4,
   "id": "b950392b",
   "metadata": {},
   "outputs": [],
   "source": [
    "# Assi 2\n",
    "def write_line(filename:str,lines:list):\n",
    "    if not os.path.exists(filename):\n",
    "        open(filename, \"x\")\n",
    "    \n",
    "    for i in range(len(lines)):\n",
    "        if not lines[i].endswith(\"\\n\"):\n",
    "            lines[i] += \"\\n\"\n",
    "\n",
    "    with open(filename, mode='w') as file:\n",
    "        file.writelines(lines)\n",
    "\n",
    "write_line(\"output.txt\", [\"01 Hello\", \"02 Dev\"])"
   ]
  },
  {
   "cell_type": "code",
   "execution_count": 7,
   "id": "6d29bb77",
   "metadata": {},
   "outputs": [],
   "source": [
    "# assi 3\n",
    "with open(\"source.txt\") as file:\n",
    "    content = file.read()\n",
    "\n",
    "with open(\"destination.txt\", \"w\") as file:\n",
    "    file.write(content)\n"
   ]
  },
  {
   "cell_type": "code",
   "execution_count": null,
   "id": "f78764fb",
   "metadata": {},
   "outputs": [],
   "source": [
    "# assi 4\n",
    "def write_log(content:str):\n",
    "    if not os.path.exists(\"log.txt\"):\n",
    "        open(\"log.txt\", \"x\")\n",
    "\n",
    "    with open(\"log.txt\", \"a\") as file:\n",
    "        file.write(content)\n",
    "\n",
    "write_log(\"LOG1: Assignment started\")"
   ]
  },
  {
   "cell_type": "code",
   "execution_count": 17,
   "id": "f06cec08",
   "metadata": {},
   "outputs": [
    {
     "name": "stdout",
     "output_type": "stream",
     "text": [
      "4\n"
     ]
    }
   ],
   "source": [
    "# assi 5\n",
    "def count_words(filename:str)-> int:\n",
    "    with open(filename) as file:\n",
    "        lines = file.readlines()\n",
    "        word_count = sum(len(line.split()) for line in lines)\n",
    "        return word_count\n",
    "\n",
    "print(count_words(\"output.txt\"))"
   ]
  },
  {
   "cell_type": "code",
   "execution_count": null,
   "id": "de6a8188",
   "metadata": {},
   "outputs": [],
   "source": [
    "# Assi 6\n",
    "def change_word(wordtoreplace, replacement):\n",
    "    with open(\"data.txt\") as file:\n",
    "        content = file.read()\n",
    "    new_content = content.replace(wordtoreplace, replacement)\n",
    "    with open(\"data.txt\", \"w\") as file:\n",
    "        file.write(new_content)\n",
    "\n",
    "change_word(\"Dev\", \"Chandler\")"
   ]
  },
  {
   "cell_type": "code",
   "execution_count": 22,
   "id": "d86835ee",
   "metadata": {},
   "outputs": [
    {
     "name": "stdout",
     "output_type": "stream",
     "text": [
      "\n",
      "  .erehwyreve nohtyP ,nohtyP ,nohtyP !reldnahC ,niaga olleH\n",
      "  .nuf si nohtyP dna ,nohtyP gninrael si reldnahC\n",
      "  ?uoy era woh ,reldnahC olleH\n"
     ]
    }
   ],
   "source": [
    "# assi 7\n",
    "def reverse_read(filename):\n",
    "    with open(filename) as file:\n",
    "        text = file.read()\n",
    "    return text[::-1]\n",
    "\n",
    "print(reverse_read(\"data.txt\"))"
   ]
  },
  {
   "cell_type": "code",
   "execution_count": 3,
   "id": "38c3dc22",
   "metadata": {},
   "outputs": [
    {
     "ename": "TypeError",
     "evalue": "unsupported operand type(s) for +: 'int' and 'generator'",
     "output_type": "error",
     "traceback": [
      "\u001b[31m---------------------------------------------------------------------------\u001b[39m",
      "\u001b[31mTypeError\u001b[39m                                 Traceback (most recent call last)",
      "\u001b[36mCell\u001b[39m\u001b[36m \u001b[39m\u001b[32mIn[3]\u001b[39m\u001b[32m, line 18\u001b[39m\n\u001b[32m     14\u001b[39m         no_chars = \u001b[38;5;28msum\u001b[39m((\u001b[38;5;28mlen\u001b[39m(word) \u001b[38;5;28;01mfor\u001b[39;00m word \u001b[38;5;129;01min\u001b[39;00m line )\u001b[38;5;28;01mfor\u001b[39;00m line \u001b[38;5;129;01min\u001b[39;00m words_in_each_line)\n\u001b[32m     16\u001b[39m         \u001b[38;5;28;01mreturn\u001b[39;00m \u001b[33mf\u001b[39m\u001b[33m\"\u001b[39m\u001b[33mLines=\u001b[39m\u001b[38;5;132;01m{\u001b[39;00mno_lines\u001b[38;5;132;01m}\u001b[39;00m\u001b[38;5;130;01m\\n\u001b[39;00m\u001b[33mWords=\u001b[39m\u001b[38;5;132;01m{\u001b[39;00mno_words\u001b[38;5;132;01m}\u001b[39;00m\u001b[38;5;130;01m\\n\u001b[39;00m\u001b[33mCharacters=\u001b[39m\u001b[38;5;132;01m{\u001b[39;00mno_chars\u001b[38;5;132;01m}\u001b[39;00m\u001b[33m\"\u001b[39m\n\u001b[32m---> \u001b[39m\u001b[32m18\u001b[39m \u001b[38;5;28mprint\u001b[39m(\u001b[43mcounts_file\u001b[49m\u001b[43m(\u001b[49m\u001b[33;43m\"\u001b[39;49m\u001b[33;43mdata.txt\u001b[39;49m\u001b[33;43m\"\u001b[39;49m\u001b[43m)\u001b[49m)\n",
      "\u001b[36mCell\u001b[39m\u001b[36m \u001b[39m\u001b[32mIn[3]\u001b[39m\u001b[32m, line 14\u001b[39m, in \u001b[36mcounts_file\u001b[39m\u001b[34m(filename)\u001b[39m\n\u001b[32m     12\u001b[39m words_in_each_line = [line.split() \u001b[38;5;28;01mfor\u001b[39;00m line \u001b[38;5;129;01min\u001b[39;00m lines]\n\u001b[32m     13\u001b[39m no_words = \u001b[38;5;28msum\u001b[39m(\u001b[38;5;28mlen\u001b[39m(line) \u001b[38;5;28;01mfor\u001b[39;00m line \u001b[38;5;129;01min\u001b[39;00m words_in_each_line)\n\u001b[32m---> \u001b[39m\u001b[32m14\u001b[39m no_chars = \u001b[38;5;28;43msum\u001b[39;49m\u001b[43m(\u001b[49m\u001b[43m(\u001b[49m\u001b[38;5;28;43mlen\u001b[39;49m\u001b[43m(\u001b[49m\u001b[43mword\u001b[49m\u001b[43m)\u001b[49m\u001b[43m \u001b[49m\u001b[38;5;28;43;01mfor\u001b[39;49;00m\u001b[43m \u001b[49m\u001b[43mword\u001b[49m\u001b[43m \u001b[49m\u001b[38;5;129;43;01min\u001b[39;49;00m\u001b[43m \u001b[49m\u001b[43mline\u001b[49m\u001b[43m \u001b[49m\u001b[43m)\u001b[49m\u001b[38;5;28;43;01mfor\u001b[39;49;00m\u001b[43m \u001b[49m\u001b[43mline\u001b[49m\u001b[43m \u001b[49m\u001b[38;5;129;43;01min\u001b[39;49;00m\u001b[43m \u001b[49m\u001b[43mwords_in_each_line\u001b[49m\u001b[43m)\u001b[49m\n\u001b[32m     16\u001b[39m \u001b[38;5;28;01mreturn\u001b[39;00m \u001b[33mf\u001b[39m\u001b[33m\"\u001b[39m\u001b[33mLines=\u001b[39m\u001b[38;5;132;01m{\u001b[39;00mno_lines\u001b[38;5;132;01m}\u001b[39;00m\u001b[38;5;130;01m\\n\u001b[39;00m\u001b[33mWords=\u001b[39m\u001b[38;5;132;01m{\u001b[39;00mno_words\u001b[38;5;132;01m}\u001b[39;00m\u001b[38;5;130;01m\\n\u001b[39;00m\u001b[33mCharacters=\u001b[39m\u001b[38;5;132;01m{\u001b[39;00mno_chars\u001b[38;5;132;01m}\u001b[39;00m\u001b[33m\"\u001b[39m\n",
      "\u001b[31mTypeError\u001b[39m: unsupported operand type(s) for +: 'int' and 'generator'"
     ]
    }
   ],
   "source": [
    "# assi 8\n",
    "'''\n",
    "no_lines = len(lines list)\n",
    "no_words = len(split each line => list of words)\n",
    "no_words = sum((split each line => list of words => each word in words => sum(word)))\n",
    "'''\n",
    "\n",
    "def counts_file(filename):\n",
    "    with open(filename) as file:\n",
    "        lines = file.readlines()\n",
    "        no_lines = len(lines)\n",
    "        words_in_each_line = [line.split() for line in lines]\n",
    "        no_words = sum(len(line) for line in words_in_each_line)\n",
    "        no_chars = sum((len(word) for word in line )for line in words_in_each_line)\n",
    "\n",
    "        return f\"Lines={no_lines}\\nWords={no_words}\\nCharacters={no_chars}\"\n",
    "    \n",
    "print(counts_file(\"data.txt\"))"
   ]
  },
  {
   "cell_type": "code",
   "execution_count": 1,
   "id": "f9fdcd3c",
   "metadata": {},
   "outputs": [
    {
     "name": "stdout",
     "output_type": "stream",
     "text": [
      "Succesfully merged 'sample.txt' and 'source.txt' into 'merged.txt'\n"
     ]
    }
   ],
   "source": [
    "# Assi 9\n",
    "def merge_files(file1, file2):\n",
    "    with open(file1) as f1, open(file2) as f2:\n",
    "        content1 = f1.read()\n",
    "        content2 = f2.read()\n",
    "\n",
    "    with open(\"merged.txt\", \"w\") as result:\n",
    "        result.write(content1)\n",
    "        result.write(content2)\n",
    "    print(f\"Succesfully merged '{file1}' and '{file2}' into 'merged.txt'\")\n",
    "\n",
    "merge_files(\"sample.txt\", \"source.txt\")"
   ]
  },
  {
   "cell_type": "code",
   "execution_count": 3,
   "id": "9bc41b5f",
   "metadata": {},
   "outputs": [],
   "source": [
    "# assi 10\n",
    "import math\n",
    "def split(filename, lines_per_file):\n",
    "    with open(filename) as file:\n",
    "        lines = file.readlines()\n",
    "    for i in range(0, len(lines), lines_per_file):\n",
    "        with open(f\"{filename}_part_{i+1}.txt\", \"w\") as newfile:\n",
    "            newfile.writelines(lines[i:i+ lines_per_file])\n",
    "\n",
    "split(\"large.txt\", 100)"
   ]
  },
  {
   "cell_type": "code",
   "execution_count": 22,
   "id": "5a5ee36e",
   "metadata": {},
   "outputs": [
    {
     "name": "stdout",
     "output_type": "stream",
     "text": [
      "Succesfully logged\n"
     ]
    }
   ],
   "source": [
    "# assi 11\n",
    "from datetime import datetime\n",
    "import os \n",
    "\n",
    "def write_log(log:str):\n",
    "    if not os.path.exists(\"activity.log\"):\n",
    "        activity = open(\"activity.log\", \"x\")\n",
    "        activity.close()\n",
    "    \n",
    "    with open(\"activity.log\", \"a\") as file:\n",
    "        content = f\"| Timestamp : {datetime.now()} |\\n{log}\\n-\\n\"\n",
    "        file.write(content)\n",
    "    print(\"Succesfully logged\")\n",
    "\n",
    "write_log(\"Drank coffee at 11:00\")"
   ]
  },
  {
   "cell_type": "code",
   "execution_count": 2,
   "id": "5cdb4693",
   "metadata": {},
   "outputs": [],
   "source": [
    "# assi 12\n",
    "with open(\"test_image.bin\", \"rb\") as file:\n",
    "    content = file.read()\n",
    "\n",
    "with open(\"copy_image.bin\", \"wb\") as file:\n",
    "    file.write(content)"
   ]
  },
  {
   "cell_type": "code",
   "execution_count": 4,
   "id": "24775136",
   "metadata": {},
   "outputs": [
    {
     "name": "stdout",
     "output_type": "stream",
     "text": [
      "[{\"ID\": \"1\", \"Name\": \"Item_1\", \"Value\": \"10\"}, {\"ID\": \"2\", \"Name\": \"Item_2\", \"Value\": \"20\"}, {\"ID\": \"3\", \"Name\": \"Item_3\", \"Value\": \"30\"}, {\"ID\": \"4\", \"Name\": \"Item_4\", \"Value\": \"40\"}, {\"ID\": \"5\", \"Name\": \"Item_5\", \"Value\": \"50\"}, {\"ID\": \"6\", \"Name\": \"Item_6\", \"Value\": \"60\"}, {\"ID\": \"7\", \"Name\": \"Item_7\", \"Value\": \"70\"}, {\"ID\": \"8\", \"Name\": \"Item_8\", \"Value\": \"80\"}, {\"ID\": \"9\", \"Name\": \"Item_9\", \"Value\": \"90\"}, {\"ID\": \"10\", \"Name\": \"Item_10\", \"Value\": \"100\"}]\n"
     ]
    }
   ],
   "source": [
    "# assi 13\n",
    "import csv, json\n",
    "\n",
    "list_of_dict = []\n",
    "with open(\"csv files/data.csv\") as file:\n",
    "    dict_reader = csv.DictReader(file)\n",
    "    list_of_dict = list(dict_reader)\n",
    "\n",
    "print(json.dumps(list_of_dict))"
   ]
  },
  {
   "cell_type": "code",
   "execution_count": 8,
   "id": "0ae961ec",
   "metadata": {},
   "outputs": [
    {
     "name": "stdout",
     "output_type": "stream",
     "text": [
      "{'employees': [{'id': 1, 'name': 'Alice', 'role': 'Engineer'}, {'id': 2, 'name': 'Bob', 'role': 'Designer'}, {'id': 3, 'name': 'Charlie', 'role': 'Manager'}, {'id': 4, 'name': 'Diana', 'role': 'Analyst'}, {'id': 5, 'name': 'Eve', 'role': 'Intern'}]}\n"
     ]
    }
   ],
   "source": [
    "# assi 14\n",
    "import json\n",
    "with open(\"json files/sample.json\") as file:\n",
    "    content = json.load(file)\n",
    "\n",
    "print((content))"
   ]
  },
  {
   "cell_type": "code",
   "execution_count": null,
   "id": "76e4ddd2",
   "metadata": {},
   "outputs": [],
   "source": [
    "# assi 15"
   ]
  }
 ],
 "metadata": {
  "kernelspec": {
   "display_name": "py-env",
   "language": "python",
   "name": "python3"
  },
  "language_info": {
   "codemirror_mode": {
    "name": "ipython",
    "version": 3
   },
   "file_extension": ".py",
   "mimetype": "text/x-python",
   "name": "python",
   "nbconvert_exporter": "python",
   "pygments_lexer": "ipython3",
   "version": "3.12.11"
  }
 },
 "nbformat": 4,
 "nbformat_minor": 5
}
