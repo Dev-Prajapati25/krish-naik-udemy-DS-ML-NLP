{
 "cells": [
  {
   "cell_type": "markdown",
   "id": "ce313e4f",
   "metadata": {},
   "source": [
    "# File Handling"
   ]
  },
  {
   "cell_type": "markdown",
   "id": "9b58b62a",
   "metadata": {},
   "source": [
    "***"
   ]
  },
  {
   "cell_type": "code",
   "execution_count": 1,
   "id": "3df85c23",
   "metadata": {},
   "outputs": [],
   "source": [
    "import os"
   ]
  },
  {
   "cell_type": "code",
   "execution_count": 3,
   "id": "9a5e6106",
   "metadata": {},
   "outputs": [
    {
     "name": "stdout",
     "output_type": "stream",
     "text": [
      "Hello\n",
      "There\n"
     ]
    }
   ],
   "source": [
    "# Assi 1\n",
    "def print_lines(filename):\n",
    "    with open(filename) as f:\n",
    "        for line in f:\n",
    "            print(line.strip())\n",
    "\n",
    "print_lines(\"sample.txt\")"
   ]
  },
  {
   "cell_type": "markdown",
   "id": "ca1df914",
   "metadata": {},
   "source": [
    "***"
   ]
  },
  {
   "cell_type": "markdown",
   "id": "933521ca",
   "metadata": {},
   "source": [
    "### List inplace modification"
   ]
  },
  {
   "cell_type": "markdown",
   "id": "c4142d1b",
   "metadata": {},
   "source": [
    "Below code doesnot work because ```item += \"\\n\"``` only changes the local variable item and not the original list"
   ]
  },
  {
   "cell_type": "code",
   "execution_count": 5,
   "id": "60f5a308",
   "metadata": {},
   "outputs": [
    {
     "name": "stdout",
     "output_type": "stream",
     "text": [
      "['line1', 'line2', 'line3']\n"
     ]
    }
   ],
   "source": [
    "lines = [\"line1\", \"line2\", \"line3\"]\n",
    "\n",
    "for item in lines:\n",
    "    if not item.endswith(\"\\n\"):\n",
    "        item += \"\\n\"\n",
    "\n",
    "print(lines)"
   ]
  },
  {
   "cell_type": "markdown",
   "id": "16857074",
   "metadata": {},
   "source": [
    "To solve this we use pointers.      \n",
    "In python, we wil use the indices of the element"
   ]
  },
  {
   "cell_type": "code",
   "execution_count": 6,
   "id": "7f518268",
   "metadata": {},
   "outputs": [
    {
     "name": "stdout",
     "output_type": "stream",
     "text": [
      "['line1\\n', 'line2\\n', 'line3\\n']\n"
     ]
    }
   ],
   "source": [
    "for i in range(len(lines)):\n",
    "    if not lines[i].endswith(\"\\n\"):\n",
    "        lines[i] += \"\\n\"\n",
    "\n",
    "print(lines)"
   ]
  },
  {
   "cell_type": "markdown",
   "id": "6de23970",
   "metadata": {},
   "source": [
    "***"
   ]
  },
  {
   "cell_type": "code",
   "execution_count": 4,
   "id": "b950392b",
   "metadata": {},
   "outputs": [],
   "source": [
    "# Assi 2\n",
    "def write_line(filename:str,lines:list):\n",
    "    if not os.path.exists(filename):\n",
    "        open(filename, \"x\")\n",
    "    \n",
    "    for i in range(len(lines)):\n",
    "        if not lines[i].endswith(\"\\n\"):\n",
    "            lines[i] += \"\\n\"\n",
    "\n",
    "    with open(filename, mode='w') as file:\n",
    "        file.writelines(lines)\n",
    "\n",
    "write_line(\"output.txt\", [\"01 Hello\", \"02 Dev\"])"
   ]
  },
  {
   "cell_type": "code",
   "execution_count": 7,
   "id": "6d29bb77",
   "metadata": {},
   "outputs": [],
   "source": [
    "# assi 3\n",
    "with open(\"source.txt\") as file:\n",
    "    content = file.read()\n",
    "\n",
    "with open(\"destination.txt\", \"w\") as file:\n",
    "    file.write(content)\n"
   ]
  },
  {
   "cell_type": "code",
   "execution_count": null,
   "id": "f78764fb",
   "metadata": {},
   "outputs": [],
   "source": [
    "# assi 4\n",
    "def write_log(content:str):\n",
    "    if not os.path.exists(\"log.txt\"):\n",
    "        open(\"log.txt\", \"x\")\n",
    "\n",
    "    with open(\"log.txt\", \"a\") as file:\n",
    "        file.write(content)\n",
    "\n",
    "write_log(\"LOG1: Assignment started\")"
   ]
  },
  {
   "cell_type": "code",
   "execution_count": 17,
   "id": "f06cec08",
   "metadata": {},
   "outputs": [
    {
     "name": "stdout",
     "output_type": "stream",
     "text": [
      "4\n"
     ]
    }
   ],
   "source": [
    "# assi 5\n",
    "def count_words(filename:str)-> int:\n",
    "    with open(filename) as file:\n",
    "        lines = file.readlines()\n",
    "        word_count = sum(len(line.split()) for line in lines)\n",
    "        return word_count\n",
    "\n",
    "print(count_words(\"output.txt\"))"
   ]
  },
  {
   "cell_type": "code",
   "execution_count": null,
   "id": "de6a8188",
   "metadata": {},
   "outputs": [],
   "source": [
    "# Assi 6\n",
    "def change_word(wordtoreplace, replacement):\n",
    "    with open(\"data.txt\") as file:\n",
    "        content = file.read()\n",
    "    new_content = content.replace(wordtoreplace, replacement)\n",
    "    with open(\"data.txt\", \"w\") as file:\n",
    "        file.write(new_content)\n",
    "\n",
    "change_word(\"Dev\", \"Chandler\")"
   ]
  },
  {
   "cell_type": "code",
   "execution_count": 22,
   "id": "d86835ee",
   "metadata": {},
   "outputs": [
    {
     "name": "stdout",
     "output_type": "stream",
     "text": [
      "\n",
      "  .erehwyreve nohtyP ,nohtyP ,nohtyP !reldnahC ,niaga olleH\n",
      "  .nuf si nohtyP dna ,nohtyP gninrael si reldnahC\n",
      "  ?uoy era woh ,reldnahC olleH\n"
     ]
    }
   ],
   "source": [
    "# assi 7\n",
    "def reverse_read(filename):\n",
    "    with open(filename) as file:\n",
    "        text = file.read()\n",
    "    return text[::-1]\n",
    "\n",
    "print(reverse_read(\"data.txt\"))"
   ]
  },
  {
   "cell_type": "code",
   "execution_count": null,
   "id": "38c3dc22",
   "metadata": {},
   "outputs": [],
   "source": []
  }
 ],
 "metadata": {
  "kernelspec": {
   "display_name": "py-env",
   "language": "python",
   "name": "python3"
  },
  "language_info": {
   "codemirror_mode": {
    "name": "ipython",
    "version": 3
   },
   "file_extension": ".py",
   "mimetype": "text/x-python",
   "name": "python",
   "nbconvert_exporter": "python",
   "pygments_lexer": "ipython3",
   "version": "3.12.11"
  }
 },
 "nbformat": 4,
 "nbformat_minor": 5
}
