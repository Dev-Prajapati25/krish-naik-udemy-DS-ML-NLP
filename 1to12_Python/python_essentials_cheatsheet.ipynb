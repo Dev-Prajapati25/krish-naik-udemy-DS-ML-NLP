{
 "cells": [
  {
   "cell_type": "markdown",
   "id": "e77bf7ff",
   "metadata": {},
   "source": [
    "\n",
    "# <a id='toc1_'></a>[🐍 Python Essentials Cheatsheet](#toc0_)"
   ]
  },
  {
   "cell_type": "markdown",
   "id": "71216452",
   "metadata": {},
   "source": [
    "**Table of contents**<a id='toc0_'></a>    \n",
    "- [🐍 Python Essentials Cheatsheet](#toc1_)    \n",
    "  - [🔹 Built-in Functions](#toc1_1_)    \n",
    "  - [🔹 String Methods](#toc1_2_)    \n",
    "  - [🔹 List Methods](#toc1_3_)    \n",
    "  - [🔹 Tuple Methods](#toc1_4_)    \n",
    "  - [🔹 Dictionary Methods](#toc1_5_)    \n",
    "  - [🔹 Set Methods](#toc1_6_)    \n",
    "  - [🔹 File Handling](#toc1_7_)    \n",
    "  - [🔹 Exceptions](#toc1_8_)    \n",
    "  - [🔹 Comprehensions](#toc1_9_)    \n",
    "  - [🔹 Useful Modules](#toc1_10_)    \n",
    "  - [🔹 Special Python Stuff](#toc1_11_)    \n",
    "\n",
    "<!-- vscode-jupyter-toc-config\n",
    "\tnumbering=false\n",
    "\tanchor=true\n",
    "\tflat=false\n",
    "\tminLevel=1\n",
    "\tmaxLevel=6\n",
    "\t/vscode-jupyter-toc-config -->\n",
    "<!-- THIS CELL WILL BE REPLACED ON TOC UPDATE. DO NOT WRITE YOUR TEXT IN THIS CELL -->"
   ]
  },
  {
   "cell_type": "markdown",
   "id": "615e3d44",
   "metadata": {},
   "source": [
    "---"
   ]
  },
  {
   "cell_type": "markdown",
   "id": "60a76747",
   "metadata": {},
   "source": [
    "## <a id='toc1_1_'></a>[🔹 Built-in Functions](#toc0_)\n",
    "\n",
    "| Function | Description |\n",
    "|----------|-------------|\n",
    "| `type(x)` | Get type of object |\n",
    "| `isinstance(x,t)` | Check if object is of type |\n",
    "| `id(x)` | Unique object id |\n",
    "| `int(), float(), str(), bool()` | Type conversions |\n",
    "| `list(), tuple(), dict(), set()` | Create collections |\n",
    "| `print(x)` | Print output |\n",
    "| `input()` | Take user input |\n",
    "| `abs(x)` | Absolute value |\n",
    "| `round(x,n)` | Round to n decimals |\n",
    "| `pow(x,y)` | Power x^y |\n",
    "| `divmod(a,b)` | (a//b, a%b) |\n",
    "| `sum(iter)` | Sum of items |\n",
    "| `min(iter), max(iter)` | Min/Max value |\n",
    "| `sorted(iter)` | Return sorted list |\n",
    "| `range(n)` | Sequence 0..n-1 |\n",
    "| `len(x)` | Length of object |\n",
    "| `enumerate(iter)` | Index + value pairs |\n",
    "| `zip(a,b)` | Pair items |\n",
    "| `map(f,iter)` | Apply function |\n",
    "| `filter(f,iter)` | Keep items where f=True |\n",
    "| `any(iter)` | True if any True |\n",
    "| `all(iter)` | True if all True |\n",
    "| `reversed(iter)` | Reverse iterator |\n",
    "| `help(x)` | Help on object |\n",
    "| `dir(x)` | List attributes/methods |\n",
    "| `getattr(obj,n)` | Get attribute |\n",
    "| `setattr(obj,n,v)` | Set attribute |\n",
    "| `delattr(obj,n)` | Delete attribute |\n",
    "| `hasattr(obj,n)` | Check attribute |\n",
    "| `open(f,m)` | Open file |\n",
    "| `eval(s)` | Evaluate string |\n",
    "| `exec(s)` | Execute string code |\n",
    "| `chr(i)` | Int → char |\n",
    "| `ord(c)` | Char → int |\n",
    "| `bin(x), oct(x), hex(x)` | Base conversions |\n",
    "\n",
    "---"
   ]
  },
  {
   "cell_type": "markdown",
   "id": "f143ee67",
   "metadata": {},
   "source": [
    "## <a id='toc1_2_'></a>[🔹 String Methods](#toc0_)\n",
    "\n",
    "| Method | Description |\n",
    "|--------|-------------|\n",
    "| `s.isalpha()` | Letters only |\n",
    "| `s.isdigit()` | Digits only |\n",
    "| `s.isalnum()` | Letters/digits |\n",
    "| `s.isspace()` | Whitespace only |\n",
    "| `s.startswith(x), s.endswith(x)` | Prefix/Suffix check |\n",
    "| `s.lower(), s.upper()` | Case conversion |\n",
    "| `s.title(), s.capitalize(), s.swapcase()` | Title/cap/swapcase |\n",
    "| `s.strip(), s.lstrip(), s.rstrip()` | Trim spaces |\n",
    "| `s.find(x), s.rfind(x)` | Find substring |\n",
    "| `s.index(x)` | Find (error if missing) |\n",
    "| `s.count(x)` | Count occurrences |\n",
    "| `s.replace(a,b)` | Replace substring |\n",
    "| `s.split(sep), s.rsplit(sep)` | Split string |\n",
    "| `s.partition(x)` | Split into 3 parts |\n",
    "| `s.join(list)` | Join list into str |\n",
    "| `s.format() / f\"{var}\"` | String formatting |\n",
    "| `s.center(n), s.ljust(n), s.rjust(n)` | Alignment |\n",
    "| `s.zfill(n)` | Pad with zeros |\n",
    "\n",
    "---"
   ]
  },
  {
   "cell_type": "markdown",
   "id": "263d16de",
   "metadata": {},
   "source": [
    "## <a id='toc1_3_'></a>[🔹 List Methods](#toc0_)\n",
    "\n",
    "| Method | Description |\n",
    "|--------|-------------|\n",
    "| `lst.append(x)` | Add at end |\n",
    "| `lst.extend(it)` | Add many |\n",
    "| `lst.insert(i,x)` | Insert at index |\n",
    "| `lst.remove(x)` | Remove first x |\n",
    "| `lst.pop(i)` | Remove at index |\n",
    "| `lst.clear()` | Empty list |\n",
    "| `lst.index(x)` | Find index |\n",
    "| `lst.count(x)` | Count occurrences |\n",
    "| `lst.sort()` | Sort in place |\n",
    "| `lst.reverse()` | Reverse in place |\n",
    "| `sorted(lst)` | Return sorted copy |\n",
    "| `lst.copy()` | Shallow copy |\n",
    "\n",
    "---"
   ]
  },
  {
   "cell_type": "markdown",
   "id": "24f861c2",
   "metadata": {},
   "source": [
    "## <a id='toc1_4_'></a>[🔹 Tuple Methods](#toc0_)\n",
    "\n",
    "| Method | Description |\n",
    "|--------|-------------|\n",
    "| `t.count(x)` | Count occurrences |\n",
    "| `t.index(x)` | Find index |\n",
    "\n",
    "---"
   ]
  },
  {
   "cell_type": "markdown",
   "id": "c3215b5b",
   "metadata": {},
   "source": [
    "## <a id='toc1_5_'></a>[🔹 Dictionary Methods](#toc0_)\n",
    "\n",
    "| Method | Description |\n",
    "|--------|-------------|\n",
    "| `d.get(k,def)` | Value or default |\n",
    "| `d.keys(), d.values(), d.items()` | Views |\n",
    "| `d.update({...})` | Merge dict |\n",
    "| `d.setdefault(k,v)` | Set if missing |\n",
    "| `d.pop(k)` | Remove key |\n",
    "| `d.popitem()` | Remove last pair |\n",
    "| `d.clear()` | Empty dict |\n",
    "| `d.copy()` | Copy dict |\n",
    "\n",
    "---"
   ]
  },
  {
   "cell_type": "markdown",
   "id": "2b6a64bd",
   "metadata": {},
   "source": [
    "## <a id='toc1_6_'></a>[🔹 Set Methods](#toc0_)\n",
    "\n",
    "| Method | Description |\n",
    "|--------|-------------|\n",
    "| `s.add(x)` | Add element |\n",
    "| `s.remove(x)` | Remove (error if missing) |\n",
    "| `s.discard(x)` | Remove (no error) |\n",
    "| `s.pop()` | Remove random element |\n",
    "| `s.clear()` | Empty set |\n",
    "| `s.union(t)` | Union of sets |\n",
    "| `s.intersection(t)` | Common elements |\n",
    "| `s.difference(t)` | Only in s |\n",
    "| `s.symmetric_difference(t)` | In s or t not both |\n",
    "| `s.issubset(t)` | Check subset |\n",
    "| `s.issuperset(t)` | Check superset |\n",
    "| `s.isdisjoint(t)` | No common elements |\n",
    "| `s.copy()` | Copy set |\n",
    "\n",
    "---"
   ]
  },
  {
   "cell_type": "markdown",
   "id": "db95e0dd",
   "metadata": {},
   "source": [
    "## <a id='toc1_7_'></a>[🔹 File Handling](#toc0_)\n",
    "```python\n",
    "with open(\"f.txt\",\"r\") as f:\n",
    "    f.read()        # whole file\n",
    "    f.readline()    # one line\n",
    "    f.readlines()   # all lines\n",
    "\n",
    "with open(\"f.txt\",\"w\") as f:\n",
    "    f.write(\"hi\")   # write text\n",
    "```\n",
    "\n",
    "---"
   ]
  },
  {
   "cell_type": "markdown",
   "id": "4e8acb01",
   "metadata": {},
   "source": [
    "## <a id='toc1_8_'></a>[🔹 Exceptions](#toc0_)\n",
    "```python\n",
    "try:\n",
    "    risky()\n",
    "except Exception as e:\n",
    "    print(e)        # handle error\n",
    "else:\n",
    "    print(\"ok\")     # runs if no error\n",
    "finally:\n",
    "    print(\"done\")   # always runs\n",
    "```\n",
    "\n",
    "---"
   ]
  },
  {
   "cell_type": "markdown",
   "id": "fe9dacef",
   "metadata": {},
   "source": [
    "## <a id='toc1_9_'></a>[🔹 Comprehensions](#toc0_)\n",
    "```python\n",
    "[x*x for x in range(5)]      # list\n",
    "{x: x*x for x in range(5)}   # dict\n",
    "{x for x in \"hello\"}         # set\n",
    "```\n",
    "\n",
    "---"
   ]
  },
  {
   "cell_type": "markdown",
   "id": "92f6f594",
   "metadata": {},
   "source": [
    "## <a id='toc1_10_'></a>[🔹 Useful Modules](#toc0_)\n",
    "```python\n",
    "import math       # sqrt, floor, gcd, pi\n",
    "import random     # randint, choice, shuffle\n",
    "import itertools  # permutations, combinations, product\n",
    "import functools  # reduce, lru_cache\n",
    "import collections# Counter, defaultdict, deque\n",
    "import datetime   # date, datetime, timedelta\n",
    "```\n",
    "\n",
    "---"
   ]
  },
  {
   "cell_type": "markdown",
   "id": "25fe8bc4",
   "metadata": {},
   "source": [
    "## <a id='toc1_11_'></a>[🔹 Special Python Stuff](#toc0_)\n",
    "```python\n",
    "lambda x: x*x    # anonymous function\n",
    "\n",
    "def f(a,*args,**kwargs): ... # flexible args\n",
    "\n",
    "enumerate(lst)   # index + value\n",
    "zip(a,b)         # combine lists\n",
    "\n",
    "def gen():       # generator\n",
    "    yield 1\n",
    "    yield 2\n",
    "```\n"
   ]
  }
 ],
 "metadata": {
  "language_info": {
   "name": "python"
  }
 },
 "nbformat": 4,
 "nbformat_minor": 5
}
