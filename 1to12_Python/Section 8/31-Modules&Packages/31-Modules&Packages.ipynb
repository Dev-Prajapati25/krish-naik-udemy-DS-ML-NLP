{
 "cells": [
  {
   "cell_type": "markdown",
   "id": "6e7b48b4",
   "metadata": {},
   "source": [
    "## How to Create own Packages"
   ]
  },
  {
   "cell_type": "markdown",
   "id": "cc75b87a",
   "metadata": {},
   "source": [
    "***"
   ]
  },
  {
   "cell_type": "markdown",
   "id": "f5a956cb",
   "metadata": {},
   "source": [
    "* To create your own package, make a seperate folder for it           \n",
    "* It is compulsory to create an ```__init__.py``` file, this file tells python to treat that folder as a package      "
   ]
  },
  {
   "cell_type": "markdown",
   "id": "2ec4aebe",
   "metadata": {},
   "source": [
    "#### Package"
   ]
  },
  {
   "cell_type": "code",
   "execution_count": 2,
   "id": "50e5f433",
   "metadata": {},
   "outputs": [],
   "source": [
    "# The __init__.py file lets you write statement like this\n",
    "\n",
    "from package import utils\n",
    "# OR\n",
    "from package.utils import get_input"
   ]
  },
  {
   "cell_type": "code",
   "execution_count": 4,
   "id": "a899411e",
   "metadata": {},
   "outputs": [
    {
     "name": "stdout",
     "output_type": "stream",
     "text": [
      "12 <class 'int'>\n"
     ]
    }
   ],
   "source": [
    "age = get_input('What is your Age?', 'int')\n",
    "print(age, type(age))"
   ]
  },
  {
   "cell_type": "markdown",
   "id": "386b96f2",
   "metadata": {},
   "source": [
    "#### Subpackage"
   ]
  },
  {
   "cell_type": "code",
   "execution_count": 5,
   "id": "91c31a5c",
   "metadata": {},
   "outputs": [
    {
     "name": "stdout",
     "output_type": "stream",
     "text": [
      "Good Evening, Dev\n"
     ]
    }
   ],
   "source": [
    "from package.subpackage.greet import greet\n",
    "\n",
    "greet(19, 'Dev')"
   ]
  },
  {
   "cell_type": "code",
   "execution_count": null,
   "id": "333bbad3",
   "metadata": {},
   "outputs": [],
   "source": []
  }
 ],
 "metadata": {
  "kernelspec": {
   "display_name": "py-env",
   "language": "python",
   "name": "python3"
  },
  "language_info": {
   "codemirror_mode": {
    "name": "ipython",
    "version": 3
   },
   "file_extension": ".py",
   "mimetype": "text/x-python",
   "name": "python",
   "nbconvert_exporter": "python",
   "pygments_lexer": "ipython3",
   "version": "3.12.11"
  }
 },
 "nbformat": 4,
 "nbformat_minor": 5
}
