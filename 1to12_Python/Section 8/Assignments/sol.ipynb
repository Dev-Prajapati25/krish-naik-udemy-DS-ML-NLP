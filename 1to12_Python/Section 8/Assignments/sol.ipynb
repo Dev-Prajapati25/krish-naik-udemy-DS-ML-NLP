{
 "cells": [
  {
   "cell_type": "markdown",
   "id": "b02dd0a2",
   "metadata": {},
   "source": [
    "## Modules and Packages"
   ]
  },
  {
   "cell_type": "markdown",
   "id": "a40d1d86",
   "metadata": {},
   "source": [
    "### 5.1 Importing Modules"
   ]
  },
  {
   "cell_type": "code",
   "execution_count": 1,
   "id": "bcbb67a0",
   "metadata": {},
   "outputs": [
    {
     "name": "stdout",
     "output_type": "stream",
     "text": [
      "Square Root of 25 is: 5.0\n",
      "Sine of 90 degrees is: 1.0\n"
     ]
    }
   ],
   "source": [
    "# Assi 1\n",
    "import math\n",
    "\n",
    "print(f\"Square Root of 25 is: {math.sqrt(25)}\")\n",
    "\n",
    "degrees_90 = 90\n",
    "radian_90 = math.radians(degrees_90)\n",
    "print(f\"Sine of 90 degrees is: {math.sin(radian_90)}\")"
   ]
  },
  {
   "cell_type": "code",
   "execution_count": 3,
   "id": "4e34292d",
   "metadata": {},
   "outputs": [
    {
     "name": "stdout",
     "output_type": "stream",
     "text": [
      "Current time is: 2025-09-06 19:16:42.373903\n"
     ]
    }
   ],
   "source": [
    "# Assi 2\n",
    "from datetime import datetime as dt\n",
    "\n",
    "print(f\"Current time is:\", dt.now())"
   ]
  },
  {
   "cell_type": "code",
   "execution_count": 6,
   "id": "c7755824",
   "metadata": {},
   "outputs": [
    {
     "name": "stdout",
     "output_type": "stream",
     "text": [
      "91\n"
     ]
    }
   ],
   "source": [
    "# Assi 3\n",
    "from random import randint\n",
    "\n",
    "print(randint(1,100))"
   ]
  },
  {
   "cell_type": "code",
   "execution_count": null,
   "id": "64e0e537",
   "metadata": {},
   "outputs": [
    {
     "name": "stdout",
     "output_type": "stream",
     "text": [
      "Square root of 16 is: 4.0\n",
      "2 raised to the power of 3 is: 8.0\n"
     ]
    }
   ],
   "source": [
    "# Assi 4\n",
    "from math import sqrt, pow\n",
    "\n",
    "print(f\"Square root of 16 is: {sqrt(16)}\")\n",
    "print(f\"2 raised to the power of 3 is: {pow(2,3)}\")"
   ]
  },
  {
   "cell_type": "code",
   "execution_count": 9,
   "id": "cb364f21",
   "metadata": {},
   "outputs": [
    {
     "name": "stdout",
     "output_type": "stream",
     "text": [
      "Package not found\n"
     ]
    }
   ],
   "source": [
    "# Assi 5\n",
    "try:\n",
    "    import inexistent_package\n",
    "except ImportError:\n",
    "    print(\"Package not found\")"
   ]
  },
  {
   "cell_type": "markdown",
   "id": "49012f41",
   "metadata": {},
   "source": [
    "### 5.2 Standard Library"
   ]
  },
  {
   "cell_type": "code",
   "execution_count": null,
   "id": "21667924",
   "metadata": {},
   "outputs": [
    {
     "name": "stdout",
     "output_type": "stream",
     "text": [
      "k:\\Learn\\KrishNaik-Udemy-ML-Bootcamp\\1to12_Python\\Section 8\\Assignments\n"
     ]
    },
    {
     "data": {
      "text/plain": [
       "['packagesquestion.ipynb', 'packagessolution.ipynb', 'sol.ipynb']"
      ]
     },
     "execution_count": 15,
     "metadata": {},
     "output_type": "execute_result"
    }
   ],
   "source": [
    "# Assi 6\n",
    "\n",
    "import os\n",
    "\n",
    "# Current working directory\n",
    "print(os.getcwd())\n",
    "\n",
    "# Create new directory\n",
    "os.makedirs(\"test_folder\")\n",
    "\n",
    "# List contents of current directory\n",
    "os.listdir(os.getcwd())\n",
    "\n",
    "# Remove newly created directory\n",
    "os.rmdir(\"test_folder\")\n",
    "\n",
    "os.listdir(os.getcwd())"
   ]
  },
  {
   "cell_type": "code",
   "execution_count": null,
   "id": "ca6c3fcd",
   "metadata": {},
   "outputs": [
    {
     "name": "stdout",
     "output_type": "stream",
     "text": [
      "3.12.11 | packaged by Anaconda, Inc. | (main, Jun  5 2025, 12:58:53) [MSC v.1929 64 bit (AMD64)]\n",
      "c:\\Users\\pdev2\\anaconda3\\envs\\py-env\\Lib\\site-packages\\ipykernel_launcher.py\n",
      "--f=c:\\Users\\pdev2\\AppData\\Roaming\\jupyter\\runtime\\kernel-v3454595c0524e7a5720c342254e412955a7945727.json\n"
     ]
    }
   ],
   "source": [
    "# Assi 7\n",
    "import sys\n",
    "print(sys.version)\n",
    "\n",
    "for arg in sys.argv:\n",
    "    print(arg)"
   ]
  },
  {
   "cell_type": "code",
   "execution_count": 21,
   "id": "e2e676fe",
   "metadata": {},
   "outputs": [
    {
     "name": "stdout",
     "output_type": "stream",
     "text": [
      "GCD of 45 and 87 is 3\n",
      "Factorial of 8 is 40320\n"
     ]
    }
   ],
   "source": [
    "# Assi 8\n",
    "\n",
    "from math import gcd, factorial\n",
    "\n",
    "print(f\"GCD of 45 and 87 is {gcd(45,87)}\")\n",
    "print(f\"Factorial of 8 is {factorial(8)}\")"
   ]
  },
  {
   "cell_type": "code",
   "execution_count": 7,
   "id": "1bc3f8b0",
   "metadata": {},
   "outputs": [
    {
     "name": "stdout",
     "output_type": "stream",
     "text": [
      "Today's Date is 2025-09-07\n",
      "100 Days earlier: 2025-05-30\n",
      "Sunday\n",
      "Friday\n"
     ]
    }
   ],
   "source": [
    "# Assi 9\n",
    "import datetime\n",
    "\n",
    "# print current date\n",
    "today = datetime.date.today()\n",
    "print(\"Today's Date is\", today)\n",
    "\n",
    "# timedelta\n",
    "before_100_days = today - datetime.timedelta(days=100)\n",
    "print(\"100 Days earlier:\",before_100_days)\n",
    "\n",
    "# Print day name on particulare date\n",
    "print(today.strftime('%A'))\n",
    "print(before_100_days.strftime('%A'))"
   ]
  },
  {
   "cell_type": "code",
   "execution_count": 12,
   "id": "131326af",
   "metadata": {},
   "outputs": [
    {
     "name": "stdout",
     "output_type": "stream",
     "text": [
      "Original List : [37, 11, 41, 34, 45]\n",
      "Shuffled List : [37, 34, 41, 45, 11]\n"
     ]
    }
   ],
   "source": [
    "# Assi 10\n",
    "import random\n",
    "\n",
    "rand_5nums = [random.randint(1,50) for _ in range(5)]\n",
    "print(\"Original List :\",rand_5nums)\n",
    "\n",
    "random.shuffle(rand_5nums)\n",
    "print(\"Shuffled List :\",rand_5nums)"
   ]
  },
  {
   "cell_type": "markdown",
   "id": "a8a7b8b5",
   "metadata": {},
   "source": [
    "### 5.3 Creating and Using Packages"
   ]
  },
  {
   "cell_type": "code",
   "execution_count": 23,
   "id": "f8c802db",
   "metadata": {},
   "outputs": [
    {
     "name": "stdout",
     "output_type": "stream",
     "text": [
      "['mypackage', 'packagesquestion.ipynb', 'packagessolution.ipynb', 'sol.ipynb']\n",
      "57\n",
      "408\n"
     ]
    }
   ],
   "source": [
    "# Assi 11\n",
    "import os\n",
    "os.getcwd()\n",
    "\n",
    "if not os.path.exists('mypackage'):\n",
    "    os.mkdir('mypackage')\n",
    "\n",
    "print(os.listdir())\n",
    "\n",
    "# module1\n",
    "if not os.path.exists(\"mypackage/module1.py\"):\n",
    "    open(\"mypackage/module1.py\", mode=\"x\")\n",
    "\n",
    "# module2\n",
    "if not os.path.exists(\"mypackage/module2.py\"):\n",
    "    open(\"mypackage/module2.py\", mode=\"x\")\n",
    "\n",
    "\n",
    "from mypackage.module1 import add\n",
    "print(add(12,45))\n",
    "\n",
    "from mypackage.module2 import multiply\n",
    "print(multiply(12,34))"
   ]
  },
  {
   "cell_type": "code",
   "execution_count": 26,
   "id": "dc437610",
   "metadata": {},
   "outputs": [
    {
     "name": "stdout",
     "output_type": "stream",
     "text": [
      "3\n",
      "2\n"
     ]
    }
   ],
   "source": [
    "# Assi 12\n",
    "if not os.path.exists(\"mypackage/__init__.py\"):\n",
    "    open(\"mypackage/__init__.py\", mode=\"x\")\n",
    "\n",
    "import mypackage\n",
    "\n",
    "print(mypackage.module1.add(1,2))\n",
    "print(mypackage.module2.multiply(1,2))\n"
   ]
  },
  {
   "cell_type": "code",
   "execution_count": 30,
   "id": "509b89de",
   "metadata": {},
   "outputs": [
    {
     "name": "stdout",
     "output_type": "stream",
     "text": [
      "24\n",
      "1035\n"
     ]
    }
   ],
   "source": [
    "# Assi 13\n",
    "from mypackage import *\n",
    "\n",
    "print(add(1,23))\n",
    "print(multiply(23,45))"
   ]
  },
  {
   "cell_type": "markdown",
   "id": "65297104",
   "metadata": {},
   "source": [
    "***"
   ]
  },
  {
   "cell_type": "markdown",
   "id": "2c1f4d90",
   "metadata": {},
   "source": [
    "#### NOTE about ```__init__.py```"
   ]
  },
  {
   "cell_type": "markdown",
   "id": "cb41d137",
   "metadata": {},
   "source": [
    "__Whatever you write inside ```__init__.py``` gets executed when you import the package that it is in__"
   ]
  },
  {
   "cell_type": "markdown",
   "id": "85ead5b9",
   "metadata": {},
   "source": [
    "***"
   ]
  },
  {
   "cell_type": "code",
   "execution_count": 33,
   "id": "88ade7bb",
   "metadata": {},
   "outputs": [
    {
     "name": "stdout",
     "output_type": "stream",
     "text": [
      "66\n",
      "32\n"
     ]
    }
   ],
   "source": [
    "# Assi 14\n",
    "import mypackage\n",
    "\n",
    "'''__init__.py\n",
    "from . import module1\n",
    "from .subpackage import module2\n",
    "\n",
    "the above code exectues as we import mypackage,\n",
    "and hence both module1 and module2 are imported with mypackage\n",
    "'''\n",
    "\n",
    "print(add(23,43))\n",
    "print(multiply(4,8))"
   ]
  },
  {
   "cell_type": "code",
   "execution_count": 34,
   "id": "ea5fafbe",
   "metadata": {},
   "outputs": [
    {
     "name": "stdout",
     "output_type": "stream",
     "text": [
      "Cannot find 'mypackage.inexistent'\n"
     ]
    }
   ],
   "source": [
    "# Assi 15\n",
    "try:\n",
    "    import mypackage.inexistent\n",
    "except ImportError:\n",
    "    print(\"Cannot find 'mypackage.inexistent'\")"
   ]
  },
  {
   "cell_type": "code",
   "execution_count": null,
   "id": "376a15c9",
   "metadata": {},
   "outputs": [],
   "source": []
  }
 ],
 "metadata": {
  "kernelspec": {
   "display_name": "py-env",
   "language": "python",
   "name": "python3"
  },
  "language_info": {
   "codemirror_mode": {
    "name": "ipython",
    "version": 3
   },
   "file_extension": ".py",
   "mimetype": "text/x-python",
   "name": "python",
   "nbconvert_exporter": "python",
   "pygments_lexer": "ipython3",
   "version": "3.12.11"
  }
 },
 "nbformat": 4,
 "nbformat_minor": 5
}
