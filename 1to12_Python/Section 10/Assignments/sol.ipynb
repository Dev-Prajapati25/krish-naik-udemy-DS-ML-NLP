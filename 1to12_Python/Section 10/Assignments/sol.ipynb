{
 "cells": [
  {
   "cell_type": "markdown",
   "id": "4cc1b6fa",
   "metadata": {},
   "source": [
    "# Exception Handling"
   ]
  },
  {
   "cell_type": "code",
   "execution_count": null,
   "id": "99ddb3af",
   "metadata": {},
   "outputs": [
    {
     "name": "stdout",
     "output_type": "stream",
     "text": [
      "2.0\n",
      "Error: 'denominator' cannot be zero\n"
     ]
    }
   ],
   "source": [
    "# assi 1\n",
    "def division(numerator,denominator):\n",
    "    try:\n",
    "        return numerator/denominator\n",
    "    except ZeroDivisionError:\n",
    "        return \"Error: 'denominator' cannot be zero\"\n",
    "\n",
    "print(division(12,6))\n",
    "print(division(12,0))"
   ]
  },
  {
   "cell_type": "code",
   "execution_count": 4,
   "id": "607e08c4",
   "metadata": {},
   "outputs": [
    {
     "name": "stdout",
     "output_type": "stream",
     "text": [
      "line 01\n",
      "line 02\n",
      "line 03\n",
      "File Not found!\n"
     ]
    }
   ],
   "source": [
    "# Assi 2\n",
    "def readfile(filename):\n",
    "    try:\n",
    "        file = open(filename, \"r\")\n",
    "        content = file.read()\n",
    "    except FileNotFoundError:\n",
    "        return \"File Not found!\"\n",
    "    else:\n",
    "        file.close()\n",
    "        return content\n",
    "    \n",
    "print(readfile(\"data.txt\"))\n",
    "print(readfile(\"inexistent.txt\"))"
   ]
  },
  {
   "cell_type": "code",
   "execution_count": null,
   "id": "7740ae28",
   "metadata": {},
   "outputs": [
    {
     "data": {
      "text/plain": [
       "3"
      ]
     },
     "execution_count": 5,
     "metadata": {},
     "output_type": "execute_result"
    }
   ],
   "source": [
    "# assi 3\n",
    "def sum_list(list_of_nums):\n",
    "    sum=0\n",
    "    try:\n",
    "        for i in list_of_nums:\n",
    "            sum += i\n",
    "    except TypeError:\n",
    "        print(\"list should only contain integer values\")\n",
    "    except Exception as e:\n",
    "        print(e)\n",
    "    else:\n",
    "        return sum\n",
    "sum_list([1,2])"
   ]
  },
  {
   "cell_type": "code",
   "execution_count": null,
   "id": "e73b4784",
   "metadata": {},
   "outputs": [],
   "source": [
    "# assi 4\n",
    "def int_input():\n",
    "    try:\n",
    "        n = int(input(\"Enter a number: \"))\n",
    "    except ValueError:\n",
    "        print(\"Enter a valid number\")\n",
    "    except Exception as e:\n",
    "        print(e)\n",
    "int_input()"
   ]
  },
  {
   "cell_type": "code",
   "execution_count": 9,
   "id": "49693767",
   "metadata": {},
   "outputs": [
    {
     "name": "stdout",
     "output_type": "stream",
     "text": [
      "Key not found\n"
     ]
    },
    {
     "data": {
      "text/plain": [
       "2"
      ]
     },
     "execution_count": 9,
     "metadata": {},
     "output_type": "execute_result"
    }
   ],
   "source": [
    "# assi 5\n",
    "def get_value(dicti:dict, key):\n",
    "    try:\n",
    "        value = dicti[key]\n",
    "    except KeyError:\n",
    "        print(\"Key not found\")\n",
    "    except Exception as e:\n",
    "        print(e)\n",
    "    else:\n",
    "        return value\n",
    "get_value({\"a\":1, \"b\":2}, \"c\")\n",
    "get_value({\"a\":1, \"b\":2}, \"b\")"
   ]
  },
  {
   "cell_type": "code",
   "execution_count": 13,
   "id": "c88d255e",
   "metadata": {},
   "outputs": [
    {
     "name": "stdout",
     "output_type": "stream",
     "text": [
      "Number cannot be zero\n",
      "Enter a valid number\n"
     ]
    },
    {
     "data": {
      "text/plain": [
       "1.0"
      ]
     },
     "execution_count": 13,
     "metadata": {},
     "output_type": "execute_result"
    }
   ],
   "source": [
    "# assi 6\n",
    "def divide_strtonum(number:str):\n",
    "    try:\n",
    "        num = int(number)\n",
    "        try:\n",
    "            res = num/num\n",
    "        except ZeroDivisionError:\n",
    "            print(\"Number cannot be zero\")\n",
    "        else:\n",
    "            return res\n",
    "    except ValueError:\n",
    "        print(\"Enter a valid number\")\n",
    "    \n",
    "divide_strtonum(\"0\")\n",
    "divide_strtonum(\"s\")\n",
    "divide_strtonum(\"7\")"
   ]
  },
  {
   "cell_type": "code",
   "execution_count": 15,
   "id": "3395712f",
   "metadata": {},
   "outputs": [
    {
     "name": "stdout",
     "output_type": "stream",
     "text": [
      "No error occurred\n",
      "7.98\n",
      "No error occurred\n",
      "asd\n"
     ]
    }
   ],
   "source": [
    "# assi 7\n",
    "def get_element(lst:list, index:int):\n",
    "    try:\n",
    "        res = lst[index]\n",
    "    except IndexError:\n",
    "        print(\"Invalid 'Index'\")\n",
    "    else:\n",
    "        print(\"No error occurred\")\n",
    "    finally:\n",
    "        return res\n",
    "    \n",
    "print(get_element([1,\"a\", 7.98], 2))\n",
    "print(get_element([1,'asd','4.56'],1))"
   ]
  },
  {
   "cell_type": "markdown",
   "id": "08024286",
   "metadata": {},
   "source": [
    "***"
   ]
  },
  {
   "cell_type": "markdown",
   "id": "fcfd8f64",
   "metadata": {},
   "source": [
    "## Reading a URL"
   ]
  },
  {
   "cell_type": "code",
   "execution_count": 16,
   "id": "7707807f",
   "metadata": {},
   "outputs": [
    {
     "name": "stdout",
     "output_type": "stream",
     "text": [
      "<!doctype html>\n",
      "<html>\n",
      "<head>\n",
      "    <title>Example Domain</title>\n",
      "\n",
      "    <meta charset=\"utf-8\" />\n",
      "    <meta http-equiv=\"Content-type\" content=\"text/html; charset=utf-8\" />\n",
      "    <meta name=\"viewport\" content=\"width=device-width, initial-scale=1\" />\n",
      "    <style type=\"text/css\">\n",
      "    body {\n",
      "        background-color: #f0f0f2;\n",
      "        margin: 0;\n",
      "        padding: 0;\n",
      "        font-family: -apple-system, system-ui, BlinkMacSystemFont, \"Segoe UI\", \"Open Sans\", \"Helvetica Neue\", Helvetica, Arial, sans-serif;\n",
      "    \n"
     ]
    }
   ],
   "source": [
    "import urllib.request\n",
    "\n",
    "url = \"https://www.example.com\"\n",
    "\n",
    "try:\n",
    "    with urllib.request.urlopen(url) as response:\n",
    "        html_content = response.read().decode('utf-8')  # Read and decode the content\n",
    "        print(html_content[:500])  # Print the first 500 characters of the HTML\n",
    "except urllib.error.URLError as e:\n",
    "    print(f\"Error opening URL: {e.reason}\")"
   ]
  },
  {
   "cell_type": "markdown",
   "id": "9bca4131",
   "metadata": {},
   "source": [
    "***"
   ]
  },
  {
   "cell_type": "code",
   "execution_count": 19,
   "id": "1a457a71",
   "metadata": {},
   "outputs": [
    {
     "name": "stdout",
     "output_type": "stream",
     "text": [
      "Error occured - <urlopen error unknown url type: htt>\n",
      "Program executed with errors\n"
     ]
    }
   ],
   "source": [
    "# assi 8\n",
    "import urllib.request\n",
    "\n",
    "url = \"htt://www.google.com/webhp?hl=en&sa=X&ved=0ahUKEwjk4pPKyc2PAxU1xzgGHTrUHhIQPAgI\"\n",
    "\n",
    "try:\n",
    "    error = 0\n",
    "    with urllib.request.urlopen(url) as response:\n",
    "        content = response.read().decode('utf-8')\n",
    "        print(\"CONTENT:\\n\",content[:500])\n",
    "except urllib.error.URLError as e:\n",
    "    error = 1\n",
    "    print(f\"Error occured - {e}\")\n",
    "finally:\n",
    "    if error == 1: print(\"Program executed with errors\")\n",
    "    else : print(\"Program executed without errors\")\n",
    "    "
   ]
  },
  {
   "cell_type": "code",
   "execution_count": 26,
   "id": "109f6237",
   "metadata": {},
   "outputs": [
    {
     "name": "stdout",
     "output_type": "stream",
     "text": [
      "Invlaid JSON\n",
      "{'name': 'Alice', 'age': 21, 'is_student': True, 'courses': ['Math', 'CS', 'Physics'], 'address': {'city': 'Delhi', 'zip': '110001'}}\n"
     ]
    }
   ],
   "source": [
    "# Assi 9\n",
    "import json\n",
    "\n",
    "file1 = \"json-files/valid.json\"\n",
    "file2 = \"json-files/invalid.json\"\n",
    "\n",
    "data1 = open(file1)\n",
    "data2 = open(file2)\n",
    "\n",
    "content1 = data1.read()\n",
    "content2 = data2.read()\n",
    "\n",
    "\n",
    "try:\n",
    "    json2 = json.loads(content2)\n",
    "except json.JSONDecodeError:\n",
    "    print(\"Invlaid JSON\")\n",
    "try:\n",
    "    json1 = json.loads(content1)\n",
    "except json.JSONDecodeError:\n",
    "    print(\"Invlaid JSON\")\n",
    "else:\n",
    "    print(json1)"
   ]
  },
  {
   "cell_type": "markdown",
   "id": "591950c1",
   "metadata": {},
   "source": [
    "***"
   ]
  },
  {
   "cell_type": "markdown",
   "id": "55381085",
   "metadata": {},
   "source": [
    "## Defining custom errors"
   ]
  },
  {
   "cell_type": "code",
   "execution_count": 27,
   "id": "38d2ef95",
   "metadata": {},
   "outputs": [
    {
     "name": "stdout",
     "output_type": "stream",
     "text": [
      "Error occured\n"
     ]
    }
   ],
   "source": [
    "class MyCustomError(Exception):\n",
    "    pass\n",
    "\n",
    "try:\n",
    "    raise MyCustomError(\"Error occured\")\n",
    "except MyCustomError as e:\n",
    "    print(e)"
   ]
  },
  {
   "cell_type": "markdown",
   "id": "5dd2e420",
   "metadata": {},
   "source": [
    "***"
   ]
  },
  {
   "cell_type": "code",
   "execution_count": 29,
   "id": "f088fab0",
   "metadata": {},
   "outputs": [
    {
     "name": "stdout",
     "output_type": "stream",
     "text": [
      "Error Occured: -3 is Negative\n"
     ]
    }
   ],
   "source": [
    "# assi 10\n",
    "class NegativeNumberError(Exception):\n",
    "    pass\n",
    "\n",
    "def check_list(lst:list):\n",
    "    try:\n",
    "        for i in lst:\n",
    "            if i < 0: raise NegativeNumberError(f\"{i} is Negative\")\n",
    "    except NegativeNumberError as e:\n",
    "        print(f\"Error Occured: {e}\")\n",
    "\n",
    "check_list([1,2,3,4,5,-3]) "
   ]
  },
  {
   "cell_type": "code",
   "execution_count": null,
   "id": "de4f8dd7",
   "metadata": {},
   "outputs": [
    {
     "name": "stdout",
     "output_type": "stream",
     "text": [
      "Error Occured : False\n"
     ]
    },
    {
     "data": {
      "text/plain": [
       "True"
      ]
     },
     "execution_count": 31,
     "metadata": {},
     "output_type": "execute_result"
    }
   ],
   "source": [
    "# assi 11\n",
    "def complement(val:bool):\n",
    "    if val == True: raise Exception(\"False\")\n",
    "    else: return True\n",
    "\n",
    "def something(val):\n",
    "    try:\n",
    "        complement(val)\n",
    "    except Exception as e:\n",
    "        print(f\"Error Occured : {e}\")\n",
    "    else:\n",
    "        print(\"No error Occured\")\n",
    "    finally: return True\n",
    "\n",
    "something(1)"
   ]
  },
  {
   "cell_type": "code",
   "execution_count": null,
   "id": "217deebe",
   "metadata": {},
   "outputs": [
    {
     "name": "stdout",
     "output_type": "stream",
     "text": [
      "'num2' cannot be Zero\n",
      "Program Executed\n",
      "2.0\n",
      "Program Executed\n"
     ]
    }
   ],
   "source": [
    "# assi 12\n",
    "class Calculator:\n",
    "    def __init__(self, num1, num2):\n",
    "        self.num1 = num1\n",
    "        self.num2 = num2\n",
    "    \n",
    "    def division(self):\n",
    "        try:\n",
    "            div = self.num1 / self.num2\n",
    "        except ZeroDivisionError:\n",
    "            print(\"'num2' cannot be Zero\")\n",
    "        except Exception as e:\n",
    "            print(e)\n",
    "        else:\n",
    "            print(div)\n",
    "        finally:\n",
    "            print(\"Program Executed\")\n",
    "\n",
    "op1 = Calculator(12, 0)\n",
    "op1.division()\n",
    "op2 = Calculator(12, 6)\n",
    "op2.division()"
   ]
  },
  {
   "cell_type": "code",
   "execution_count": 34,
   "id": "2fd461be",
   "metadata": {},
   "outputs": [
    {
     "name": "stdout",
     "output_type": "stream",
     "text": [
      "Error Occured !\n",
      "All items of list should be either int or string integers\n",
      "Program Executed\n",
      "Program Executed\n"
     ]
    }
   ],
   "source": [
    "# assi 13\n",
    "def convert_to_int_list(list_of_str):\n",
    "    try:\n",
    "        for i in range(len(list_of_str)):\n",
    "            list_of_str[i] = int(list_of_str[i])\n",
    "    except ValueError:\n",
    "        print(\"Error Occured !\\nAll items of list should be either int or string integers\")\n",
    "    finally:\n",
    "        print(\"Program Executed\")\n",
    "\n",
    "convert_to_int_list(['1','2','d'])\n",
    "convert_to_int_list(['1','2','3'])\n"
   ]
  },
  {
   "cell_type": "code",
   "execution_count": 35,
   "id": "5b591142",
   "metadata": {},
   "outputs": [
    {
     "name": "stdout",
     "output_type": "stream",
     "text": [
      "invalid literal for int() with base 10: 'd'\n",
      "[1, 2, 3]\n"
     ]
    }
   ],
   "source": [
    "# assi 14\n",
    "def converttointlst(lst):\n",
    "    try:\n",
    "        new_lst = [int(item) for item in lst]\n",
    "    except ValueError as e:\n",
    "        print(e)\n",
    "    else:\n",
    "        return new_lst\n",
    "    \n",
    "lst1 = ['1', '2', 'd']\n",
    "converttointlst(lst1)\n",
    "lst1 = ['1', '2', '3']\n",
    "print(converttointlst(lst1))"
   ]
  },
  {
   "cell_type": "code",
   "execution_count": 39,
   "id": "ddc3a27d",
   "metadata": {},
   "outputs": [
    {
     "name": "stdout",
     "output_type": "stream",
     "text": [
      "Program executed succesfully\n",
      "Program executed succesfully\n"
     ]
    }
   ],
   "source": [
    "def write_lst(filename,lst):\n",
    "    try:\n",
    "        with open(filename,\"a\") as file:\n",
    "            file.writelines(lst)\n",
    "    except IOError as e:\n",
    "        print(e)\n",
    "    else:\n",
    "        print(\"Program executed succesfully\")\n",
    "    finally:\n",
    "        file.close()\n",
    "\n",
    "write_lst(\"txt-files/test.txt\", [\"hello\", \"there\"])\n",
    "write_lst(\"txt-files/test2.txt\", [\"hello\", \"there\"])"
   ]
  },
  {
   "cell_type": "code",
   "execution_count": null,
   "id": "b7f7de0e",
   "metadata": {},
   "outputs": [],
   "source": []
  }
 ],
 "metadata": {
  "kernelspec": {
   "display_name": "py-env",
   "language": "python",
   "name": "python3"
  },
  "language_info": {
   "codemirror_mode": {
    "name": "ipython",
    "version": 3
   },
   "file_extension": ".py",
   "mimetype": "text/x-python",
   "name": "python",
   "nbconvert_exporter": "python",
   "pygments_lexer": "ipython3",
   "version": "3.12.11"
  }
 },
 "nbformat": 4,
 "nbformat_minor": 5
}
