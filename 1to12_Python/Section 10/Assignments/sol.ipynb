{
 "cells": [
  {
   "cell_type": "markdown",
   "id": "4cc1b6fa",
   "metadata": {},
   "source": [
    "# Exception Handling"
   ]
  },
  {
   "cell_type": "code",
   "execution_count": null,
   "id": "99ddb3af",
   "metadata": {},
   "outputs": [
    {
     "name": "stdout",
     "output_type": "stream",
     "text": [
      "2.0\n",
      "Error: 'denominator' cannot be zero\n"
     ]
    }
   ],
   "source": [
    "# assi 1\n",
    "def division(numerator,denominator):\n",
    "    try:\n",
    "        return numerator/denominator\n",
    "    except ZeroDivisionError:\n",
    "        return \"Error: 'denominator' cannot be zero\"\n",
    "\n",
    "print(division(12,6))\n",
    "print(division(12,0))"
   ]
  },
  {
   "cell_type": "code",
   "execution_count": 4,
   "id": "607e08c4",
   "metadata": {},
   "outputs": [
    {
     "name": "stdout",
     "output_type": "stream",
     "text": [
      "line 01\n",
      "line 02\n",
      "line 03\n",
      "File Not found!\n"
     ]
    }
   ],
   "source": [
    "# Assi 2\n",
    "def readfile(filename):\n",
    "    try:\n",
    "        file = open(filename, \"r\")\n",
    "        content = file.read()\n",
    "    except FileNotFoundError:\n",
    "        return \"File Not found!\"\n",
    "    else:\n",
    "        file.close()\n",
    "        return content\n",
    "    \n",
    "print(readfile(\"data.txt\"))\n",
    "print(readfile(\"inexistent.txt\"))"
   ]
  },
  {
   "cell_type": "code",
   "execution_count": null,
   "id": "7740ae28",
   "metadata": {},
   "outputs": [],
   "source": [
    "def sum_list(integers:list)"
   ]
  }
 ],
 "metadata": {
  "kernelspec": {
   "display_name": "py-env",
   "language": "python",
   "name": "python3"
  },
  "language_info": {
   "codemirror_mode": {
    "name": "ipython",
    "version": 3
   },
   "file_extension": ".py",
   "mimetype": "text/x-python",
   "name": "python",
   "nbconvert_exporter": "python",
   "pygments_lexer": "ipython3",
   "version": "3.12.11"
  }
 },
 "nbformat": 4,
 "nbformat_minor": 5
}
