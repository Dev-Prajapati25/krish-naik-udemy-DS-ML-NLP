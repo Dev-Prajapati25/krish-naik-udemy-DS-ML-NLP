{
 "cells": [
  {
   "cell_type": "markdown",
   "id": "53591a6a",
   "metadata": {},
   "source": [
    "## Lesson 3.2: Tuples"
   ]
  },
  {
   "cell_type": "markdown",
   "id": "2f299288",
   "metadata": {},
   "source": [
    "***"
   ]
  },
  {
   "cell_type": "code",
   "execution_count": 1,
   "id": "6360672a",
   "metadata": {},
   "outputs": [
    {
     "name": "stdout",
     "output_type": "stream",
     "text": [
      "(1, 2, 3, 4, 5, 6, 7, 8, 9, 10)\n"
     ]
    }
   ],
   "source": [
    "# Assi 1\n",
    "tup1 = (1,2,3,4,5,6,7,8,9,10)\n",
    "print(tup1)"
   ]
  },
  {
   "cell_type": "code",
   "execution_count": 2,
   "id": "c5931b26",
   "metadata": {},
   "outputs": [
    {
     "name": "stdout",
     "output_type": "stream",
     "text": [
      "1\n",
      "[2, 3, 4, 5, 6, 7, 8, 9]\n",
      "10\n"
     ]
    }
   ],
   "source": [
    "# Assi 2\n",
    "first, *middle, last = tup1\n",
    "print(f\"{first}\\n{middle}\\n{last}\")"
   ]
  },
  {
   "cell_type": "code",
   "execution_count": 6,
   "id": "b7687286",
   "metadata": {},
   "outputs": [
    {
     "name": "stdout",
     "output_type": "stream",
     "text": [
      "First three: (1, 2, 3)\n",
      "Index 2 to 5: (3, 4, 5, 6)\n",
      "Last three: (8, 9, 10)\n"
     ]
    }
   ],
   "source": [
    "# Assi 3\n",
    "print(f\"First three: {tup1[:3]}\")\n",
    "print(f\"Index 2 to 5: {tup1[2:6]}\")\n",
    "print(f\"Last three: {tup1[-3:]}\")"
   ]
  },
  {
   "cell_type": "code",
   "execution_count": 7,
   "id": "6b15914a",
   "metadata": {},
   "outputs": [
    {
     "name": "stdout",
     "output_type": "stream",
     "text": [
      "Element at second row, third column\n",
      " 6\n"
     ]
    }
   ],
   "source": [
    "# Assi 4\n",
    "tup4 = (\n",
    "    (1,2,3),\n",
    "    (4,5,6),\n",
    "    (7,8,9)\n",
    ")\n",
    "\n",
    "print(\"Element at second row, third column\\n\", tup4[1][2])"
   ]
  },
  {
   "cell_type": "code",
   "execution_count": 8,
   "id": "e44adc9b",
   "metadata": {},
   "outputs": [
    {
     "name": "stdout",
     "output_type": "stream",
     "text": [
      "(1, 2, 3, 4, 5, 6)\n"
     ]
    }
   ],
   "source": [
    "# Assi 5\n",
    "tup5 = (1,2,3) + (4,5,6)\n",
    "print(tup5)"
   ]
  },
  {
   "cell_type": "code",
   "execution_count": 2,
   "id": "2648637d",
   "metadata": {},
   "outputs": [
    {
     "name": "stdout",
     "output_type": "stream",
     "text": [
      "2\n",
      "3\n"
     ]
    }
   ],
   "source": [
    "# Assi 6\n",
    "tup6 = (1,2,3,4,4,5)\n",
    "print(tup6.count(4))\n",
    "print(tup6.index(4))\n"
   ]
  },
  {
   "cell_type": "code",
   "execution_count": 3,
   "id": "99064546",
   "metadata": {},
   "outputs": [
    {
     "name": "stdout",
     "output_type": "stream",
     "text": [
      "Name: Dev\n",
      "Age:21\n",
      "BirthDate: 25 October of 2004\n"
     ]
    }
   ],
   "source": [
    "# Assi 7\n",
    "tup7 = ('Dev', 21, '25', 'October' ,'2004')\n",
    "name, age, bday, bmonth, byear = tup7\n",
    "\n",
    "print(f\"Name: {name}\\nAge:{age}\\nBirthDate: {bday} {bmonth} of {byear}\")"
   ]
  },
  {
   "cell_type": "code",
   "execution_count": 4,
   "id": "8fe14236",
   "metadata": {},
   "outputs": [
    {
     "name": "stdout",
     "output_type": "stream",
     "text": [
      "(1, 2, 3, 4, 5)\n"
     ]
    }
   ],
   "source": [
    "# Assi 8\n",
    "lst8 = [1,2,3,4,5]\n",
    "tup8 = tuple(lst8)\n",
    "print(tup8)"
   ]
  },
  {
   "cell_type": "code",
   "execution_count": 6,
   "id": "906ccf82",
   "metadata": {},
   "outputs": [
    {
     "name": "stdout",
     "output_type": "stream",
     "text": [
      "((1, 2, 3), ('a', 'b', 'c'), (True, False, None))\n"
     ]
    }
   ],
   "source": [
    "# Assi 9\n",
    "tup9 = (\n",
    "    (1,2,3),\n",
    "    ('a', 'b', 'c'),\n",
    "    (True, False, None)\n",
    ")\n",
    "\n",
    "print(tup9)"
   ]
  },
  {
   "cell_type": "code",
   "execution_count": 7,
   "id": "2c5f1abd",
   "metadata": {},
   "outputs": [
    {
     "name": "stdout",
     "output_type": "stream",
     "text": [
      "Tuple:  (1, 2, 3, 4, 5)\n",
      "List:  [1, 2, 3, 4, 5, 6]\n",
      "New Tuple:  (1, 2, 3, 4, 5, 6)\n"
     ]
    }
   ],
   "source": [
    "# Assi 10\n",
    "tup10 = (1,2,3,4,5)\n",
    "print(\"Tuple: \",tup10)\n",
    "\n",
    "lst10 = list(tup10)\n",
    "lst10.append(6)\n",
    "print(\"List: \", lst10)\n",
    "\n",
    "tup10 = tuple(lst10)\n",
    "print(\"New Tuple: \",tup10)"
   ]
  },
  {
   "cell_type": "code",
   "execution_count": null,
   "id": "c2784093",
   "metadata": {},
   "outputs": [
    {
     "name": "stdout",
     "output_type": "stream",
     "text": [
      "Tuple:  ('C', 'h', 'a', 'n', 'd', 'l', 'e', 'r')\n",
      "String:  Chandler\n"
     ]
    }
   ],
   "source": [
    "# Assi 11\n",
    "tup11 = ('C', 'h', 'a', 'n', 'd', 'l', 'e', 'r')\n",
    "print(\"Tuple: \", tup11)\n",
    "str11 = \"\".join(tup11)\n",
    "print(\"String: \", str11)"
   ]
  },
  {
   "cell_type": "code",
   "execution_count": 12,
   "id": "e4c55109",
   "metadata": {},
   "outputs": [
    {
     "name": "stdout",
     "output_type": "stream",
     "text": [
      "{('Dev', 21): 68, ('Chandler', 26): 71}\n"
     ]
    }
   ],
   "source": [
    "# Assi 12\n",
    "dict12 = {\n",
    "    ('Dev', 21): 68,\n",
    "    ('Chandler', 26): 71,\n",
    "}\n",
    "print(dict12)"
   ]
  },
  {
   "cell_type": "code",
   "execution_count": 14,
   "id": "d8ec4225",
   "metadata": {},
   "outputs": [
    {
     "name": "stdout",
     "output_type": "stream",
     "text": [
      "1 2 3 4 5 \n",
      "6 7 8 9 10 \n"
     ]
    }
   ],
   "source": [
    "# Assi 13\n",
    "tup13 =(\n",
    "    (1,2,3,4,5),\n",
    "    (6,7,8,9,10)\n",
    ")\n",
    "\n",
    "for sub_tuple in tup13:\n",
    "    for item in sub_tuple:\n",
    "        print(item, end=\" \")\n",
    "    print()"
   ]
  },
  {
   "cell_type": "code",
   "execution_count": 19,
   "id": "4cc741a5",
   "metadata": {},
   "outputs": [
    {
     "name": "stdout",
     "output_type": "stream",
     "text": [
      "{'f', 'd', 'a', 'b'}\n"
     ]
    }
   ],
   "source": [
    "# Assi 14\n",
    "tup14 = ('a', 'b', 'a', 'd', 'f', 'd')\n",
    "set14 = set(tup14)\n",
    "print((set14))"
   ]
  },
  {
   "cell_type": "code",
   "execution_count": 24,
   "id": "fd536cd9",
   "metadata": {},
   "outputs": [
    {
     "name": "stdout",
     "output_type": "stream",
     "text": [
      "Tuple:  (1024, 1089, 1156, 1225, 1296, 1369)\n",
      "Minimum: 1024\n",
      "Maximum: 1369\n",
      "Sum: 7159\n"
     ]
    }
   ],
   "source": [
    "# Assi 15\n",
    "def min_max_sum(tup: tuple):\n",
    "    res = f\"Minimum: {min(tup)}\\nMaximum: {max(tup)}\\nSum: {sum(tup)}\"\n",
    "    return res\n",
    "\n",
    "tup15 = tuple([x**2 for x in range(32,38)])\n",
    "print(\"Tuple: \",tup15)\n",
    "print(min_max_sum(tup15))"
   ]
  }
 ],
 "metadata": {
  "kernelspec": {
   "display_name": "py-env",
   "language": "python",
   "name": "python3"
  },
  "language_info": {
   "codemirror_mode": {
    "name": "ipython",
    "version": 3
   },
   "file_extension": ".py",
   "mimetype": "text/x-python",
   "name": "python",
   "nbconvert_exporter": "python",
   "pygments_lexer": "ipython3",
   "version": "3.12.11"
  }
 },
 "nbformat": 4,
 "nbformat_minor": 5
}
