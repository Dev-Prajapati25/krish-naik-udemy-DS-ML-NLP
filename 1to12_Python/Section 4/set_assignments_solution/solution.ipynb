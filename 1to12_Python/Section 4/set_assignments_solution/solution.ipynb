{
 "cells": [
  {
   "cell_type": "markdown",
   "id": "61410d4b",
   "metadata": {},
   "source": [
    "## <a id='toc1_1_'></a>[Lesson 3.3: Sets](#toc0_)"
   ]
  },
  {
   "cell_type": "markdown",
   "id": "2c252255",
   "metadata": {},
   "source": [
    "**Table of contents**<a id='toc0_'></a>    \n",
    "- [Lesson 3.3: Sets](#toc1_1_)    \n",
    "    - [```frozenset()```](#toc1_1_1_)    \n",
    "    - [Dictionary Keys should be _Immutable_](#toc1_1_2_)    \n",
    "\n",
    "<!-- vscode-jupyter-toc-config\n",
    "\tnumbering=false\n",
    "\tanchor=true\n",
    "\tflat=false\n",
    "\tminLevel=1\n",
    "\tmaxLevel=6\n",
    "\t/vscode-jupyter-toc-config -->\n",
    "<!-- THIS CELL WILL BE REPLACED ON TOC UPDATE. DO NOT WRITE YOUR TEXT IN THIS CELL -->"
   ]
  },
  {
   "cell_type": "code",
   "execution_count": 1,
   "id": "03286a23",
   "metadata": {},
   "outputs": [
    {
     "name": "stdout",
     "output_type": "stream",
     "text": [
      "{1, 2, 3, 4, 5, 6, 7, 8, 9, 10}\n",
      "<class 'set'>\n"
     ]
    }
   ],
   "source": [
    "# Assi 1\n",
    "set1 = {1,2,3,4,5,6,7,8,9,10}\n",
    "print(set1)\n",
    "print(type(set1))"
   ]
  },
  {
   "cell_type": "code",
   "execution_count": null,
   "id": "11ba2b93",
   "metadata": {},
   "outputs": [
    {
     "name": "stdout",
     "output_type": "stream",
     "text": [
      "{1, 2, 3, 4, 5, 6, 7, 8, 9, 10, 11}\n",
      "{2, 3, 4, 5, 6, 7, 8, 9, 10, 11}\n"
     ]
    }
   ],
   "source": [
    "# Assi 2\n",
    "set1.add(11)\n",
    "print(set1)\n",
    "set1.remove(1)\n",
    "print(set1)\n"
   ]
  },
  {
   "cell_type": "code",
   "execution_count": 7,
   "id": "97b0ae04",
   "metadata": {},
   "outputs": [
    {
     "name": "stdout",
     "output_type": "stream",
     "text": [
      "\n",
      "Union: {1, 2, 3, 4, 5, 6, 8, 10}\n",
      "Intersection: {2, 4}\n",
      "Difference: {1, 3, 5}\n",
      "Symmetric Difference: {1, 3, 5, 6, 8, 10}\n",
      "\n"
     ]
    }
   ],
   "source": [
    "# Assi 3\n",
    "set3_1 = set([x for x in range(1,6)])\n",
    "set3_2 = set([x for x in range(1,11) if x%2==0])\n",
    "\n",
    "\n",
    "union = set3_1.union(set3_2)\n",
    "intersection = set3_1.intersection(set3_2)\n",
    "difference = set3_1.difference(set3_2)\n",
    "symm_diff = set3_1.symmetric_difference(set3_2)\n",
    "\n",
    "print(f\"\"\"\n",
    "Union: {union}\n",
    "Intersection: {intersection}\n",
    "Difference: {difference}\n",
    "Symmetric Difference: {symm_diff}\n",
    "\"\"\")\n"
   ]
  },
  {
   "cell_type": "code",
   "execution_count": 13,
   "id": "3ef91ee2",
   "metadata": {},
   "outputs": [
    {
     "name": "stdout",
     "output_type": "stream",
     "text": [
      "{64, 1, 4, 36, 100, 9, 16, 49, 81, 25}\n"
     ]
    }
   ],
   "source": [
    "# ASSi 4\n",
    "set4 = {x**2 for x in range(1,11)}\n",
    "print(set4)"
   ]
  },
  {
   "cell_type": "code",
   "execution_count": 16,
   "id": "c3ec639b",
   "metadata": {},
   "outputs": [
    {
     "name": "stdout",
     "output_type": "stream",
     "text": [
      "{2, 4, 6, 8, 10}\n"
     ]
    }
   ],
   "source": [
    "# Assi 5\n",
    "set5 = {x for x in set1 if x%2==0}\n",
    "print(set5)"
   ]
  },
  {
   "cell_type": "code",
   "execution_count": null,
   "id": "9df6af45",
   "metadata": {},
   "outputs": [
    {
     "name": "stdout",
     "output_type": "stream",
     "text": [
      "{1, 2, 3, 4, 5, 6, 7}\n"
     ]
    }
   ],
   "source": [
    "# Assi 6\n",
    "set6 = {1,2,2,3,4,5,5,6,7}\n",
    "unique6 = set(set6)\n",
    "print(unique6)"
   ]
  },
  {
   "cell_type": "code",
   "execution_count": null,
   "id": "48b0306c",
   "metadata": {},
   "outputs": [
    {
     "name": "stdout",
     "output_type": "stream",
     "text": [
      "Set 2 is subset of Set1:  True\n",
      "Set 1 is superset of Set2:  True\n"
     ]
    }
   ],
   "source": [
    "# Assi 7\n",
    "set7_1 = {x for x in range(1,6)}\n",
    "set7_2 = {1,2,3}\n",
    "\n",
    "print(\"Set 2 is subset of Set1: \",set7_2.issubset(set7_1))\n",
    "print(\"Set 1 is superset of Set2: \", set7_1.issuperset(set7_2))"
   ]
  },
  {
   "cell_type": "markdown",
   "id": "c925798c",
   "metadata": {},
   "source": [
    "***"
   ]
  },
  {
   "cell_type": "markdown",
   "id": "5cffa2a1",
   "metadata": {},
   "source": [
    "### <a id='toc1_1_1_'></a>[```frozenset()```](#toc0_)\n",
    "Frozen Sets are Immutable version of sets"
   ]
  },
  {
   "cell_type": "code",
   "execution_count": 24,
   "id": "35a76dda",
   "metadata": {},
   "outputs": [
    {
     "name": "stdout",
     "output_type": "stream",
     "text": [
      "frozenset({1, 2, 3, 4, 5})\n"
     ]
    }
   ],
   "source": [
    "my_set = (1,2,3,4,5)\n",
    "frozen_set = frozenset(my_set)\n",
    "print(frozen_set)"
   ]
  },
  {
   "cell_type": "code",
   "execution_count": 25,
   "id": "e412af76",
   "metadata": {},
   "outputs": [
    {
     "ename": "TypeError",
     "evalue": "'frozenset' object does not support item assignment",
     "output_type": "error",
     "traceback": [
      "\u001b[31m---------------------------------------------------------------------------\u001b[39m",
      "\u001b[31mTypeError\u001b[39m                                 Traceback (most recent call last)",
      "\u001b[36mCell\u001b[39m\u001b[36m \u001b[39m\u001b[32mIn[25]\u001b[39m\u001b[32m, line 1\u001b[39m\n\u001b[32m----> \u001b[39m\u001b[32m1\u001b[39m \u001b[43mfrozen_set\u001b[49m\u001b[43m[\u001b[49m\u001b[32;43m2\u001b[39;49m\u001b[43m]\u001b[49m = \u001b[32m9\u001b[39m\n",
      "\u001b[31mTypeError\u001b[39m: 'frozenset' object does not support item assignment"
     ]
    }
   ],
   "source": [
    "frozen_set[2] = 9"
   ]
  },
  {
   "cell_type": "markdown",
   "id": "45bdf058",
   "metadata": {},
   "source": [
    "***"
   ]
  },
  {
   "cell_type": "code",
   "execution_count": 28,
   "id": "20529db5",
   "metadata": {},
   "outputs": [
    {
     "name": "stdout",
     "output_type": "stream",
     "text": [
      "frozenset({1, 2, 3, 4, 5})\n"
     ]
    }
   ],
   "source": [
    "# Assi 8\n",
    "frozen8 = frozenset({1,2,3,4,5})\n",
    "print(frozen8)"
   ]
  },
  {
   "cell_type": "code",
   "execution_count": 29,
   "id": "9c6909b4",
   "metadata": {},
   "outputs": [
    {
     "name": "stdout",
     "output_type": "stream",
     "text": [
      "{1, 2, 3, 4, 5, 6}\n"
     ]
    }
   ],
   "source": [
    "# Assi 9\n",
    "set9 = {1,2,3,4,5}\n",
    "lst9 = list(set9)\n",
    "lst9.append(6)\n",
    "set9 = set(lst9)\n",
    "print(set9)"
   ]
  },
  {
   "cell_type": "markdown",
   "id": "92d83555",
   "metadata": {},
   "source": [
    "***"
   ]
  },
  {
   "cell_type": "markdown",
   "id": "55ed4d66",
   "metadata": {},
   "source": [
    "### <a id='toc1_1_2_'></a>[Dictionary Keys should be _Immutable_](#toc0_)\n",
    "        \n",
    "Below code throws error ->      \n",
    "        \n",
    "```TypeError: unhashable type: 'set'``` \n",
    "\n",
    "Because dictionary keys should be Immutable objects and we are using mutable sets"
   ]
  },
  {
   "cell_type": "code",
   "execution_count": null,
   "id": "f4d2c79e",
   "metadata": {},
   "outputs": [],
   "source": [
    "dict_setKeys = {\n",
    "    {2,4,6} : 0,\n",
    "    {1,3,5,7}:1\n",
    "}\n",
    "\n",
    "print(dict_setKeys)"
   ]
  },
  {
   "cell_type": "markdown",
   "id": "629146ee",
   "metadata": {},
   "source": [
    "To solve this, we can use frozenset()"
   ]
  },
  {
   "cell_type": "code",
   "execution_count": 32,
   "id": "a289e03e",
   "metadata": {},
   "outputs": [
    {
     "name": "stdout",
     "output_type": "stream",
     "text": [
      "{frozenset({2, 4, 6}): 0, frozenset({1, 3, 5, 7}): 1}\n"
     ]
    }
   ],
   "source": [
    "key1 = frozenset({2,4,6})\n",
    "key2 = frozenset({1,3,5,7})\n",
    "dict_setKeys = {\n",
    "    key1: 0,\n",
    "    key2: 1\n",
    "}\n",
    "print(dict_setKeys)"
   ]
  },
  {
   "cell_type": "markdown",
   "id": "ee132fa0",
   "metadata": {},
   "source": [
    "***"
   ]
  },
  {
   "cell_type": "code",
   "execution_count": 33,
   "id": "fc942dae",
   "metadata": {},
   "outputs": [
    {
     "name": "stdout",
     "output_type": "stream",
     "text": [
      "{frozenset({2, 4, 6}): 0, frozenset({1, 3, 5, 7}): 1}\n"
     ]
    }
   ],
   "source": [
    "# Assi 10\n",
    "dict_setKeys = {\n",
    "    frozenset({2,4,6}) : 0,\n",
    "    frozenset({1,3,5,7}):1\n",
    "}\n",
    "\n",
    "print(dict_setKeys)"
   ]
  },
  {
   "cell_type": "code",
   "execution_count": 35,
   "id": "65f447be",
   "metadata": {},
   "outputs": [
    {
     "name": "stdout",
     "output_type": "stream",
     "text": [
      "1 2 3 4 5 6 "
     ]
    }
   ],
   "source": [
    "# Assi 11\n",
    "set11 = {1,2,3,4,5,6}\n",
    "\n",
    "for item in set11:\n",
    "    print(item, end=\" \")"
   ]
  },
  {
   "cell_type": "code",
   "execution_count": 37,
   "id": "e99352af",
   "metadata": {},
   "outputs": [
    {
     "name": "stdout",
     "output_type": "stream",
     "text": [
      "Original Set:  {2, 3, 4, 5, 6, 7, 23}\n",
      "{3, 4, 5, 6, 7, 23}\n",
      "{4, 5, 6, 7, 23}\n",
      "{5, 6, 7, 23}\n",
      "{6, 7, 23}\n",
      "{7, 23}\n",
      "{23}\n",
      "set()\n"
     ]
    }
   ],
   "source": [
    "# Assi 12\n",
    "set12 = {5,3,6,2,7,4,23,6,23}\n",
    "print(\"Original Set: \",set12)\n",
    "\n",
    "for i in range(len(set12)):\n",
    "    set12.pop()\n",
    "    print(set12)\n"
   ]
  },
  {
   "cell_type": "markdown",
   "id": "eaf47085",
   "metadata": {},
   "source": [
    "***"
   ]
  },
  {
   "cell_type": "markdown",
   "id": "5486a003",
   "metadata": {},
   "source": [
    "### Inplace Symmetric Difference"
   ]
  },
  {
   "cell_type": "code",
   "execution_count": 43,
   "id": "daea5f0a",
   "metadata": {},
   "outputs": [
    {
     "name": "stdout",
     "output_type": "stream",
     "text": [
      "{1, 2, 5, 6}\n"
     ]
    }
   ],
   "source": [
    "set1 = {1,2,3,4}\n",
    "set2 = {3,4,5,6}\n",
    "\n",
    "set1.symmetric_difference_update(set2)\n",
    "# Set1 now contains the set of symmetric difference of set1 and set2\n",
    "print(set1)"
   ]
  },
  {
   "cell_type": "code",
   "execution_count": 42,
   "id": "761280f8",
   "metadata": {},
   "outputs": [
    {
     "name": "stdout",
     "output_type": "stream",
     "text": [
      "{1, 2, 5, 6}\n"
     ]
    }
   ],
   "source": [
    "set1 = {1,2,3,4}\n",
    "set2 = {3,4,5,6}\n",
    "#? Another concise method\n",
    "set1 ^= set2 \n",
    "print(set1)"
   ]
  },
  {
   "cell_type": "markdown",
   "id": "10d6934d",
   "metadata": {},
   "source": [
    "***"
   ]
  },
  {
   "cell_type": "code",
   "execution_count": 44,
   "id": "e8cd2d38",
   "metadata": {},
   "outputs": [
    {
     "name": "stdout",
     "output_type": "stream",
     "text": [
      "{0, 1, 2, 3, 8, 9, 10, 11, -1}\n"
     ]
    }
   ],
   "source": [
    "# Assi 13\n",
    "set13_1 = {-1,0,1,2,3,4,5,6,7}\n",
    "set13_2 = {4,5,6,7,8,9,10,11}\n",
    "\n",
    "set13_1.symmetric_difference_update(set13_2)\n",
    "print(set13_1)\n"
   ]
  },
  {
   "cell_type": "code",
   "execution_count": 46,
   "id": "2c1a6f24",
   "metadata": {},
   "outputs": [
    {
     "name": "stdout",
     "output_type": "stream",
     "text": [
      "False\n",
      "True\n",
      "False\n",
      "True\n"
     ]
    }
   ],
   "source": [
    "# Assi 14\n",
    "set14 = {4,5,6,7,8,9,10,11}\n",
    "\n",
    "print(2 in set14)\n",
    "print(7 in set14)\n",
    "print(1 in set14)\n",
    "print(11 in set14)"
   ]
  },
  {
   "cell_type": "code",
   "execution_count": 47,
   "id": "3dcc7b19",
   "metadata": {},
   "outputs": [
    {
     "name": "stdout",
     "output_type": "stream",
     "text": [
      "{(1, 2), (0, 4), (3, 5)}\n"
     ]
    }
   ],
   "source": [
    "# Assi 15\n",
    "set15 = {(1,2), (0,4), (3,5)}\n",
    "print(set15)"
   ]
  },
  {
   "cell_type": "code",
   "execution_count": 51,
   "id": "aa770aa1",
   "metadata": {},
   "outputs": [
    {
     "name": "stdout",
     "output_type": "stream",
     "text": [
      "{1: 1, 2: 2, 3: 1, 4: 2, 5: 1, 6: 1, 7: 2, 8: 3}\n"
     ]
    }
   ],
   "source": [
    "nums = [1,2,2,3,4,4,5,6,7,7,8,8,8]\n",
    "\n",
    "frequency = {}\n",
    "for num in nums:\n",
    "    if num in frequency:\n",
    "        frequency[num] += 1\n",
    "    else:\n",
    "        frequency[num] = 1\n",
    "\n",
    "print(frequency)\n"
   ]
  }
 ],
 "metadata": {
  "kernelspec": {
   "display_name": "py-env",
   "language": "python",
   "name": "python3"
  },
  "language_info": {
   "codemirror_mode": {
    "name": "ipython",
    "version": 3
   },
   "file_extension": ".py",
   "mimetype": "text/x-python",
   "name": "python",
   "nbconvert_exporter": "python",
   "pygments_lexer": "ipython3",
   "version": "3.12.11"
  }
 },
 "nbformat": 4,
 "nbformat_minor": 5
}
