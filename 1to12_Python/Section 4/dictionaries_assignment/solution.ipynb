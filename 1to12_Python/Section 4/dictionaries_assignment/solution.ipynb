{
 "cells": [
  {
   "cell_type": "markdown",
   "id": "d453bcfb",
   "metadata": {},
   "source": [
    "# <a id='toc1_'></a>[Lesson 3.4: Dictionaries](#toc0_)"
   ]
  },
  {
   "cell_type": "markdown",
   "id": "815387c6",
   "metadata": {},
   "source": [
    "**Table of contents**<a id='toc0_'></a>    \n",
    "- [Lesson 3.4: Dictionaries](#toc1_)    \n",
    "    - [```defaultdict()```](#toc1_1_1_)    \n",
    "      - [Use case : Counting frequency](#toc1_1_1_1_)    \n",
    "      - [Grouping items](#toc1_1_1_2_)    \n",
    "    - [Convert dict to JSON](#toc1_1_2_)    \n",
    "\n",
    "<!-- vscode-jupyter-toc-config\n",
    "\tnumbering=false\n",
    "\tanchor=true\n",
    "\tflat=false\n",
    "\tminLevel=1\n",
    "\tmaxLevel=6\n",
    "\t/vscode-jupyter-toc-config -->\n",
    "<!-- THIS CELL WILL BE REPLACED ON TOC UPDATE. DO NOT WRITE YOUR TEXT IN THIS CELL -->"
   ]
  },
  {
   "cell_type": "markdown",
   "id": "e7edfc4e",
   "metadata": {},
   "source": [
    "***"
   ]
  },
  {
   "cell_type": "code",
   "execution_count": 1,
   "id": "ff2fe862",
   "metadata": {},
   "outputs": [
    {
     "data": {
      "text/plain": [
       "{1: 1, 2: 4, 3: 9, 4: 16, 5: 25, 6: 36, 7: 49, 8: 64, 9: 81, 10: 100}"
      ]
     },
     "execution_count": 1,
     "metadata": {},
     "output_type": "execute_result"
    }
   ],
   "source": [
    "# Assi 1\n",
    "dict1 = {x:x**2 for x in range(1, 11)}\n",
    "dict1"
   ]
  },
  {
   "cell_type": "code",
   "execution_count": 3,
   "id": "97ad0213",
   "metadata": {},
   "outputs": [
    {
     "name": "stdout",
     "output_type": "stream",
     "text": [
      "5 Squared is:  25\n",
      "Keys in dict1 are\n",
      "1 2 3 4 5 6 7 8 9 10 "
     ]
    }
   ],
   "source": [
    "# Assi 2\n",
    "print(\"5 Squared is: \", dict1[5])\n",
    "print(\"Keys in dict1 are\")\n",
    "for key in dict1.keys(): print(key, end=\" \")"
   ]
  },
  {
   "cell_type": "code",
   "execution_count": 5,
   "id": "3509063a",
   "metadata": {},
   "outputs": [
    {
     "name": "stdout",
     "output_type": "stream",
     "text": [
      "{1: 1, 2: 4, 3: 9, 4: 16, 5: 25, 6: 36, 7: 49, 8: 64, 9: 81, 10: 100, 11: 121}\n",
      "{2: 4, 3: 9, 4: 16, 5: 25, 6: 36, 7: 49, 8: 64, 9: 81, 10: 100, 11: 121}\n"
     ]
    }
   ],
   "source": [
    "# Assi 3\n",
    "dict1[11] = 121\n",
    "print(dict1)\n",
    "\n",
    "del dict1[1]\n",
    "print(dict1)"
   ]
  },
  {
   "cell_type": "code",
   "execution_count": 6,
   "id": "dac5f317",
   "metadata": {},
   "outputs": [
    {
     "name": "stdout",
     "output_type": "stream",
     "text": [
      "Key: 2, Value: 4\n",
      "Key: 3, Value: 9\n",
      "Key: 4, Value: 16\n",
      "Key: 5, Value: 25\n",
      "Key: 6, Value: 36\n",
      "Key: 7, Value: 49\n",
      "Key: 8, Value: 64\n",
      "Key: 9, Value: 81\n",
      "Key: 10, Value: 100\n",
      "Key: 11, Value: 121\n"
     ]
    }
   ],
   "source": [
    "# Assi 4\n",
    "for key, value in dict1.items():\n",
    "    print(f\"Key: {key}, Value: {value}\")"
   ]
  },
  {
   "cell_type": "code",
   "execution_count": 7,
   "id": "7988db52",
   "metadata": {},
   "outputs": [
    {
     "name": "stdout",
     "output_type": "stream",
     "text": [
      "{1: 1, 2: 8, 3: 27, 4: 64, 5: 125, 6: 216, 7: 343, 8: 512, 9: 729, 10: 1000}\n"
     ]
    }
   ],
   "source": [
    "# Assi 5\n",
    "dict5 = {x: x**3 for x in range(1,11)}\n",
    "print(dict5)"
   ]
  },
  {
   "cell_type": "code",
   "execution_count": 8,
   "id": "5975c0e1",
   "metadata": {},
   "outputs": [
    {
     "name": "stdout",
     "output_type": "stream",
     "text": [
      "{1: 1, 2: 4, 3: 9, 4: 16, 5: 25, 6: 36, 7: 49, 8: 64, 9: 81, 10: 100}\n"
     ]
    }
   ],
   "source": [
    "# Assi 6\n",
    "dict6_1 = { x:x**2 for x in range(1,6)}\n",
    "dict6_2 = { x:x**2 for x in range(6,11)}\n",
    "merged_dict = {**dict6_1, **dict6_2}\n",
    "print(merged_dict)"
   ]
  },
  {
   "cell_type": "code",
   "execution_count": 9,
   "id": "0a51f996",
   "metadata": {},
   "outputs": [
    {
     "name": "stdout",
     "output_type": "stream",
     "text": [
      "{'name': 'Dev', 'age': 21, 'grades': {'math': 79, 'science': 89, 'english': 97}}\n"
     ]
    }
   ],
   "source": [
    "# Assi 7\n",
    "dict7 = {\n",
    "    'name':'Dev',\n",
    "    'age': 21,\n",
    "    'grades': {'math': 79, 'science': 89, 'english': 97}\n",
    "}\n",
    "\n",
    "print(dict7)"
   ]
  },
  {
   "cell_type": "code",
   "execution_count": 10,
   "id": "a80c70c9",
   "metadata": {},
   "outputs": [
    {
     "data": {
      "text/plain": [
       "{1: [1, 2, 3, 4, 5],\n",
       " 2: [2, 4, 6, 8, 10],\n",
       " 3: [3, 6, 9, 12, 15],\n",
       " 4: [4, 8, 12, 16, 20],\n",
       " 5: [5, 10, 15, 20, 25]}"
      ]
     },
     "execution_count": 10,
     "metadata": {},
     "output_type": "execute_result"
    }
   ],
   "source": [
    "# Assi 8\n",
    "dict8 = {x : [x*i for i in range(1,6)] for x in range(1,6)}\n",
    "dict8"
   ]
  },
  {
   "cell_type": "code",
   "execution_count": 11,
   "id": "8d15c528",
   "metadata": {},
   "outputs": [
    {
     "data": {
      "text/plain": [
       "{1: (1, 1), 2: (2, 4), 3: (3, 9), 4: (4, 16), 5: (5, 25)}"
      ]
     },
     "execution_count": 11,
     "metadata": {},
     "output_type": "execute_result"
    }
   ],
   "source": [
    "# Assi 9\n",
    "dict9 = {x : (x, x**2) for x in range(1,6)}\n",
    "dict9"
   ]
  },
  {
   "cell_type": "code",
   "execution_count": 16,
   "id": "13fa3d81",
   "metadata": {},
   "outputs": [
    {
     "name": "stdout",
     "output_type": "stream",
     "text": [
      "[(1, 1), (2, 4), (3, 9), (4, 16), (5, 25)]\n"
     ]
    }
   ],
   "source": [
    "# Assi 10\n",
    "dict10 = {x:x**2 for x in range(1,6)}\n",
    "lst_of_tup = list(dict10.items())\n",
    "print(lst_of_tup)"
   ]
  },
  {
   "cell_type": "code",
   "execution_count": 18,
   "id": "57a33503",
   "metadata": {},
   "outputs": [
    {
     "name": "stdout",
     "output_type": "stream",
     "text": [
      "Dict 1:  {1: 1, 2: 4, 3: 9, 4: 16, 5: 25, 6: 36, 7: 49, 8: 64, 9: 81, 10: 100}\n",
      "Dict 2:  {2: 4, 4: 16, 6: 36, 8: 64, 10: 100}\n"
     ]
    }
   ],
   "source": [
    "# Assi 11\n",
    "dict11_1 = {x:x**2 for x in range(1,11)}\n",
    "print(\"Dict 1: \",dict11_1)\n",
    "dict11_2 = {key:value for key,value in dict11_1.items() if key%2==0}\n",
    "print(\"Dict 2: \",dict11_2)"
   ]
  },
  {
   "cell_type": "code",
   "execution_count": 20,
   "id": "b0f306ae",
   "metadata": {},
   "outputs": [
    {
     "name": "stdout",
     "output_type": "stream",
     "text": [
      "Original Dict:\n",
      " {1: 1, 2: 4, 3: 9, 4: 16, 5: 25}\n",
      "Swapped Dict:\n",
      " {1: 1, 4: 2, 9: 3, 16: 4, 25: 5}\n"
     ]
    }
   ],
   "source": [
    "# Assi 12\n",
    "dict12_1 = {x:x**2 for x in range(1,6)}\n",
    "dict12_2 = {value:key for key,value in dict12_1.items()}\n",
    "print(\"Original Dict:\\n\", dict12_1)\n",
    "print(\"Swapped Dict:\\n\", dict12_2)"
   ]
  },
  {
   "cell_type": "markdown",
   "id": "b30036fc",
   "metadata": {},
   "source": [
    "***"
   ]
  },
  {
   "cell_type": "markdown",
   "id": "7f531a06",
   "metadata": {},
   "source": [
    "### <a id='toc1_1_1_'></a>[```defaultdict()```](#toc0_)\n",
    "\n",
    "* Dictionary like container from ```collections``` library\n",
    "* Provides all the functionality like a normal dictionary\n",
    "* 🌟 Difference is that If you try to access the key that does'nt exist, it will create it automatically using **default factory function** you specify"
   ]
  },
  {
   "cell_type": "code",
   "execution_count": 21,
   "id": "3f1b06a5",
   "metadata": {},
   "outputs": [
    {
     "ename": "KeyError",
     "evalue": "'age'",
     "output_type": "error",
     "traceback": [
      "\u001b[31m---------------------------------------------------------------------------\u001b[39m",
      "\u001b[31mKeyError\u001b[39m                                  Traceback (most recent call last)",
      "\u001b[36mCell\u001b[39m\u001b[36m \u001b[39m\u001b[32mIn[21]\u001b[39m\u001b[32m, line 4\u001b[39m\n\u001b[32m      1\u001b[39m \u001b[38;5;66;03m# Normal Dict\u001b[39;00m\n\u001b[32m      2\u001b[39m my_dict = {}\n\u001b[32m----> \u001b[39m\u001b[32m4\u001b[39m \u001b[43mmy_dict\u001b[49m\u001b[43m[\u001b[49m\u001b[33;43m'\u001b[39;49m\u001b[33;43mage\u001b[39;49m\u001b[33;43m'\u001b[39;49m\u001b[43m]\u001b[49m += \u001b[32m2\u001b[39m \n",
      "\u001b[31mKeyError\u001b[39m: 'age'"
     ]
    }
   ],
   "source": [
    "# Normal Dict\n",
    "my_dict = {}\n",
    "\n",
    "my_dict['age'] += 2 "
   ]
  },
  {
   "cell_type": "code",
   "execution_count": 24,
   "id": "072c1ce3",
   "metadata": {},
   "outputs": [
    {
     "name": "stdout",
     "output_type": "stream",
     "text": [
      "defaultdict(<class 'int'>, {})\n",
      "defaultdict(<class 'int'>, {'age': 21})\n"
     ]
    }
   ],
   "source": [
    "from collections import defaultdict\n",
    "\n",
    "my_default_dict = defaultdict(int)\n",
    "# int is the datatype of default value\n",
    "print(my_default_dict)\n",
    "\n",
    "my_default_dict['age'] = 21\n",
    "print(my_default_dict)"
   ]
  },
  {
   "cell_type": "markdown",
   "id": "f294abc8",
   "metadata": {},
   "source": [
    "#### <a id='toc1_1_1_1_'></a>[Use case : Counting frequency](#toc0_)"
   ]
  },
  {
   "cell_type": "code",
   "execution_count": 27,
   "id": "9b3cc8c5",
   "metadata": {},
   "outputs": [
    {
     "name": "stdout",
     "output_type": "stream",
     "text": [
      "{'1': 3, '2': 4, '3': 7, '4': 4, '5': 2}\n"
     ]
    }
   ],
   "source": [
    "from collections import defaultdict\n",
    "\n",
    "nums = [1,2,1,3,4,3,4,2,1,2,3,3,4,2,3,5,3,5,3,4]\n",
    "\n",
    "freq = defaultdict(int)\n",
    "\n",
    "for num in nums:\n",
    "    freq[str(num)] += 1\n",
    "\n",
    "print(dict(freq))"
   ]
  },
  {
   "cell_type": "markdown",
   "id": "e6e9b9a1",
   "metadata": {},
   "source": [
    "#### <a id='toc1_1_1_2_'></a>[Grouping items](#toc0_)"
   ]
  },
  {
   "cell_type": "code",
   "execution_count": 28,
   "id": "11bfdd91",
   "metadata": {},
   "outputs": [
    {
     "name": "stdout",
     "output_type": "stream",
     "text": [
      "defaultdict(<class 'list'>, {'a': ['almond', 'apple'], 'b': ['banana'], 'c': ['coffee', 'carrot'], 'o': ['orange']})\n"
     ]
    }
   ],
   "source": [
    "words = [\"almond\", \"banana\", \"apple\", \"coffee\",\"orange\", \"carrot\"]\n",
    "\n",
    "# We want to create a dictionary of key=char and value=word starting eith that char\n",
    "grouped_words = defaultdict(list)\n",
    "\n",
    "for word in words:\n",
    "    grouped_words[word[0]].append(word)\n",
    "\n",
    "print(grouped_words)"
   ]
  },
  {
   "cell_type": "markdown",
   "id": "93b3c56e",
   "metadata": {},
   "source": [
    "***"
   ]
  },
  {
   "cell_type": "code",
   "execution_count": 29,
   "id": "28097c8c",
   "metadata": {},
   "outputs": [
    {
     "name": "stdout",
     "output_type": "stream",
     "text": [
      "defaultdict(<class 'list'>, {'Dev': ['Laptop', 'Phone', 'Headphones'], 'John': ['Headphones', 'Mouse']})\n"
     ]
    }
   ],
   "source": [
    "# Assi 13\n",
    "from collections import defaultdict\n",
    "\n",
    "dict13 = defaultdict(list)\n",
    "\n",
    "dict13['Dev'].append(\"Laptop\")\n",
    "dict13['Dev'].append(\"Phone\")\n",
    "dict13['Dev'].append(\"Headphones\")\n",
    "\n",
    "dict13['John'].append(\"Headphones\")\n",
    "dict13['John'].append(\"Mouse\")\n",
    "\n",
    "print(dict13)"
   ]
  },
  {
   "cell_type": "code",
   "execution_count": null,
   "id": "513d221d",
   "metadata": {},
   "outputs": [
    {
     "name": "stdout",
     "output_type": "stream",
     "text": [
      "defaultdict(<class 'int'>, {'S': 1, 'c': 1, 'h': 1, 'w': 1, 'a': 1, 'r': 2, 'z': 1, 'e': 3, 'n': 1, 'g': 2})\n"
     ]
    }
   ],
   "source": [
    "# Assi 14\n",
    "def count_char(string):\n",
    "    count = defaultdict(int)\n",
    "    for char in string:\n",
    "        count[char] += 1\n",
    "    return count\n",
    "\n",
    "cnt = count_char(\"Schwarzenegger\")\n",
    "print(cnt)"
   ]
  },
  {
   "cell_type": "markdown",
   "id": "817c391a",
   "metadata": {},
   "source": [
    "***"
   ]
  },
  {
   "cell_type": "markdown",
   "id": "e9174c04",
   "metadata": {},
   "source": [
    "### <a id='toc1_1_2_'></a>[Convert dict to JSON](#toc0_)"
   ]
  },
  {
   "cell_type": "code",
   "execution_count": null,
   "id": "19a3bc64",
   "metadata": {},
   "outputs": [
    {
     "name": "stdout",
     "output_type": "stream",
     "text": [
      "{\n",
      "    \"1\": 1.0,\n",
      "    \"2\": 2.8284271247461903,\n",
      "    \"3\": 5.196152422706632,\n",
      "    \"4\": 8.0,\n",
      "    \"5\": 11.180339887498949\n",
      "}\n"
     ]
    }
   ],
   "source": [
    "import json\n",
    "\n",
    "dict1 = {x: x**1.5 for x in range(1,6)}\n",
    "\n",
    "\n",
    "# Convert dict into pretty print string\n",
    "json_string = json.dumps(dict1, indent=4)\n",
    "print(json_string)\n",
    "\n",
    "# Write the dict to a json file\n",
    "with open('data.json', \"w\") as jsonfile:\n",
    "    json.dump(obj=dict1,fp=jsonfile,indent=4)"
   ]
  },
  {
   "cell_type": "markdown",
   "id": "3d407510",
   "metadata": {},
   "source": [
    "***"
   ]
  },
  {
   "cell_type": "code",
   "execution_count": 33,
   "id": "b5501532",
   "metadata": {},
   "outputs": [
    {
     "name": "stdout",
     "output_type": "stream",
     "text": [
      "{\n",
      "    \"title\": \"To Kill a Mockingbird\",\n",
      "    \"author\": \"Harper Lee\",\n",
      "    \"year\": 1960,\n",
      "    \"genre\": \"Novel\"\n",
      "}\n"
     ]
    }
   ],
   "source": [
    "# Assi 15\n",
    "dict15 = {\n",
    "    'title':'To Kill a Mockingbird',\n",
    "    'author': 'Harper Lee',\n",
    "    'year': 1960,\n",
    "    'genre': 'Novel'\n",
    "}\n",
    "\n",
    "json_str = json.dumps(dict15, indent=4)\n",
    "\n",
    "print(json_str)"
   ]
  }
 ],
 "metadata": {
  "kernelspec": {
   "display_name": "py-env",
   "language": "python",
   "name": "python3"
  },
  "language_info": {
   "codemirror_mode": {
    "name": "ipython",
    "version": 3
   },
   "file_extension": ".py",
   "mimetype": "text/x-python",
   "name": "python",
   "nbconvert_exporter": "python",
   "pygments_lexer": "ipython3",
   "version": "3.12.11"
  }
 },
 "nbformat": 4,
 "nbformat_minor": 5
}
