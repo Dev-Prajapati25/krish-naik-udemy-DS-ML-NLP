{
 "cells": [
  {
   "cell_type": "markdown",
   "id": "6ef04add",
   "metadata": {},
   "source": [
    "# <a id='toc1_'></a>[Module 3: Data Structures Assignments](#toc0_)"
   ]
  },
  {
   "cell_type": "markdown",
   "id": "26108eb2",
   "metadata": {},
   "source": [
    "**Table of contents**<a id='toc0_'></a>    \n",
    "- [Module 3: Data Structures Assignments](#toc1_)    \n",
    "    - [Sorting list of dictionaries](#toc1_1_1_)    \n",
    "    - [⭐Assignment 9](#toc1_1_2_)    \n",
    "    - [Remove element from list using index](#toc1_1_3_)    \n",
    "    - [```zip``` function](#toc1_1_4_)    \n",
    "    - [⭐Assignment 13](#toc1_1_5_)    \n",
    "    - [List Rotation](#toc1_1_6_)    \n",
    "    - [⭐ Assignment 15](#toc1_1_7_)    \n",
    "\n",
    "<!-- vscode-jupyter-toc-config\n",
    "\tnumbering=false\n",
    "\tanchor=true\n",
    "\tflat=false\n",
    "\tminLevel=1\n",
    "\tmaxLevel=6\n",
    "\t/vscode-jupyter-toc-config -->\n",
    "<!-- THIS CELL WILL BE REPLACED ON TOC UPDATE. DO NOT WRITE YOUR TEXT IN THIS CELL -->"
   ]
  },
  {
   "cell_type": "markdown",
   "id": "e94202ef",
   "metadata": {},
   "source": [
    "***"
   ]
  },
  {
   "cell_type": "code",
   "execution_count": 1,
   "id": "34e63a84",
   "metadata": {},
   "outputs": [
    {
     "name": "stdout",
     "output_type": "stream",
     "text": [
      "[1, 2, 3, 4, 5, 6, 7, 8, 9, 10, 11, 12, 13, 14, 15, 16, 17, 18, 19, 20]\n"
     ]
    }
   ],
   "source": [
    "# Assi 1\n",
    "pos_nums = []\n",
    "for i in range(1,21):\n",
    "    pos_nums.append(i)\n",
    "\n",
    "print(pos_nums)"
   ]
  },
  {
   "cell_type": "code",
   "execution_count": 8,
   "id": "e19ec56e",
   "metadata": {},
   "outputs": [
    {
     "name": "stdout",
     "output_type": "stream",
     "text": [
      "[4, 5, 1, 2, 3]\n"
     ]
    }
   ],
   "source": [
    "def rotate_list(lst, k):\n",
    "    while k > 0:\n",
    "        last_element = lst[len(lst)-1]\n",
    "        lst.insert(0, last_element)\n",
    "        lst.pop()\n",
    "        k -= 1\n",
    "    return lst\n",
    "print(rotate_list([1,2,3,4,5],2))"
   ]
  },
  {
   "cell_type": "code",
   "execution_count": 6,
   "id": "54d93a1b",
   "metadata": {},
   "outputs": [
    {
     "name": "stdout",
     "output_type": "stream",
     "text": [
      "First: 1\n",
      "Middle: 10\n",
      "Last: 20\n"
     ]
    }
   ],
   "source": [
    "# Assi 2\n",
    "max_index = len(pos_nums) - 1\n",
    "print(f\"First: {pos_nums[0]}\")\n",
    "print(f\"Middle: {pos_nums[int(max_index/2)]}\")\n",
    "print(f\"Last: {pos_nums[max_index]}\")"
   ]
  },
  {
   "cell_type": "code",
   "execution_count": 12,
   "id": "95999aa5",
   "metadata": {},
   "outputs": [
    {
     "name": "stdout",
     "output_type": "stream",
     "text": [
      "First Five elements:\n",
      "[1, 2, 3, 4, 5]\n",
      "Last Five Elements: \n",
      "[16, 17, 18, 19, 20]\n",
      "Element from index 5 to 15: \n",
      "[6, 7, 8, 9, 10, 11, 12, 13, 14, 15, 16]\n"
     ]
    }
   ],
   "source": [
    "# Assi 3\n",
    "print(\"First Five elements:\")\n",
    "print(pos_nums[0:5])\n",
    "\n",
    "print(\"Last Five Elements: \")\n",
    "print(pos_nums[max_index-4:])\n",
    "\n",
    "print(\"Element from index 5 to 15: \")\n",
    "print(pos_nums[5:16])"
   ]
  },
  {
   "cell_type": "code",
   "execution_count": 13,
   "id": "9297c44b",
   "metadata": {},
   "outputs": [
    {
     "name": "stdout",
     "output_type": "stream",
     "text": [
      "[1, 4, 9, 16, 25, 36, 49, 64, 81, 100]\n"
     ]
    }
   ],
   "source": [
    "# Assi 4\n",
    "sq_first10 = [x**2 for x in pos_nums[:10]]\n",
    "print(sq_first10)"
   ]
  },
  {
   "cell_type": "code",
   "execution_count": 14,
   "id": "6abadc00",
   "metadata": {},
   "outputs": [
    {
     "name": "stdout",
     "output_type": "stream",
     "text": [
      "[2, 4, 6, 8, 10, 12, 14, 16, 18, 20]\n"
     ]
    }
   ],
   "source": [
    "# Assi 5\n",
    "even_num = [x for x in pos_nums if x%2==0]\n",
    "print(even_num)"
   ]
  },
  {
   "cell_type": "code",
   "execution_count": 17,
   "id": "57e5c5ce",
   "metadata": {},
   "outputs": [
    {
     "name": "stdout",
     "output_type": "stream",
     "text": [
      "[12, 21, 432, 43, 56, 43, 98, 76, 432, 21, 7]\n",
      "[7, 12, 21, 21, 43, 43, 56, 76, 98, 432, 432]\n",
      "[432, 432, 98, 76, 56, 43, 43, 21, 21, 12, 7]\n",
      "[98, 7, 43, 76, 12, 432, 21, 56]\n"
     ]
    }
   ],
   "source": [
    "# Assi 6\n",
    "random_nums = [12,21,432,43,56,43,98,76,432,21,7]\n",
    "print(random_nums)\n",
    "\n",
    "random_nums.sort()\n",
    "print(random_nums)\n",
    "\n",
    "random_nums.reverse()\n",
    "print(random_nums)\n",
    "\n",
    "unique_nums = set(random_nums)\n",
    "print(list(unique_nums))"
   ]
  },
  {
   "cell_type": "code",
   "execution_count": 19,
   "id": "064ed6a4",
   "metadata": {},
   "outputs": [
    {
     "name": "stdout",
     "output_type": "stream",
     "text": [
      "[[1, 2, 3], [4, 5, 6], [7, 8, 9]]\n",
      "6\n"
     ]
    }
   ],
   "source": [
    "# Assi 7\n",
    "matrix_3x3 = [\n",
    "    [1,2,3],\n",
    "    [4,5,6],\n",
    "    [7,8,9]\n",
    "]\n",
    "\n",
    "print(matrix_3x3)\n",
    "\n",
    "print(matrix_3x3[1][2])"
   ]
  },
  {
   "cell_type": "markdown",
   "id": "b18e4655",
   "metadata": {},
   "source": [
    "***"
   ]
  },
  {
   "cell_type": "markdown",
   "id": "a0b096e6",
   "metadata": {},
   "source": [
    "### <a id='toc1_1_1_'></a>[Sorting list of dictionaries](#toc0_)"
   ]
  },
  {
   "cell_type": "code",
   "execution_count": null,
   "id": "55e7b90e",
   "metadata": {},
   "outputs": [],
   "source": [
    "sorted_desc_listofdict = sorted(list_of_dict, key=lambda x: x['keyname'], reverse=True)"
   ]
  },
  {
   "cell_type": "markdown",
   "id": "0eae5143",
   "metadata": {},
   "source": [
    "***"
   ]
  },
  {
   "cell_type": "code",
   "execution_count": 3,
   "id": "a99d576f",
   "metadata": {},
   "outputs": [
    {
     "name": "stdout",
     "output_type": "stream",
     "text": [
      "[{'name': 'Dev', 'score': 78}, {'name': 'Jacob', 'score': 76}, {'name': 'Chandler', 'score': 90}]\n",
      "[{'name': 'Chandler', 'score': 90}, {'name': 'Dev', 'score': 78}, {'name': 'Jacob', 'score': 76}]\n"
     ]
    }
   ],
   "source": [
    "# Assi 8\n",
    "list_of_dict = [\n",
    "    {\n",
    "        \"name\":\"Dev\",\n",
    "        \"score\":78,\n",
    "    },\n",
    "    {\n",
    "        \"name\":\"Jacob\",\n",
    "        \"score\":76,\n",
    "    },\n",
    "    {\n",
    "        \"name\":\"Chandler\",\n",
    "        \"score\":90,\n",
    "    }\n",
    "]\n",
    "\n",
    "print(list_of_dict)\n",
    "\n",
    "sorted_lst = sorted(list_of_dict,\n",
    "                    key=lambda x:x['score'],\n",
    "                    reverse=True)\n",
    "\n",
    "print(sorted_lst)\n"
   ]
  },
  {
   "cell_type": "markdown",
   "id": "4f081092",
   "metadata": {},
   "source": [
    "### <a id='toc1_1_2_'></a>[⭐Assignment 9](#toc0_)"
   ]
  },
  {
   "cell_type": "code",
   "execution_count": 12,
   "id": "941416c2",
   "metadata": {},
   "outputs": [
    {
     "name": "stdout",
     "output_type": "stream",
     "text": [
      "Original Matrix:\n",
      " [[1, 2, 3], [4, 5, 6], [7, 8, 9]]\n",
      "Transposed Matrix:\n",
      " [[1, 4, 7], [2, 5, 8], [3, 6, 9]]\n"
     ]
    }
   ],
   "source": [
    "# Assi 9\n",
    "def transpose(mat_3x3):\n",
    "    transposed = []\n",
    "    for i in range(len(mat_3x3[0])):\n",
    "        t_row = [] \n",
    "        for j in range(len(mat_3x3)):\n",
    "            t_row.append(mat_3x3[j][i])\n",
    "        transposed.append(t_row)\n",
    "    return transposed\n",
    "\n",
    "matrix_3x3 = [\n",
    "    [1,2,3],\n",
    "    [4,5,6],\n",
    "    [7,8,9]\n",
    "]\n",
    "\n",
    "print(\"Original Matrix:\\n\",matrix_3x3)\n",
    "print(\"Transposed Matrix:\\n\",transpose(matrix_3x3))"
   ]
  },
  {
   "cell_type": "code",
   "execution_count": 16,
   "id": "50383f02",
   "metadata": {},
   "outputs": [
    {
     "name": "stdout",
     "output_type": "stream",
     "text": [
      "Original Nested List\n",
      "\n",
      "[1, 2, 3, 11]\n",
      "[4, 5, 6, 12]\n",
      "[7, 8, 9, 14]\n",
      "Flattened List\n",
      "\n",
      "[1, 2, 3, 11, 4, 5, 6, 12, 7, 8, 9, 14]\n"
     ]
    }
   ],
   "source": [
    "# Assi 10\n",
    "def flatten(nested_lst):\n",
    "    flat = []\n",
    "    for lst in nested_lst:\n",
    "        for item in lst:\n",
    "            flat.append(item)\n",
    "    return flat\n",
    "\n",
    "nest_lst = [\n",
    "    [1,2,3,11],\n",
    "    [4,5,6,12],\n",
    "    [7,8,9,14]\n",
    "]\n",
    "\n",
    "print(\"Original Nested List\\n\")\n",
    "for row in nest_lst:\n",
    "    print(row)\n",
    "\n",
    "print(\"Flattened List\\n\")\n",
    "print(flatten(nest_lst))"
   ]
  },
  {
   "cell_type": "markdown",
   "id": "5b8da8ca",
   "metadata": {},
   "source": [
    "***"
   ]
  },
  {
   "cell_type": "markdown",
   "id": "3cf97821",
   "metadata": {},
   "source": [
    "### <a id='toc1_1_3_'></a>[Remove element from list using index](#toc0_)"
   ]
  },
  {
   "cell_type": "code",
   "execution_count": 24,
   "id": "c5074b06",
   "metadata": {},
   "outputs": [
    {
     "name": "stdout",
     "output_type": "stream",
     "text": [
      "[1, 2, 3, 4, 5]\n",
      "[1, 3, 4, 5]\n",
      "[1, 3, 4]\n"
     ]
    }
   ],
   "source": [
    "my_list = [1,2,3,4,5]\n",
    "print(my_list)\n",
    "\n",
    "# M1\n",
    "del my_list[1]\n",
    "print(my_list)\n",
    "\n",
    "# M2\n",
    "my_list.pop(3)\n",
    "print(my_list)"
   ]
  },
  {
   "cell_type": "markdown",
   "id": "65e69af2",
   "metadata": {},
   "source": [
    "***"
   ]
  },
  {
   "cell_type": "code",
   "execution_count": 28,
   "id": "b3a29d44",
   "metadata": {},
   "outputs": [
    {
     "name": "stdout",
     "output_type": "stream",
     "text": [
      "[1, 2, 3, 4, 5, 6, 7, 8, 9, 10]\n",
      "[1, 2, 4, 6, 8, 99, 9, 10]\n"
     ]
    }
   ],
   "source": [
    "# Assi 11\n",
    "lst = [1,2,3,4,5,6,7,8,9,10]\n",
    "print(lst)\n",
    "\n",
    "for i in [6, 4, 2]:\n",
    "    lst.pop(i)\n",
    "\n",
    "lst.insert(5,99)\n",
    "\n",
    "print(lst)"
   ]
  },
  {
   "cell_type": "markdown",
   "id": "edec12eb",
   "metadata": {},
   "source": [
    "***"
   ]
  },
  {
   "cell_type": "markdown",
   "id": "3235d232",
   "metadata": {},
   "source": [
    "### <a id='toc1_1_4_'></a>[```zip``` function](#toc0_)\n",
    "Combines multiple lists as a tuple in a zip object, which you can convert into a list to get list of tuples"
   ]
  },
  {
   "cell_type": "code",
   "execution_count": 30,
   "id": "8d9d9ba5",
   "metadata": {},
   "outputs": [
    {
     "name": "stdout",
     "output_type": "stream",
     "text": [
      "[('Dev', 21), ('Chandler', 26), ('joey', 25)]\n"
     ]
    }
   ],
   "source": [
    "name = ['Dev', 'Chandler','joey']\n",
    "age = [21,26,25]\n",
    "\n",
    "zipped_data = zip(name, age)\n",
    "\n",
    "list_of_tup = list(zipped_data)\n",
    "\n",
    "print(list_of_tup)"
   ]
  },
  {
   "cell_type": "markdown",
   "id": "950cc492",
   "metadata": {},
   "source": [
    "***"
   ]
  },
  {
   "cell_type": "code",
   "execution_count": 33,
   "id": "365aa64d",
   "metadata": {},
   "outputs": [
    {
     "name": "stdout",
     "output_type": "stream",
     "text": [
      "[('Thor', 'Mjolnir'), ('Bucky', 'Metal Arm'), ('Batman', 'Money')]\n"
     ]
    }
   ],
   "source": [
    "# Assi 12\n",
    "hero = ['Thor', 'Bucky', 'Batman']\n",
    "weapon = ['Mjolnir', 'Metal Arm', 'Money']\n",
    "\n",
    "zipped = zip(hero, weapon)\n",
    "\n",
    "list_of_tup = list(zipped)\n",
    "print(list_of_tup)"
   ]
  },
  {
   "cell_type": "markdown",
   "id": "0bf1db75",
   "metadata": {},
   "source": [
    "***"
   ]
  },
  {
   "cell_type": "markdown",
   "id": "f7d6a4ea",
   "metadata": {},
   "source": [
    "### <a id='toc1_1_5_'></a>[⭐Assignment 13](#toc0_)\n",
    "NOTE- list.reverse() is inplace so no need to return the value"
   ]
  },
  {
   "cell_type": "markdown",
   "id": "628ed9f8",
   "metadata": {},
   "source": [
    "***"
   ]
  },
  {
   "cell_type": "code",
   "execution_count": 38,
   "id": "dedfd28d",
   "metadata": {},
   "outputs": [
    {
     "name": "stdout",
     "output_type": "stream",
     "text": [
      "Original List:  [12, 9, 87]\n",
      "Reversed List:  [87, 9, 12]\n"
     ]
    }
   ],
   "source": [
    "# Assi 13\n",
    "\n",
    "def lst_reverse(my_lst):\n",
    "    my_lst.reverse()\n",
    "\n",
    "my_lst = [12, 9, 87]\n",
    "print(\"Original List: \", my_lst)\n",
    "\n",
    "lst_reverse(my_lst)\n",
    "print(\"Reversed List: \", my_lst)"
   ]
  },
  {
   "cell_type": "markdown",
   "id": "dcbd513b",
   "metadata": {},
   "source": [
    "***"
   ]
  },
  {
   "cell_type": "markdown",
   "id": "f3d10743",
   "metadata": {},
   "source": [
    "### <a id='toc1_1_6_'></a>[List Rotation](#toc0_)"
   ]
  },
  {
   "cell_type": "code",
   "execution_count": null,
   "id": "085b8d80",
   "metadata": {},
   "outputs": [],
   "source": [
    "def rotate_list(lst, n):\n",
    "    return lst[n:] + lst[:n]"
   ]
  },
  {
   "cell_type": "markdown",
   "id": "1c7f8e1e",
   "metadata": {},
   "source": [
    "***"
   ]
  },
  {
   "cell_type": "code",
   "execution_count": 43,
   "id": "57c8a678",
   "metadata": {},
   "outputs": [
    {
     "name": "stdout",
     "output_type": "stream",
     "text": [
      "Original list:  [1, 2, 3, 4, 5]\n",
      "List rotated by n=2 is :  [2, 3, 4, 5, 1]\n"
     ]
    }
   ],
   "source": [
    "# Assi 14\n",
    "def rotate_lst(lst:list,n:int):\n",
    "    return lst[n:] + lst[:n]\n",
    "\n",
    "my_lst = [1,2,3,4,5]\n",
    "print(\"Original list: \", my_lst)\n",
    "n = 1\n",
    "rotated = rotate_lst(my_lst,n)\n",
    "print(f\"List rotated by n={2} is : \", rotated)"
   ]
  },
  {
   "cell_type": "markdown",
   "id": "d27ecce3",
   "metadata": {},
   "source": [
    "***"
   ]
  },
  {
   "cell_type": "markdown",
   "id": "7f300b5c",
   "metadata": {},
   "source": [
    "### <a id='toc1_1_7_'></a>[⭐ Assignment 15](#toc0_)"
   ]
  },
  {
   "cell_type": "markdown",
   "id": "942e58af",
   "metadata": {},
   "source": [
    "***"
   ]
  },
  {
   "cell_type": "code",
   "execution_count": 46,
   "id": "6cc0fbe9",
   "metadata": {},
   "outputs": [
    {
     "name": "stdout",
     "output_type": "stream",
     "text": [
      "[87, 99]\n"
     ]
    }
   ],
   "source": [
    "# Assi 15 M1\n",
    "def intersection(lst1, lst2):\n",
    "    intersection_lst = []\n",
    "    if len(lst1) >= len(lst2):\n",
    "        for i in range(len(lst1)):\n",
    "            if lst1[i] in lst2:\n",
    "                intersection_lst.append(lst1[i])\n",
    "    else:\n",
    "        for i in range(len(lst2)):\n",
    "            if lst2[i] in lst1:\n",
    "                intersection_lst.append(lst2[i])\n",
    "\n",
    "    return intersection_lst\n",
    "\n",
    "lst1 = [1,2,3,4,5,6,87,99]\n",
    "lst2 = [99, 87]\n",
    "\n",
    "print(intersection(lst1, lst2))"
   ]
  },
  {
   "cell_type": "code",
   "execution_count": 47,
   "id": "4fea5f12",
   "metadata": {},
   "outputs": [
    {
     "name": "stdout",
     "output_type": "stream",
     "text": [
      "[87, 99]\n"
     ]
    }
   ],
   "source": [
    "# Assi 15 M2\n",
    "def inter(lst1, lst2):\n",
    "    return [x for x in lst1 if x in lst2]\n",
    "\n",
    "lst1 = [1,2,3,4,5,6,87,99]\n",
    "lst2 = [99, 87]\n",
    "\n",
    "print(intersection(lst1, lst2))"
   ]
  }
 ],
 "metadata": {
  "kernelspec": {
   "display_name": "py-env",
   "language": "python",
   "name": "python3"
  },
  "language_info": {
   "codemirror_mode": {
    "name": "ipython",
    "version": 3
   },
   "file_extension": ".py",
   "mimetype": "text/x-python",
   "name": "python",
   "nbconvert_exporter": "python",
   "pygments_lexer": "ipython3",
   "version": "3.12.11"
  }
 },
 "nbformat": 4,
 "nbformat_minor": 5
}
