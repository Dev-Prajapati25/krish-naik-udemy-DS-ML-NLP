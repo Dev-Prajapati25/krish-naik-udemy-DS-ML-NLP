{
 "cells": [
  {
   "cell_type": "markdown",
   "id": "6ef04add",
   "metadata": {},
   "source": [
    "# Module 3: Data Structures Assignments"
   ]
  },
  {
   "cell_type": "markdown",
   "id": "daf9b90e",
   "metadata": {},
   "source": [
    "## Lesson 3.1: Lists"
   ]
  },
  {
   "cell_type": "code",
   "execution_count": 1,
   "id": "34e63a84",
   "metadata": {},
   "outputs": [
    {
     "name": "stdout",
     "output_type": "stream",
     "text": [
      "[1, 2, 3, 4, 5, 6, 7, 8, 9, 10, 11, 12, 13, 14, 15, 16, 17, 18, 19, 20]\n"
     ]
    }
   ],
   "source": [
    "# Assi 1\n",
    "pos_nums = []\n",
    "for i in range(1,21):\n",
    "    pos_nums.append(i)\n",
    "\n",
    "print(pos_nums)"
   ]
  },
  {
   "cell_type": "code",
   "execution_count": 6,
   "id": "54d93a1b",
   "metadata": {},
   "outputs": [
    {
     "name": "stdout",
     "output_type": "stream",
     "text": [
      "First: 1\n",
      "Middle: 10\n",
      "Last: 20\n"
     ]
    }
   ],
   "source": [
    "# Assi 2\n",
    "max_index = len(pos_nums) - 1\n",
    "print(f\"First: {pos_nums[0]}\")\n",
    "print(f\"Middle: {pos_nums[int(max_index/2)]}\")\n",
    "print(f\"Last: {pos_nums[max_index]}\")"
   ]
  },
  {
   "cell_type": "code",
   "execution_count": 12,
   "id": "95999aa5",
   "metadata": {},
   "outputs": [
    {
     "name": "stdout",
     "output_type": "stream",
     "text": [
      "First Five elements:\n",
      "[1, 2, 3, 4, 5]\n",
      "Last Five Elements: \n",
      "[16, 17, 18, 19, 20]\n",
      "Element from index 5 to 15: \n",
      "[6, 7, 8, 9, 10, 11, 12, 13, 14, 15, 16]\n"
     ]
    }
   ],
   "source": [
    "# Assi 3\n",
    "print(\"First Five elements:\")\n",
    "print(pos_nums[0:5])\n",
    "\n",
    "print(\"Last Five Elements: \")\n",
    "print(pos_nums[max_index-4:])\n",
    "\n",
    "print(\"Element from index 5 to 15: \")\n",
    "print(pos_nums[5:16])"
   ]
  },
  {
   "cell_type": "code",
   "execution_count": 13,
   "id": "9297c44b",
   "metadata": {},
   "outputs": [
    {
     "name": "stdout",
     "output_type": "stream",
     "text": [
      "[1, 4, 9, 16, 25, 36, 49, 64, 81, 100]\n"
     ]
    }
   ],
   "source": [
    "# Assi 4\n",
    "sq_first10 = [x**2 for x in pos_nums[:10]]\n",
    "print(sq_first10)"
   ]
  },
  {
   "cell_type": "code",
   "execution_count": 14,
   "id": "6abadc00",
   "metadata": {},
   "outputs": [
    {
     "name": "stdout",
     "output_type": "stream",
     "text": [
      "[2, 4, 6, 8, 10, 12, 14, 16, 18, 20]\n"
     ]
    }
   ],
   "source": [
    "# Assi 5\n",
    "even_num = [x for x in pos_nums if x%2==0]\n",
    "print(even_num)"
   ]
  },
  {
   "cell_type": "code",
   "execution_count": 17,
   "id": "57e5c5ce",
   "metadata": {},
   "outputs": [
    {
     "name": "stdout",
     "output_type": "stream",
     "text": [
      "[12, 21, 432, 43, 56, 43, 98, 76, 432, 21, 7]\n",
      "[7, 12, 21, 21, 43, 43, 56, 76, 98, 432, 432]\n",
      "[432, 432, 98, 76, 56, 43, 43, 21, 21, 12, 7]\n",
      "[98, 7, 43, 76, 12, 432, 21, 56]\n"
     ]
    }
   ],
   "source": [
    "# Assi 6\n",
    "random_nums = [12,21,432,43,56,43,98,76,432,21,7]\n",
    "print(random_nums)\n",
    "\n",
    "random_nums.sort()\n",
    "print(random_nums)\n",
    "\n",
    "random_nums.reverse()\n",
    "print(random_nums)\n",
    "\n",
    "unique_nums = set(random_nums)\n",
    "print(list(unique_nums))"
   ]
  },
  {
   "cell_type": "code",
   "execution_count": 19,
   "id": "064ed6a4",
   "metadata": {},
   "outputs": [
    {
     "name": "stdout",
     "output_type": "stream",
     "text": [
      "[[1, 2, 3], [4, 5, 6], [7, 8, 9]]\n",
      "6\n"
     ]
    }
   ],
   "source": [
    "# Assi 7\n",
    "matrix_3x3 = [\n",
    "    [1,2,3],\n",
    "    [4,5,6],\n",
    "    [7,8,9]\n",
    "]\n",
    "\n",
    "print(matrix_3x3)\n",
    "\n",
    "print(matrix_3x3[1][2])"
   ]
  },
  {
   "cell_type": "code",
   "execution_count": null,
   "id": "a99d576f",
   "metadata": {},
   "outputs": [
    {
     "name": "stdout",
     "output_type": "stream",
     "text": [
      "[{'name': 'Dev', 'score': 78}, {'name': 'Jacob', 'score': 76}, {'name': 'Chandler', 'score': 90}]\n"
     ]
    }
   ],
   "source": [
    "# Assi 8\n",
    "list_of_dict = [\n",
    "    {\n",
    "        \"name\":\"Dev\",\n",
    "        \"score\":78,\n",
    "    },\n",
    "    {\n",
    "        \"name\":\"Jacob\",\n",
    "        \"score\":76,\n",
    "    },\n",
    "    {\n",
    "        \"name\":\"Chandler\",\n",
    "        \"score\":90,\n",
    "    }\n",
    "]\n",
    "##### "
   ]
  },
  {
   "cell_type": "code",
   "execution_count": 3,
   "id": "fd8fc006",
   "metadata": {},
   "outputs": [
    {
     "data": {
      "text/plain": [
       "(1, 2, 3, 4, 5)"
      ]
     },
     "execution_count": 3,
     "metadata": {},
     "output_type": "execute_result"
    }
   ],
   "source": [
    "tup = tuple([1,2,3,4,5])\n",
    "tup"
   ]
  },
  {
   "cell_type": "code",
   "execution_count": 4,
   "id": "1c5e3b33",
   "metadata": {},
   "outputs": [
    {
     "data": {
      "text/plain": [
       "(1, 2, 3, 4, 5, 1, 2, 3, 4, 5)"
      ]
     },
     "execution_count": 4,
     "metadata": {},
     "output_type": "execute_result"
    }
   ],
   "source": [
    "tup*2"
   ]
  },
  {
   "cell_type": "code",
   "execution_count": 6,
   "id": "fc08b047",
   "metadata": {},
   "outputs": [
    {
     "data": {
      "text/plain": [
       "(1, 2, 3, 4, 5)"
      ]
     },
     "execution_count": 6,
     "metadata": {},
     "output_type": "execute_result"
    }
   ],
   "source": [
    "tup"
   ]
  },
  {
   "cell_type": "code",
   "execution_count": null,
   "id": "941416c2",
   "metadata": {},
   "outputs": [],
   "source": []
  }
 ],
 "metadata": {
  "kernelspec": {
   "display_name": "Python 3",
   "language": "python",
   "name": "python3"
  },
  "language_info": {
   "codemirror_mode": {
    "name": "ipython",
    "version": 3
   },
   "file_extension": ".py",
   "mimetype": "text/x-python",
   "name": "python",
   "nbconvert_exporter": "python",
   "pygments_lexer": "ipython3",
   "version": "3.12.0"
  }
 },
 "nbformat": 4,
 "nbformat_minor": 5
}
