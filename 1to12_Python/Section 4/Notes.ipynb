{
 "cells": [
  {
   "cell_type": "markdown",
   "id": "dfe5cb24",
   "metadata": {},
   "source": [
    "# <a id='toc1_'></a>[Section 4 Notes](#toc0_)"
   ]
  },
  {
   "cell_type": "markdown",
   "id": "28d08f22",
   "metadata": {},
   "source": [
    "## <a id='toc1_1_'></a>[List](#toc0_)"
   ]
  },
  {
   "cell_type": "markdown",
   "id": "c6735a1c",
   "metadata": {},
   "source": [
    "***"
   ]
  },
  {
   "cell_type": "markdown",
   "id": "43a31bbc",
   "metadata": {},
   "source": [
    "### <a id='toc1_1_1_'></a>[Good use case in ```sum()```](#toc0_)"
   ]
  },
  {
   "cell_type": "code",
   "execution_count": 4,
   "id": "d6cec611",
   "metadata": {},
   "outputs": [
    {
     "name": "stdout",
     "output_type": "stream",
     "text": [
      "2\n"
     ]
    }
   ],
   "source": [
    "feedback = ['Great job', 'Bad service', 'Excellent work','worst']\n",
    "\n",
    "positive_feedback = sum(1 for comment in feedback if ('great' in comment.lower()) or ('excellent' in comment.lower()))\n",
    "\n",
    "print(positive_feedback)"
   ]
  },
  {
   "cell_type": "markdown",
   "id": "b1816cb6",
   "metadata": {},
   "source": [
    "### <a id='toc1_1_2_'></a>[Sorting list of dictionaries](#toc0_)"
   ]
  },
  {
   "cell_type": "code",
   "execution_count": null,
   "id": "390695b0",
   "metadata": {},
   "outputs": [],
   "source": [
    "sorted_desc_listofdict = sorted(list_of_dict, key=lambda x: x['keyname'], reverse=True)"
   ]
  },
  {
   "cell_type": "markdown",
   "id": "80ce5c7a",
   "metadata": {},
   "source": [
    "### <a id='toc1_1_3_'></a>[⭐Assignment 9](#toc0_)"
   ]
  },
  {
   "cell_type": "code",
   "execution_count": null,
   "id": "ef2811d4",
   "metadata": {},
   "outputs": [
    {
     "name": "stdout",
     "output_type": "stream",
     "text": [
      "Original Matrix:\n",
      " [[1, 2, 3], [4, 5, 6], [7, 8, 9]]\n",
      "Transposed Matrix:\n",
      " [[1, 4, 7], [2, 5, 8], [3, 6, 9]]\n"
     ]
    }
   ],
   "source": [
    "# Assi 9\n",
    "def transpose(mat_3x3):\n",
    "    transposed = []\n",
    "    for i in range(len(mat_3x3[0])):\n",
    "        t_row = [] \n",
    "        for j in range(len(mat_3x3)):\n",
    "            t_row.append(mat_3x3[j][i])\n",
    "        transposed.append(t_row)\n",
    "    return transposed\n",
    "\n",
    "matrix_3x3 = [\n",
    "    [1,2,3],\n",
    "    [4,5,6],\n",
    "    [7,8,9]\n",
    "]\n",
    "\n",
    "print(\"Original Matrix:\\n\",matrix_3x3)\n",
    "print(\"Transposed Matrix:\\n\",transpose(matrix_3x3))"
   ]
  },
  {
   "cell_type": "markdown",
   "id": "41fd0caf",
   "metadata": {},
   "source": [
    "### <a id='toc1_1_4_'></a>[Remove element from list using index](#toc0_)"
   ]
  },
  {
   "cell_type": "code",
   "execution_count": null,
   "id": "bd31b21a",
   "metadata": {},
   "outputs": [
    {
     "name": "stdout",
     "output_type": "stream",
     "text": [
      "[1, 2, 3, 4, 5]\n",
      "[1, 3, 4, 5]\n",
      "[1, 3, 4]\n"
     ]
    }
   ],
   "source": [
    "my_list = [1,2,3,4,5]\n",
    "print(my_list)\n",
    "\n",
    "# M1\n",
    "del my_list[1]\n",
    "print(my_list)\n",
    "\n",
    "# M2\n",
    "my_list.pop(3)\n",
    "print(my_list)"
   ]
  },
  {
   "cell_type": "markdown",
   "id": "54b88c0d",
   "metadata": {},
   "source": []
  },
  {
   "cell_type": "markdown",
   "id": "4dd3a03f",
   "metadata": {},
   "source": [
    "### <a id='toc1_1_5_'></a>[```zip``` function](#toc0_)\n",
    "Combines multiple lists as a tuple in a zip object, which you can convert into a list to get list of tuples"
   ]
  },
  {
   "cell_type": "code",
   "execution_count": null,
   "id": "873dba0f",
   "metadata": {},
   "outputs": [
    {
     "name": "stdout",
     "output_type": "stream",
     "text": [
      "[('Dev', 21), ('Chandler', 26), ('joey', 25)]\n"
     ]
    }
   ],
   "source": [
    "name = ['Dev', 'Chandler','joey']\n",
    "age = [21,26,25]\n",
    "\n",
    "zipped_data = zip(name, age)\n",
    "\n",
    "list_of_tup = list(zipped_data)\n",
    "\n",
    "print(list_of_tup)"
   ]
  },
  {
   "cell_type": "markdown",
   "id": "58c7dff0",
   "metadata": {},
   "source": [
    "### <a id='toc1_1_6_'></a>[⭐Assignment 13](#toc0_)\n",
    "NOTE- list.reverse() is inplace so no need to return the value"
   ]
  },
  {
   "cell_type": "code",
   "execution_count": null,
   "id": "35dee305",
   "metadata": {},
   "outputs": [
    {
     "name": "stdout",
     "output_type": "stream",
     "text": [
      "Original List:  [12, 9, 87]\n",
      "Reversed List:  [87, 9, 12]\n"
     ]
    }
   ],
   "source": [
    "# Assi 13\n",
    "\n",
    "def lst_reverse(my_lst):\n",
    "    my_lst.reverse()\n",
    "\n",
    "my_lst = [12, 9, 87]\n",
    "print(\"Original List: \", my_lst)\n",
    "\n",
    "lst_reverse(my_lst)\n",
    "print(\"Reversed List: \", my_lst)"
   ]
  },
  {
   "cell_type": "markdown",
   "id": "75307788",
   "metadata": {},
   "source": [
    "### <a id='toc1_1_7_'></a>[List Rotation](#toc0_)"
   ]
  },
  {
   "cell_type": "code",
   "execution_count": null,
   "id": "1c3035ae",
   "metadata": {},
   "outputs": [],
   "source": [
    "def rotate_list(lst, n):\n",
    "    return lst[n:] + lst[:n]"
   ]
  },
  {
   "cell_type": "markdown",
   "id": "09dcb10d",
   "metadata": {},
   "source": [
    "### <a id='toc1_1_8_'></a>[⭐ Assignment 15](#toc0_)"
   ]
  },
  {
   "cell_type": "code",
   "execution_count": null,
   "id": "fb3b1bdc",
   "metadata": {},
   "outputs": [
    {
     "name": "stdout",
     "output_type": "stream",
     "text": [
      "[87, 99]\n"
     ]
    }
   ],
   "source": [
    "# Assi 15 M1\n",
    "def intersection(lst1, lst2):\n",
    "    intersection_lst = []\n",
    "    if len(lst1) >= len(lst2):\n",
    "        for i in range(len(lst1)):\n",
    "            if lst1[i] in lst2:\n",
    "                intersection_lst.append(lst1[i])\n",
    "    else:\n",
    "        for i in range(len(lst2)):\n",
    "            if lst2[i] in lst1:\n",
    "                intersection_lst.append(lst2[i])\n",
    "\n",
    "    return intersection_lst\n",
    "\n",
    "lst1 = [1,2,3,4,5,6,87,99]\n",
    "lst2 = [99, 87]\n",
    "\n",
    "print(intersection(lst1, lst2))"
   ]
  },
  {
   "cell_type": "markdown",
   "id": "630a0779",
   "metadata": {},
   "source": [
    "## <a id='toc1_2_'></a>[Tuples](#toc0_)"
   ]
  },
  {
   "cell_type": "markdown",
   "id": "fbe78b9b",
   "metadata": {},
   "source": [
    "**Table of contents**<a id='toc0_'></a>    \n",
    "- [Section 4 Notes](#toc1_)    \n",
    "  - [List](#toc1_1_)    \n",
    "    - [Good use case in ```sum()```](#toc1_1_1_)    \n",
    "    - [Sorting list of dictionaries](#toc1_1_2_)    \n",
    "    - [⭐Assignment 9](#toc1_1_3_)    \n",
    "    - [Remove element from list using index](#toc1_1_4_)    \n",
    "    - [```zip``` function](#toc1_1_5_)    \n",
    "    - [⭐Assignment 13](#toc1_1_6_)    \n",
    "    - [List Rotation](#toc1_1_7_)    \n",
    "    - [⭐ Assignment 15](#toc1_1_8_)    \n",
    "  - [Tuples](#toc1_2_)    \n",
    "    - [count() and index()](#toc1_2_1_)    \n",
    "    - [Tuple of character to String](#toc1_2_2_)    \n",
    "  - [d](#toc1_3_)    \n",
    "\n",
    "<!-- vscode-jupyter-toc-config\n",
    "\tnumbering=false\n",
    "\tanchor=true\n",
    "\tflat=false\n",
    "\tminLevel=1\n",
    "\tmaxLevel=6\n",
    "\t/vscode-jupyter-toc-config -->\n",
    "<!-- THIS CELL WILL BE REPLACED ON TOC UPDATE. DO NOT WRITE YOUR TEXT IN THIS CELL -->"
   ]
  },
  {
   "cell_type": "markdown",
   "id": "aaacd212",
   "metadata": {},
   "source": [
    "### <a id='toc1_2_1_'></a>[count() and index()](#toc0_)"
   ]
  },
  {
   "cell_type": "code",
   "execution_count": 1,
   "id": "8945cbb0",
   "metadata": {},
   "outputs": [
    {
     "name": "stdout",
     "output_type": "stream",
     "text": [
      "2\n",
      "3\n"
     ]
    }
   ],
   "source": [
    "tup = (1,2,3,4,4,5)\n",
    "print(tup.count(4))  # How many 4 are there in tup\n",
    "print(tup.index(4))  # Index of first occurence of 4"
   ]
  },
  {
   "cell_type": "markdown",
   "id": "23b97ceb",
   "metadata": {},
   "source": [
    "### <a id='toc1_2_2_'></a>[Tuple of character to String](#toc0_)"
   ]
  },
  {
   "cell_type": "code",
   "execution_count": 2,
   "id": "ca3dcf36",
   "metadata": {},
   "outputs": [
    {
     "name": "stdout",
     "output_type": "stream",
     "text": [
      "Tuple:  ('C', 'h', 'a', 'n', 'd', 'l', 'e', 'r')\n",
      "String:  Chandler\n"
     ]
    }
   ],
   "source": [
    "tup11 = ('C', 'h', 'a', 'n', 'd', 'l', 'e', 'r')\n",
    "print(\"Tuple: \", tup11)\n",
    "str11 = \"\".join(tup11)\n",
    "print(\"String: \", str11)"
   ]
  },
  {
   "cell_type": "markdown",
   "id": "4a1d994d",
   "metadata": {},
   "source": [
    "## <a id='toc1_3_'></a>[d](#toc0_)"
   ]
  },
  {
   "cell_type": "markdown",
   "id": "e502491e",
   "metadata": {},
   "source": []
  }
 ],
 "metadata": {
  "kernelspec": {
   "display_name": "py-env",
   "language": "python",
   "name": "python3"
  },
  "language_info": {
   "codemirror_mode": {
    "name": "ipython",
    "version": 3
   },
   "file_extension": ".py",
   "mimetype": "text/x-python",
   "name": "python",
   "nbconvert_exporter": "python",
   "pygments_lexer": "ipython3",
   "version": "3.12.11"
  }
 },
 "nbformat": 4,
 "nbformat_minor": 5
}
