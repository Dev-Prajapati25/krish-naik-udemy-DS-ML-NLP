{
 "cells": [
  {
   "cell_type": "markdown",
   "id": "199f47c0",
   "metadata": {},
   "source": [
    "# Lambda Map Filter Assignment Solution"
   ]
  },
  {
   "cell_type": "markdown",
   "id": "bdd0b39b",
   "metadata": {},
   "source": [
    "***"
   ]
  },
  {
   "cell_type": "markdown",
   "id": "c3cbc9df",
   "metadata": {},
   "source": [
    "### Part A"
   ]
  },
  {
   "cell_type": "code",
   "execution_count": 1,
   "id": "6031e668",
   "metadata": {},
   "outputs": [
    {
     "data": {
      "text/plain": [
       "31"
      ]
     },
     "execution_count": 1,
     "metadata": {},
     "output_type": "execute_result"
    }
   ],
   "source": [
    "# Assi 1\n",
    "add10 = lambda x: x+10\n",
    "add10(21)"
   ]
  },
  {
   "cell_type": "code",
   "execution_count": 2,
   "id": "21ca79aa",
   "metadata": {},
   "outputs": [
    {
     "data": {
      "text/plain": [
       "1024"
      ]
     },
     "execution_count": 2,
     "metadata": {},
     "output_type": "execute_result"
    }
   ],
   "source": [
    "# Assi 2\n",
    "sq = lambda x: x**2\n",
    "sq(32)"
   ]
  },
  {
   "cell_type": "code",
   "execution_count": 3,
   "id": "091cce89",
   "metadata": {},
   "outputs": [
    {
     "data": {
      "text/plain": [
       "[4, 16, 36, 9, 49, 81, 25, 64, 81, 49, 25, 169, 189225, 1024]"
      ]
     },
     "execution_count": 3,
     "metadata": {},
     "output_type": "execute_result"
    }
   ],
   "source": [
    "# Assi 3\n",
    "nums = [2,4,6,3,7,9,5,8,9,7,5,13,435,32]\n",
    "\n",
    "list(map(lambda x:x**2, nums))"
   ]
  },
  {
   "cell_type": "code",
   "execution_count": 4,
   "id": "64158bce",
   "metadata": {},
   "outputs": [
    {
     "data": {
      "text/plain": [
       "[2, 4, 6, 8, 32]"
      ]
     },
     "execution_count": 4,
     "metadata": {},
     "output_type": "execute_result"
    }
   ],
   "source": [
    "# Assi 4\n",
    "nums = [2,4,6,3,7,9,5,8,9,7,5,13,435,32]\n",
    "\n",
    "list(filter(lambda x: x%2==0, nums))"
   ]
  },
  {
   "cell_type": "markdown",
   "id": "0a68fe93",
   "metadata": {},
   "source": [
    "### Part B"
   ]
  },
  {
   "cell_type": "code",
   "execution_count": 7,
   "id": "8bca1fe3",
   "metadata": {},
   "outputs": [
    {
     "data": {
      "text/plain": [
       "['HELLO', 'THERE', 'CHANDLER']"
      ]
     },
     "execution_count": 7,
     "metadata": {},
     "output_type": "execute_result"
    }
   ],
   "source": [
    "# Assi 5\n",
    "words=[\"hello\", \"there\", 'chandler']\n",
    "\n",
    "list(map(lambda x: x.upper(), words))"
   ]
  },
  {
   "cell_type": "code",
   "execution_count": 8,
   "id": "7e62f225",
   "metadata": {},
   "outputs": [
    {
     "data": {
      "text/plain": [
       "[67, 53, 69, 123, 76, 678, 51, 3557]"
      ]
     },
     "execution_count": 8,
     "metadata": {},
     "output_type": "execute_result"
    }
   ],
   "source": [
    "# Assi 6\n",
    "nums = [24,67,53,69,123,5,76,12,678,21,34,51,2,7,8,3557,7]\n",
    "list(filter(lambda x : x>50, nums))"
   ]
  },
  {
   "cell_type": "code",
   "execution_count": 9,
   "id": "e7070682",
   "metadata": {},
   "outputs": [
    {
     "data": {
      "text/plain": [
       "[5, 5, 8]"
      ]
     },
     "execution_count": 9,
     "metadata": {},
     "output_type": "execute_result"
    }
   ],
   "source": [
    "# Assi 7\n",
    "words=[\"hello\", \"there\", 'chandler']\n",
    "\n",
    "list(map(len, words))"
   ]
  },
  {
   "cell_type": "code",
   "execution_count": null,
   "id": "aa4c833f",
   "metadata": {},
   "outputs": [
    {
     "data": {
      "text/plain": [
       "[67, 53, 69, 25, 34]"
      ]
     },
     "execution_count": 12,
     "metadata": {},
     "output_type": "execute_result"
    }
   ],
   "source": [
    "# Assi 8\n",
    "import math\n",
    "nums = [24,67,53,69,123,5,76,12,678,25,34,51,2,7,8,3557,7]\n",
    "\n",
    "list(filter(lambda x : (math.sqrt(x))**2 == x, nums))\n"
   ]
  },
  {
   "cell_type": "code",
   "execution_count": 14,
   "id": "8b27d65a",
   "metadata": {},
   "outputs": [
    {
     "data": {
      "text/plain": [
       "[21, 32]"
      ]
     },
     "execution_count": 14,
     "metadata": {},
     "output_type": "execute_result"
    }
   ],
   "source": [
    "# Assi 9\n",
    "name_age = {\n",
    "    'Dev':21,\n",
    "    'john':17,\n",
    "    'chandler':32,\n",
    "    'Joey':12,\n",
    "}\n",
    "\n",
    "list(filter(lambda y: y >=18, name_age.values()))"
   ]
  },
  {
   "cell_type": "code",
   "execution_count": null,
   "id": "7883cd8a",
   "metadata": {},
   "outputs": [],
   "source": []
  }
 ],
 "metadata": {
  "kernelspec": {
   "display_name": "py-env",
   "language": "python",
   "name": "python3"
  },
  "language_info": {
   "codemirror_mode": {
    "name": "ipython",
    "version": 3
   },
   "file_extension": ".py",
   "mimetype": "text/x-python",
   "name": "python",
   "nbconvert_exporter": "python",
   "pygments_lexer": "ipython3",
   "version": "3.12.11"
  }
 },
 "nbformat": 4,
 "nbformat_minor": 5
}
