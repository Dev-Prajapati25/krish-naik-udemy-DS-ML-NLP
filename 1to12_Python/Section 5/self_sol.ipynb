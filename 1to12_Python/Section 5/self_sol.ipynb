{
 "cells": [
  {
   "cell_type": "markdown",
   "id": "d3e3e302",
   "metadata": {},
   "source": [
    "## Functions Assignment"
   ]
  },
  {
   "cell_type": "code",
   "execution_count": 7,
   "id": "db5d2b36",
   "metadata": {},
   "outputs": [
    {
     "name": "stdout",
     "output_type": "stream",
     "text": [
      "21\n"
     ]
    }
   ],
   "source": [
    "# Assi 1\n",
    "def fibonacci(n):\n",
    "    if n<=1:\n",
    "        return n\n",
    "    return fibonacci(n-1) + fibonacci(n-2)\n",
    "\n",
    "print(fibonacci(8))"
   ]
  },
  {
   "cell_type": "code",
   "execution_count": 9,
   "id": "b879e26d",
   "metadata": {},
   "outputs": [
    {
     "data": {
      "text/plain": [
       "{8: 21}"
      ]
     },
     "execution_count": 9,
     "metadata": {},
     "output_type": "execute_result"
    }
   ],
   "source": [
    "# Assi 2\n",
    "def func2(a,b={}):\n",
    "    b[a] = fibonacci(a)\n",
    "    return b\n",
    "\n",
    "func2(8)"
   ]
  },
  {
   "cell_type": "code",
   "execution_count": 10,
   "id": "b1b00ec9",
   "metadata": {},
   "outputs": [
    {
     "data": {
      "text/plain": [
       "{'name': 'Dev', 'age': 21, 'fav': 'Spiderman'}"
      ]
     },
     "execution_count": 10,
     "metadata": {},
     "output_type": "execute_result"
    }
   ],
   "source": [
    "# Assi 3\n",
    "def func3(**kwargs):\n",
    "    res = {}\n",
    "    for k, v in kwargs.items():\n",
    "        res[k] = v\n",
    "    return res\n",
    "\n",
    "func3(name='Dev', age=21, fav='Spiderman')"
   ]
  },
  {
   "cell_type": "code",
   "execution_count": null,
   "id": "dbee8da1",
   "metadata": {},
   "outputs": [
    {
     "name": "stdout",
     "output_type": "stream",
     "text": [
      "[1, 8, 27, 64, 125, 216]\n"
     ]
    }
   ],
   "source": [
    "# Assi 4\n",
    "def func4(callback, list_of_items):\n",
    "    res_list = []\n",
    "    for item in list_of_items:\n",
    "        res_list.append(callback(item))\n",
    "    return res_list\n",
    "\n",
    "# Callback func 1\n",
    "def cube(num):\n",
    "    return num**3\n",
    "\n",
    "print(func4(cube, [1,2,3,4,5,6]))"
   ]
  },
  {
   "cell_type": "code",
   "execution_count": 14,
   "id": "b8fa0737",
   "metadata": {},
   "outputs": [
    {
     "name": "stdout",
     "output_type": "stream",
     "text": [
      "2197\n"
     ]
    }
   ],
   "source": [
    "# Assi 5\n",
    "def sq_or_cube(num):\n",
    "    def square(n):\n",
    "        return n**2\n",
    "    def cube(n):\n",
    "        return n**3\n",
    "    if num%2==0:\n",
    "        return square\n",
    "    else: return cube\n",
    "    \n",
    "func = sq_or_cube(13)\n",
    "print(func(13))\n"
   ]
  },
  {
   "cell_type": "code",
   "execution_count": 17,
   "id": "fb087ff9",
   "metadata": {},
   "outputs": [
    {
     "data": {
      "text/plain": [
       "4"
      ]
     },
     "execution_count": 17,
     "metadata": {},
     "output_type": "execute_result"
    }
   ],
   "source": [
    "import math\n",
    "math.ceil(10/3)"
   ]
  },
  {
   "cell_type": "code",
   "execution_count": null,
   "id": "31698f82",
   "metadata": {},
   "outputs": [],
   "source": []
  }
 ],
 "metadata": {
  "kernelspec": {
   "display_name": "py-env",
   "language": "python",
   "name": "python3"
  },
  "language_info": {
   "codemirror_mode": {
    "name": "ipython",
    "version": 3
   },
   "file_extension": ".py",
   "mimetype": "text/x-python",
   "name": "python",
   "nbconvert_exporter": "python",
   "pygments_lexer": "ipython3",
   "version": "3.12.11"
  }
 },
 "nbformat": 4,
 "nbformat_minor": 5
}
