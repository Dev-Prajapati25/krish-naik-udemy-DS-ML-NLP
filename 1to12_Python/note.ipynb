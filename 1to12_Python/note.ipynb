{
 "cells": [
  {
   "cell_type": "markdown",
   "id": "976f27f6",
   "metadata": {},
   "source": [
    "## Python Notes"
   ]
  },
  {
   "cell_type": "markdown",
   "id": "71b80e43",
   "metadata": {},
   "source": [
    "***"
   ]
  },
  {
   "cell_type": "markdown",
   "id": "cd9827a1",
   "metadata": {},
   "source": [
    "##### ```isinstance(object, classinfo)```"
   ]
  },
  {
   "cell_type": "code",
   "execution_count": null,
   "id": "36f4353e",
   "metadata": {},
   "outputs": [
    {
     "name": "stdout",
     "output_type": "stream",
     "text": [
      "False\n",
      "True\n"
     ]
    }
   ],
   "source": [
    "val = 45.3\n",
    "print(isinstance(val, str))\n",
    "print(isinstance(val, float))"
   ]
  },
  {
   "cell_type": "markdown",
   "id": "b74cfd42",
   "metadata": {},
   "source": [
    "##### Reversing a string"
   ]
  },
  {
   "cell_type": "code",
   "execution_count": 4,
   "id": "5604326e",
   "metadata": {},
   "outputs": [
    {
     "name": "stdout",
     "output_type": "stream",
     "text": [
      "ereht olleH\n"
     ]
    }
   ],
   "source": [
    "string = \"Hello there\"\n",
    "reversed_string = string[::-1]\n",
    "print(reversed_string)"
   ]
  },
  {
   "cell_type": "markdown",
   "id": "84e1e519",
   "metadata": {},
   "source": [
    "##### Difference between / and //"
   ]
  },
  {
   "cell_type": "markdown",
   "id": "cf587b9e",
   "metadata": {},
   "source": [
    "**/ -> normal division**    \n",
    "* Always return float\n",
    "```\n",
    "print(7 / 2)   # 3.5\n",
    "print(8 / 4)   # 2.0   (notice it's a float, not int)\n",
    "```             "
   ]
  },
  {
   "cell_type": "markdown",
   "id": "09da1619",
   "metadata": {},
   "source": [
    "**// -> floor division**\n",
    "```\n",
    "print(7 // 2)   # 3   (since 7/2 = 3.5 → floor = 3)\n",
    "print(8 // 4)   # 2\n",
    "print(7.0 // 2) # 3.0 (float inputs → float output)\n",
    "```\n",
    "But for negative nums, it floors down\n",
    "```\n",
    "print(-7 / 2)   # -3.5\n",
    "print(-7 // 2)  # -4   (floored, not -3!)\n",
    "```"
   ]
  },
  {
   "cell_type": "code",
   "execution_count": null,
   "id": "57a93f72",
   "metadata": {},
   "outputs": [],
   "source": []
  }
 ],
 "metadata": {
  "kernelspec": {
   "display_name": "Python 3",
   "language": "python",
   "name": "python3"
  },
  "language_info": {
   "codemirror_mode": {
    "name": "ipython",
    "version": 3
   },
   "file_extension": ".py",
   "mimetype": "text/x-python",
   "name": "python",
   "nbconvert_exporter": "python",
   "pygments_lexer": "ipython3",
   "version": "3.12.0"
  }
 },
 "nbformat": 4,
 "nbformat_minor": 5
}
