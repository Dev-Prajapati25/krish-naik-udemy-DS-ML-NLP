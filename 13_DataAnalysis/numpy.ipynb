{
 "cells": [
  {
   "cell_type": "markdown",
   "id": "f61a25ff",
   "metadata": {},
   "source": [
    "## L54 - Numpy"
   ]
  },
  {
   "cell_type": "markdown",
   "id": "8aa1b4bd",
   "metadata": {},
   "source": [
    "### Basics"
   ]
  },
  {
   "cell_type": "code",
   "execution_count": 1,
   "id": "68ffb164",
   "metadata": {},
   "outputs": [],
   "source": [
    "import numpy as np"
   ]
  },
  {
   "cell_type": "code",
   "execution_count": 4,
   "id": "12d2031f",
   "metadata": {},
   "outputs": [
    {
     "data": {
      "text/plain": [
       "array([0, 2, 4, 6, 8])"
      ]
     },
     "execution_count": 4,
     "metadata": {},
     "output_type": "execute_result"
    }
   ],
   "source": [
    "# .arange(start, stop, step)\n",
    "arr1 = np.arange(0,10,2)\n",
    "arr1"
   ]
  },
  {
   "cell_type": "code",
   "execution_count": 5,
   "id": "8940b803",
   "metadata": {},
   "outputs": [
    {
     "data": {
      "text/plain": [
       "array([[0],\n",
       "       [2],\n",
       "       [4],\n",
       "       [6],\n",
       "       [8]])"
      ]
     },
     "execution_count": 5,
     "metadata": {},
     "output_type": "execute_result"
    }
   ],
   "source": [
    "# .reshape(row,col) \n",
    "arr1.reshape(5,1)"
   ]
  },
  {
   "cell_type": "code",
   "execution_count": 6,
   "id": "8ae43e8b",
   "metadata": {},
   "outputs": [
    {
     "ename": "ValueError",
     "evalue": "cannot reshape array of size 5 into shape (4,1)",
     "output_type": "error",
     "traceback": [
      "\u001b[31m---------------------------------------------------------------------------\u001b[39m",
      "\u001b[31mValueError\u001b[39m                                Traceback (most recent call last)",
      "\u001b[36mCell\u001b[39m\u001b[36m \u001b[39m\u001b[32mIn[6]\u001b[39m\u001b[32m, line 1\u001b[39m\n\u001b[32m----> \u001b[39m\u001b[32m1\u001b[39m \u001b[43marr1\u001b[49m\u001b[43m.\u001b[49m\u001b[43mreshape\u001b[49m\u001b[43m(\u001b[49m\u001b[32;43m4\u001b[39;49m\u001b[43m,\u001b[49m\u001b[32;43m1\u001b[39;49m\u001b[43m)\u001b[49m\n",
      "\u001b[31mValueError\u001b[39m: cannot reshape array of size 5 into shape (4,1)"
     ]
    }
   ],
   "source": [
    "arr1.reshape(4,1)"
   ]
  },
  {
   "cell_type": "code",
   "execution_count": 7,
   "id": "0042cb0d",
   "metadata": {},
   "outputs": [
    {
     "data": {
      "text/plain": [
       "array([[1., 1., 1.],\n",
       "       [1., 1., 1.],\n",
       "       [1., 1., 1.],\n",
       "       [1., 1., 1.]])"
      ]
     },
     "execution_count": 7,
     "metadata": {},
     "output_type": "execute_result"
    }
   ],
   "source": [
    "# .ones( (row,col) )\n",
    "np.ones( (4,3) )"
   ]
  },
  {
   "cell_type": "code",
   "execution_count": 9,
   "id": "10765eb3",
   "metadata": {},
   "outputs": [
    {
     "data": {
      "text/plain": [
       "array([[1, 0, 0, 0],\n",
       "       [0, 1, 0, 0],\n",
       "       [0, 0, 1, 0],\n",
       "       [0, 0, 0, 1]])"
      ]
     },
     "execution_count": 9,
     "metadata": {},
     "output_type": "execute_result"
    }
   ],
   "source": [
    "# .eye(size) -> Creates Identity matrix\n",
    "np.eye(4, dtype=int)"
   ]
  },
  {
   "cell_type": "markdown",
   "id": "66258b74",
   "metadata": {},
   "source": [
    "### Attributes"
   ]
  },
  {
   "cell_type": "code",
   "execution_count": 10,
   "id": "9a8b1218",
   "metadata": {},
   "outputs": [
    {
     "name": "stdout",
     "output_type": "stream",
     "text": [
      "Array:\n",
      " [[1 2 3]\n",
      " [4 5 6]]\n",
      "Shape: (2, 3)\n",
      "Number of dimensions: 2\n",
      "Size (number of elements): 6\n",
      "Data type: int32\n",
      "Item size (in bytes): 4\n"
     ]
    }
   ],
   "source": [
    "## Attributes of Numpy Array\n",
    "arr = np.array([[1, 2, 3], [4, 5, 6]])\n",
    "\n",
    "print(\"Array:\\n\", arr)\n",
    "print(\"Shape:\", arr.shape)  # Output: (2, 3)\n",
    "print(\"Number of dimensions:\", arr.ndim)  # Output: 2\n",
    "print(\"Size (number of elements):\", arr.size)  # Output: 6\n",
    "print(\"Data type:\", arr.dtype)  # Output: int32 (may vary based on platform)\n",
    "print(\"Item size (in bytes):\", arr.itemsize)  # Output: 8 (may vary based on platform)"
   ]
  },
  {
   "cell_type": "markdown",
   "id": "728b4e59",
   "metadata": {},
   "source": [
    "### Vectorized operations"
   ]
  },
  {
   "cell_type": "code",
   "execution_count": 21,
   "id": "0a790925",
   "metadata": {},
   "outputs": [
    {
     "name": "stdout",
     "output_type": "stream",
     "text": [
      "Addition:\n",
      " [[ 0  3]\n",
      " [ 6  9]\n",
      " [12 15]]\n",
      "Subtraction:\n",
      " [[ 0 -1]\n",
      " [-2 -3]\n",
      " [-4 -5]]\n",
      "Multiplication:\n",
      " [[ 0  2]\n",
      " [ 8 18]\n",
      " [32 50]]\n",
      "Division:\n",
      " [[nan 0.5]\n",
      " [0.5 0.5]\n",
      " [0.5 0.5]]\n"
     ]
    },
    {
     "name": "stderr",
     "output_type": "stream",
     "text": [
      "C:\\Users\\pdev2\\AppData\\Local\\Temp\\ipykernel_14320\\4192023824.py:14: RuntimeWarning: invalid value encountered in divide\n",
      "  print(\"Division:\\n\", arr1/arr2)\n"
     ]
    }
   ],
   "source": [
    "arr1 = np.arange(0,6).reshape(3,2)\n",
    "arr2 = np.arange(0,12,2).reshape(3,2)\n",
    "\n",
    "# Element wise Addition\n",
    "print(\"Addition:\\n\",arr1 + arr2)\n",
    "\n",
    "# Element wise Subtraction\n",
    "print(\"Subtraction:\\n\",arr1 - arr2)\n",
    "\n",
    "# Element wise Multiplication\n",
    "print(\"Multiplication:\\n\", arr1*arr2)\n",
    "\n",
    "# Element wise division\n",
    "print(\"Division:\\n\", arr1/arr2)"
   ]
  },
  {
   "cell_type": "code",
   "execution_count": null,
   "id": "82d72e39",
   "metadata": {},
   "outputs": [],
   "source": []
  }
 ],
 "metadata": {
  "kernelspec": {
   "display_name": "py-env",
   "language": "python",
   "name": "python3"
  },
  "language_info": {
   "codemirror_mode": {
    "name": "ipython",
    "version": 3
   },
   "file_extension": ".py",
   "mimetype": "text/x-python",
   "name": "python",
   "nbconvert_exporter": "python",
   "pygments_lexer": "ipython3",
   "version": "3.12.11"
  }
 },
 "nbformat": 4,
 "nbformat_minor": 5
}
