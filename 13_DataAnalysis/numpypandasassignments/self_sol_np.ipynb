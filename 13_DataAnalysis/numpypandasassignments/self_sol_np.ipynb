{
 "cells": [
  {
   "cell_type": "markdown",
   "id": "18401071",
   "metadata": {},
   "source": [
    "# <a id='toc1_'></a>[Numpy](#toc0_)"
   ]
  },
  {
   "cell_type": "markdown",
   "id": "6083c81b",
   "metadata": {},
   "source": [
    "**Table of contents**<a id='toc0_'></a>    \n",
    "- [Numpy](#toc1_)    \n",
    "    - [Array with Random numbers](#toc1_1_1_)    \n",
    "    - [Row-wise and Column-wise (```axis=```)](#toc1_1_2_)    \n",
    "    - [Normalization](#toc1_1_3_)    \n",
    "    - [Linear Algebra with NumPy](#toc1_1_4_)    \n",
    "    - [Matrix Multiplication / Dot Product](#toc1_1_5_)    \n",
    "    - [Structured Arrays](#toc1_1_6_)    \n",
    "    - [What is ```data['x'][:, np.newaxis]```](#toc1_1_7_)    \n",
    "    - [Masked Arrays](#toc1_1_8_)    \n",
    "    - [Manual Masking](#toc1_1_9_)    \n",
    "    - [Filling masked values](#toc1_1_10_)    \n",
    "    - [Array with Random numbers](#toc1_1_11_)    \n",
    "    - [Row-wise and Column-wise (```axis=```)](#toc1_1_12_)    \n",
    "    - [Normalization](#toc1_1_13_)    \n",
    "    - [Linear Algebra with NumPy](#toc1_1_14_)    \n",
    "    - [Matrix Multiplication / Dot Product](#toc1_1_15_)    \n",
    "    - [Structured Arrays](#toc1_1_16_)    \n",
    "    - [What is ```data['x'][:, np.newaxis]```](#toc1_1_17_)    \n",
    "    - [Masked Arrays](#toc1_1_18_)    \n",
    "    - [Manual Masking](#toc1_1_19_)    \n",
    "        - [Filling masked values](#toc1_1_19_1_1_)    \n",
    "\n",
    "<!-- vscode-jupyter-toc-config\n",
    "\tnumbering=false\n",
    "\tanchor=true\n",
    "\tflat=false\n",
    "\tminLevel=1\n",
    "\tmaxLevel=6\n",
    "\t/vscode-jupyter-toc-config -->\n",
    "<!-- THIS CELL WILL BE REPLACED ON TOC UPDATE. DO NOT WRITE YOUR TEXT IN THIS CELL -->"
   ]
  },
  {
   "cell_type": "markdown",
   "id": "56d27694",
   "metadata": {},
   "source": [
    "***"
   ]
  },
  {
   "cell_type": "code",
   "execution_count": null,
   "id": "0a6f282e",
   "metadata": {},
   "outputs": [],
   "source": [
    "import numpy as np\n",
    "import numpy.ma as ma"
   ]
  },
  {
   "cell_type": "code",
   "execution_count": 120,
   "id": "0e527ee0",
   "metadata": {},
   "outputs": [
    {
     "data": {
      "text/plain": [
       "array([[ 1,  2,  3,  4,  5],\n",
       "       [ 6,  7,  8,  9, 10],\n",
       "       [11, 12, 13, 14, 15],\n",
       "       [16, 17, 18, 19, 20],\n",
       "       [21, 22, 23, 24, 25]])"
      ]
     },
     "execution_count": 120,
     "metadata": {},
     "output_type": "execute_result"
    }
   ],
   "source": [
    "# Assi 1.1\n",
    "arr1 = np.arange(1,26).reshape(5,5)\n",
    "arr1\n",
    "\n",
    "#? .reshape() is not inplace, you have to reassign "
   ]
  },
  {
   "cell_type": "code",
   "execution_count": 121,
   "id": "8efb98b9",
   "metadata": {},
   "outputs": [
    {
     "data": {
      "text/plain": [
       "array([[ 0,  2,  3,  4],\n",
       "       [ 5,  0,  7,  8],\n",
       "       [ 9, 10,  0, 12],\n",
       "       [13, 14, 15,  0]])"
      ]
     },
     "execution_count": 121,
     "metadata": {},
     "output_type": "execute_result"
    }
   ],
   "source": [
    "# Assi 1.2\n",
    "arr1 = np.arange(1,17).reshape(4,4)\n",
    "np.fill_diagonal(arr1, 0)\n",
    "arr1\n",
    "#? .fill_diagonal(arr, value), is inplace"
   ]
  },
  {
   "cell_type": "code",
   "execution_count": 122,
   "id": "03a88629",
   "metadata": {},
   "outputs": [
    {
     "name": "stdout",
     "output_type": "stream",
     "text": [
      "[[ 1  2  3  4  5  6]\n",
      " [ 7  8  9 10 11 12]\n",
      " [13 14 15 16 17 18]\n",
      " [19 20 21 22 23 24]\n",
      " [25 26 27 28 29 30]\n",
      " [31 32 33 34 35 36]]\n"
     ]
    },
    {
     "data": {
      "text/plain": [
       "array([[14, 15, 16],\n",
       "       [20, 21, 22],\n",
       "       [26, 27, 28]])"
      ]
     },
     "execution_count": 122,
     "metadata": {},
     "output_type": "execute_result"
    }
   ],
   "source": [
    "# Assi 2.1\n",
    "arr2 = np.arange(1,37).reshape(6,6)\n",
    "print(arr2)\n",
    "arr2[2:5,1:4]\n"
   ]
  },
  {
   "cell_type": "markdown",
   "id": "cf4d05e8",
   "metadata": {},
   "source": [
    "***"
   ]
  },
  {
   "cell_type": "markdown",
   "id": "8a4b2b55",
   "metadata": {},
   "source": [
    "### <a id='toc1_1_11_'></a>[Array with Random numbers](#toc0_)"
   ]
  },
  {
   "cell_type": "code",
   "execution_count": 123,
   "id": "30c91f67",
   "metadata": {},
   "outputs": [
    {
     "data": {
      "text/plain": [
       "array([[0.89176602, 0.96658365, 0.32628821, 0.41543772, 0.69497914,\n",
       "        0.90366787],\n",
       "       [0.37525869, 0.88503424, 0.48269476, 0.03451206, 0.24539105,\n",
       "        0.4673792 ]])"
      ]
     },
     "execution_count": 123,
     "metadata": {},
     "output_type": "execute_result"
    }
   ],
   "source": [
    "float_array_1d = np.random.rand(5)\n",
    "\n",
    "float_array_2d = np.random.rand(2,6)\n",
    "float_array_2d"
   ]
  },
  {
   "cell_type": "code",
   "execution_count": 124,
   "id": "48e61c84",
   "metadata": {},
   "outputs": [
    {
     "data": {
      "text/plain": [
       "array([[ 2, 11, 18,  9],\n",
       "       [ 8, 13, 10, 17]])"
      ]
     },
     "execution_count": 124,
     "metadata": {},
     "output_type": "execute_result"
    }
   ],
   "source": [
    "# With Range\n",
    "# np.random.randint(start, stop, size)\n",
    "int_rand_1d = np.random.randint(0,10,5)\n",
    "\n",
    "int_rand_2d = np.random.randint(1,26,(2,4))\n",
    "int_rand_2d"
   ]
  },
  {
   "cell_type": "markdown",
   "id": "3ff7cf45",
   "metadata": {},
   "source": [
    "***"
   ]
  },
  {
   "cell_type": "code",
   "execution_count": 125,
   "id": "553c0bd9",
   "metadata": {},
   "outputs": [
    {
     "name": "stdout",
     "output_type": "stream",
     "text": [
      "[[ 5 36 57 83 41]\n",
      " [88 30 59 39 89]\n",
      " [78 81 60 21 31]\n",
      " [20 63 67 35 52]\n",
      " [10 41 25 84 38]]\n",
      "~~~\n",
      "top:\n",
      " [ 5 36 57 83 41]\n",
      "bottom:\n",
      " [10 41 25 84 38]\n",
      "left:\n",
      " [[ 5]\n",
      " [88]\n",
      " [78]\n",
      " [20]\n",
      " [10]]\n",
      "right:\n",
      " [[41]\n",
      " [89]\n",
      " [31]\n",
      " [52]\n",
      " [38]]\n"
     ]
    }
   ],
   "source": [
    "# Assi 2.2\n",
    "arr2 = np.random.randint(0,100, (5,5))\n",
    "print(arr2)\n",
    "print(\"~~~\")\n",
    "top = arr2[0]\n",
    "bottom = arr2[-1]\n",
    "left = arr2[:, 0]\n",
    "right = arr2[:, -1]\n",
    "\n",
    "print(\"top:\\n\",top)\n",
    "print(\"bottom:\\n\",bottom)\n",
    "print(\"left:\\n\",left.reshape(5,1))\n",
    "print(\"right:\\n\",right.reshape(5,1))"
   ]
  },
  {
   "cell_type": "code",
   "execution_count": 126,
   "id": "9fe93e72",
   "metadata": {},
   "outputs": [
    {
     "name": "stdout",
     "output_type": "stream",
     "text": [
      "Add\n",
      " [[133 154 120  67]\n",
      " [ 97  85  21 145]\n",
      " [ 56 131 165 123]]\n",
      "Subtract\n",
      " [[-15   8  72  45]\n",
      " [ 61   3 -15 -13]\n",
      " [ -4  -7  15  49]]\n",
      "Multiply\n",
      " [[4366 5913 2304  616]\n",
      " [1422 1804   54 5214]\n",
      " [ 780 4278 6750 3182]]\n",
      "Divide\n",
      " [[0.7972973  1.10958904 4.         5.09090909]\n",
      " [4.38888889 1.07317073 0.16666667 0.83544304]\n",
      " [0.86666667 0.89855072 1.2        2.32432432]]\n"
     ]
    }
   ],
   "source": [
    "# Assi 3.1\n",
    "arr3a = np.random.randint(1,100, (3,4))\n",
    "arr3b = np.random.randint(1,100, (3,4))\n",
    "\n",
    "print(\"Add\\n\",arr3a + arr3b)\n",
    "print(\"Subtract\\n\",arr3a - arr3b)\n",
    "print(\"Multiply\\n\",arr3a * arr3b)\n",
    "print(\"Divide\\n\",arr3a / arr3b)"
   ]
  },
  {
   "cell_type": "markdown",
   "id": "4bb20e50",
   "metadata": {},
   "source": [
    "***"
   ]
  },
  {
   "cell_type": "markdown",
   "id": "30515c4b",
   "metadata": {},
   "source": [
    "### <a id='toc1_1_12_'></a>[Row-wise and Column-wise (```axis=```)](#toc0_)"
   ]
  },
  {
   "cell_type": "code",
   "execution_count": 127,
   "id": "5f7ca8c1",
   "metadata": {},
   "outputs": [],
   "source": [
    "# axis = 1 , operation will be done with rows\n",
    "# axis = 0 , operation will be done with columns\n",
    "# If not provided (None by Default), element wise operation is done "
   ]
  },
  {
   "cell_type": "code",
   "execution_count": 128,
   "id": "568b3ad6",
   "metadata": {},
   "outputs": [
    {
     "name": "stdout",
     "output_type": "stream",
     "text": [
      "Squared array (element-wise):\n",
      " [[ 1  4  9]\n",
      " [16 25 36]\n",
      " [49 64 81]]\n",
      "\n",
      "Row sums:\n",
      " [ 6 15 24]\n",
      "\n",
      "Column means:\n",
      " [4. 5. 6.]\n"
     ]
    }
   ],
   "source": [
    "# Create a 2D NumPy array\n",
    "arr = np.array([[1, 2, 3],\n",
    "                [4, 5, 6],\n",
    "                [7, 8, 9]])\n",
    "\n",
    "# Element-wise operation (e.g., squaring each element)\n",
    "squared_arr = arr ** 2\n",
    "print(\"Squared array (element-wise):\\n\", squared_arr)\n",
    "\n",
    "# Row-wise sum (sum of elements in each row)\n",
    "row_sums = arr.sum(axis=1)\n",
    "print(\"\\nRow sums:\\n\", row_sums)\n",
    "\n",
    "# Column-wise mean (mean of elements in each column)\n",
    "col_means = arr.mean(axis=0)\n",
    "print(\"\\nColumn means:\\n\", col_means)"
   ]
  },
  {
   "cell_type": "markdown",
   "id": "ea3f387d",
   "metadata": {},
   "source": [
    "***"
   ]
  },
  {
   "cell_type": "code",
   "execution_count": 129,
   "id": "6f66b5a0",
   "metadata": {},
   "outputs": [
    {
     "name": "stdout",
     "output_type": "stream",
     "text": [
      "[[18 15  8 16]\n",
      " [ 2  6 15 16]\n",
      " [ 1 13 17  1]\n",
      " [ 7  9  8 15]]\n",
      "Row wise sums:\n",
      " [57 39 32 39]\n",
      "Column wise sums:\n",
      " [28 43 48 48]\n"
     ]
    }
   ],
   "source": [
    "# Assi 3.2\n",
    "arr3 = np.random.randint(1,20,(4,4))\n",
    "print(arr3)\n",
    "\n",
    "# Row wise sum (each col is sum of all elements in each original row)\n",
    "row_sums = arr3.sum(axis=1)\n",
    "print(\"Row wise sums:\\n\", row_sums)\n",
    "# 5 + 2 + 8 + 8 = 23\n",
    "\n",
    "# Column wise sum\n",
    "col_sums = arr3.sum(axis=0)\n",
    "print(\"Column wise sums:\\n\", col_sums)\n",
    "# 5 + 3 + 3 + 6 = 17"
   ]
  },
  {
   "cell_type": "code",
   "execution_count": 130,
   "id": "9c17e157",
   "metadata": {},
   "outputs": [
    {
     "name": "stdout",
     "output_type": "stream",
     "text": [
      "Mean:\n",
      " 42.76\n",
      "median:\n",
      " 41.0\n",
      "Standard Deviation:\n",
      " 27.79680557186383\n",
      "Variance:\n",
      " 772.6624\n"
     ]
    }
   ],
   "source": [
    "# Assi 4.1\n",
    "arr4 = np.random.randint(0,100, (5,5))\n",
    "\n",
    "mean = np.mean(arr4)\n",
    "median = np.median(arr4)\n",
    "std_dev = np.std(arr4)\n",
    "variance = np.var(arr4)\n",
    "\n",
    "print(\"Mean:\\n\", mean)\n",
    "print(\"median:\\n\", median)\n",
    "print(\"Standard Deviation:\\n\", std_dev)\n",
    "print(\"Variance:\\n\", variance)"
   ]
  },
  {
   "cell_type": "markdown",
   "id": "7ef75dc4",
   "metadata": {},
   "source": [
    "***"
   ]
  },
  {
   "cell_type": "markdown",
   "id": "086faa94",
   "metadata": {},
   "source": [
    "### <a id='toc1_1_13_'></a>[Normalization](#toc0_)"
   ]
  },
  {
   "cell_type": "markdown",
   "id": "ad4dd27f",
   "metadata": {},
   "source": [
    "_To have mean = 0 and standard deviation = 1_\n",
    "1. Calculate Mean and Standard Deviation\n",
    "2. Normalized_Data = (data-mean)/standard_dev"
   ]
  },
  {
   "cell_type": "markdown",
   "id": "2f076426",
   "metadata": {},
   "source": [
    "***"
   ]
  },
  {
   "cell_type": "code",
   "execution_count": 131,
   "id": "a9a082f0",
   "metadata": {},
   "outputs": [
    {
     "name": "stdout",
     "output_type": "stream",
     "text": [
      "Original Data:\n",
      " [[1 2 3]\n",
      " [4 5 6]\n",
      " [7 8 9]]\n",
      "Normalized Data:\n",
      " [[-1.54919334 -1.161895   -0.77459667]\n",
      " [-0.38729833  0.          0.38729833]\n",
      " [ 0.77459667  1.161895    1.54919334]]\n"
     ]
    }
   ],
   "source": [
    "# Assi 4.2\n",
    "arr4 = np.arange(1,10).reshape(3,3)\n",
    "print(\"Original Data:\\n\", arr4)\n",
    "\n",
    "# Step 1\n",
    "mean = np.mean(arr4)\n",
    "std_dev = np.std(arr4)\n",
    "\n",
    "# Step 2\n",
    "normalized_data = (arr4 - mean)/std_dev\n",
    "\n",
    "print(\"Normalized Data:\\n\", normalized_data)"
   ]
  },
  {
   "cell_type": "code",
   "execution_count": 132,
   "id": "15e9b0de",
   "metadata": {},
   "outputs": [
    {
     "name": "stdout",
     "output_type": "stream",
     "text": [
      "[8 2 8]\n",
      "---------------\n",
      "[[6 8 4]\n",
      " [3 9 3]\n",
      " [9 6 6]]\n",
      "---------------\n",
      "Final Array:\n",
      " [[14 10 12]\n",
      " [11 11 11]\n",
      " [17  8 14]]\n"
     ]
    }
   ],
   "source": [
    "# Assi 5.1\n",
    "arr5_2d = np.random.randint(1,10, (3,3))\n",
    "arr5_1d = np.random.randint(1,10,3)\n",
    "\n",
    "print(arr5_1d)\n",
    "print(\"---------------\")\n",
    "print(arr5_2d)\n",
    "print(\"---------------\")\n",
    "\n",
    "print(\"Final Array:\\n\", arr5_2d + arr5_1d)"
   ]
  },
  {
   "cell_type": "code",
   "execution_count": 133,
   "id": "768cc0ca",
   "metadata": {},
   "outputs": [
    {
     "name": "stdout",
     "output_type": "stream",
     "text": [
      "[ 3 19  3  9]\n",
      "---------------\n",
      "[[15  1  8 15]\n",
      " [11 14  8  2]\n",
      " [13  9  9 16]\n",
      " [16 19 12  1]]\n",
      "---------------\n",
      "Final Array:\n",
      " [[ 12 -18   5   6]\n",
      " [  8  -5   5  -7]\n",
      " [ 10 -10   6   7]\n",
      " [ 13   0   9  -8]]\n"
     ]
    }
   ],
   "source": [
    "# Assi 5.2\n",
    "arr5_2d = np.random.randint(1,20,(4,4))\n",
    "arr5_1d = np.random.randint(1,20,4)\n",
    "\n",
    "print(arr5_1d)\n",
    "print(\"---------------\")\n",
    "print(arr5_2d)\n",
    "print(\"---------------\")\n",
    "\n",
    "print(\"Final Array:\\n\", arr5_2d - arr5_1d)"
   ]
  },
  {
   "cell_type": "markdown",
   "id": "c4128469",
   "metadata": {},
   "source": [
    "***"
   ]
  },
  {
   "cell_type": "markdown",
   "id": "94f8667a",
   "metadata": {},
   "source": [
    "### <a id='toc1_1_14_'></a>[Linear Algebra with NumPy](#toc0_)"
   ]
  },
  {
   "cell_type": "code",
   "execution_count": 137,
   "id": "02384009",
   "metadata": {},
   "outputs": [],
   "source": [
    "matrix = np.random.randint(1,10, (3,3))\n"
   ]
  },
  {
   "cell_type": "code",
   "execution_count": 138,
   "id": "1d3dc673",
   "metadata": {},
   "outputs": [
    {
     "name": "stdout",
     "output_type": "stream",
     "text": [
      "Matrix:\n",
      " [[6 6 2]\n",
      " [8 8 3]\n",
      " [4 8 3]]\n",
      "---------------\n",
      "Transpose:\n",
      " [[6 8 4]\n",
      " [6 8 8]\n",
      " [2 3 3]]\n",
      "---------------\n",
      "Determinant:\n",
      " -7.999999999999995\n",
      "---------------\n",
      "Inverse:\n",
      " [[ 0.    0.25 -0.25]\n",
      " [ 1.5  -1.25  0.25]\n",
      " [-4.    3.   -0.  ]]\n",
      "---------------\n",
      "Eigenvalues and Eigenvectors:\n",
      " EigResult(eigenvalues=array([16.35881461,  1.08988631, -0.44870092]), eigenvectors=array([[-0.49543591, -0.28370022,  0.14943249],\n",
      "       [-0.67180166, -0.08617754, -0.45348931],\n",
      "       [-0.55065941,  0.95503278,  0.87864519]]))\n",
      "---------------\n",
      "Rank:\n",
      " 3\n",
      "---------------\n",
      "Flatten:\n",
      " [6 6 2 8 8 3 4 8 3]\n",
      "---------------\n"
     ]
    }
   ],
   "source": [
    "print(\"Matrix:\\n\",matrix)\n",
    "print(\"---------------\")\n",
    "\n",
    "# Transpose\n",
    "transpose = np.transpose(matrix)\n",
    "print(\"Transpose:\\n\",transpose)\n",
    "print(\"---------------\")\n",
    "\n",
    "# Determinant\n",
    "det = np.linalg.det(matrix)\n",
    "print(\"Determinant:\\n\",det)\n",
    "print(\"---------------\")\n",
    "\n",
    "# Inverse\n",
    "inv = np.linalg.inv(matrix)\n",
    "print(\"Inverse:\\n\",inv)\n",
    "print(\"---------------\")\n",
    "\n",
    "# Eigenvalues and Eigenvectors\n",
    "eig = np.linalg.eig(matrix)\n",
    "print(\"Eigenvalues and Eigenvectors:\\n\",eig)\n",
    "print(\"---------------\")\n",
    "\n",
    "# Rank\n",
    "rank = np.linalg.matrix_rank(matrix)\n",
    "print(\"Rank:\\n\", rank)\n",
    "print(\"---------------\")\n",
    "\n",
    "# Flatten (convert ND matrix to 1D)\n",
    "flat_matrix = matrix.flatten()\n",
    "print(\"Flatten:\\n\", flat_matrix)\n",
    "print(\"---------------\")"
   ]
  },
  {
   "cell_type": "markdown",
   "id": "abae30b6",
   "metadata": {},
   "source": [
    "***"
   ]
  },
  {
   "cell_type": "code",
   "execution_count": null,
   "id": "9356bd81",
   "metadata": {},
   "outputs": [],
   "source": [
    "# Assi 6.1\n",
    "arr6 = np.random.randint(1,10,(3,3))"
   ]
  },
  {
   "cell_type": "code",
   "execution_count": null,
   "id": "1125a5d8",
   "metadata": {},
   "outputs": [
    {
     "name": "stdout",
     "output_type": "stream",
     "text": [
      "Matrix:\n",
      " [[5 2 1]\n",
      " [6 9 5]\n",
      " [6 9 8]]\n",
      "---------------\n"
     ]
    }
   ],
   "source": [
    "print(\"Matrix:\\n\", arr6)\n",
    "print(\"---------------\")"
   ]
  },
  {
   "cell_type": "code",
   "execution_count": null,
   "id": "b5747944",
   "metadata": {},
   "outputs": [
    {
     "name": "stdout",
     "output_type": "stream",
     "text": [
      "Determinant:\n",
      " 98.99999999999999\n",
      "---------------\n",
      "Inverse:\n",
      " [[ 0.27272727 -0.07070707  0.01010101]\n",
      " [-0.18181818  0.34343434 -0.19191919]\n",
      " [ 0.         -0.33333333  0.33333333]]\n",
      "---------------\n",
      "EigenValues:\n",
      " [16.73715807  3.6361068   1.62673513]\n",
      "---------------\n"
     ]
    }
   ],
   "source": [
    "det = np.linalg.det(arr6)\n",
    "print(\"Determinant:\\n\", det)\n",
    "print(\"---------------\")\n",
    "\n",
    "inv = np.linalg.inv(arr6)\n",
    "print(\"Inverse:\\n\", inv)\n",
    "print(\"---------------\")\n",
    "\n",
    "eigenValues = np.linalg.eigvals(arr6)\n",
    "print(\"EigenValues:\\n\", eigenValues)\n",
    "print(\"---------------\")\n"
   ]
  },
  {
   "cell_type": "markdown",
   "id": "c48f1430",
   "metadata": {},
   "source": [
    "***"
   ]
  },
  {
   "cell_type": "markdown",
   "id": "1bf34e5a",
   "metadata": {},
   "source": [
    "### <a id='toc1_1_15_'></a>[Matrix Multiplication / Dot Product](#toc0_)"
   ]
  },
  {
   "cell_type": "code",
   "execution_count": null,
   "id": "73e707ee",
   "metadata": {},
   "outputs": [],
   "source": [
    "np.dot(arr1, arr2)\n",
    "\n",
    "#Preffered for 2D Matrix\n",
    "np.matmul(arr1, arr2)\n",
    "or\n",
    "arr1 @ arr2"
   ]
  },
  {
   "cell_type": "markdown",
   "id": "30b6ada7",
   "metadata": {},
   "source": [
    "***"
   ]
  },
  {
   "cell_type": "code",
   "execution_count": null,
   "id": "2fa165a0",
   "metadata": {},
   "outputs": [
    {
     "name": "stdout",
     "output_type": "stream",
     "text": [
      "[[100  78]\n",
      " [ 76  66]]\n",
      "[[100  78]\n",
      " [ 76  66]]\n",
      "[[100  78]\n",
      " [ 76  66]]\n"
     ]
    }
   ],
   "source": [
    "# Assi 6.2\n",
    "arr6_1 = np.random.randint(1,10,(2,3))\n",
    "arr6_2 = np.random.randint(1,10,(3,2))\n",
    "\n",
    "print(arr6_1 @ arr6_2)\n",
    "print(np.dot(arr6_1, arr6_2))\n",
    "print(np.matmul(arr6_1, arr6_2))"
   ]
  },
  {
   "cell_type": "code",
   "execution_count": null,
   "id": "3984fe3a",
   "metadata": {},
   "outputs": [],
   "source": [
    "def sep():\n",
    "    print(\"================\")"
   ]
  },
  {
   "cell_type": "code",
   "execution_count": null,
   "id": "be8a9772",
   "metadata": {},
   "outputs": [
    {
     "name": "stdout",
     "output_type": "stream",
     "text": [
      "[[1 5 6]\n",
      " [2 4 2]\n",
      " [6 2 8]]\n",
      "================\n",
      "[[1 5 6 2 4 2 6 2 8]]\n",
      "================\n",
      "[[1]\n",
      " [5]\n",
      " [6]\n",
      " [2]\n",
      " [4]\n",
      " [2]\n",
      " [6]\n",
      " [2]\n",
      " [8]]\n",
      "================\n"
     ]
    }
   ],
   "source": [
    "# Assi 7.1\n",
    "arr7 = np.random.randint(1,10,(3,3))\n",
    "print(arr7)\n",
    "sep()\n",
    "\n",
    "arr7 = arr7.reshape(1,9)\n",
    "print(arr7)\n",
    "sep()\n",
    "\n",
    "arr7 = arr7.reshape(9,1)\n",
    "print(arr7)\n",
    "sep()"
   ]
  },
  {
   "cell_type": "code",
   "execution_count": null,
   "id": "1a3b3aac",
   "metadata": {},
   "outputs": [
    {
     "name": "stdout",
     "output_type": "stream",
     "text": [
      "[[ 8  7 20  3  8]\n",
      " [17 11  9 20 18]\n",
      " [ 4  1 19  1 20]\n",
      " [ 5  6 24 13 13]\n",
      " [ 8  1 19 19 10]]\n",
      "================\n",
      "[ 8  7 20  3  8 17 11  9 20 18  4  1 19  1 20  5  6 24 13 13  8  1 19 19\n",
      " 10]\n",
      "================\n",
      "[[ 8  7 20  3  8]\n",
      " [17 11  9 20 18]\n",
      " [ 4  1 19  1 20]\n",
      " [ 5  6 24 13 13]\n",
      " [ 8  1 19 19 10]]\n",
      "================\n"
     ]
    }
   ],
   "source": [
    "# Assi 7.2\n",
    "arr7 = np.random.randint(1,25,(5,5))\n",
    "print(arr7)\n",
    "sep()\n",
    "\n",
    "arr7 = arr7.flatten()\n",
    "print(arr7)\n",
    "sep()\n",
    "\n",
    "arr7 = arr7.reshape(5,5)\n",
    "print(arr7)\n",
    "sep()\n"
   ]
  },
  {
   "cell_type": "code",
   "execution_count": null,
   "id": "557482da",
   "metadata": {},
   "outputs": [
    {
     "name": "stdout",
     "output_type": "stream",
     "text": [
      "[[13  8 21 12 19]\n",
      " [ 4 22  8  7 23]\n",
      " [11 14  8 13  4]\n",
      " [14 13 12  4  9]\n",
      " [ 9 24 17 16 21]]\n",
      "================\n"
     ]
    },
    {
     "data": {
      "text/plain": [
       "array([13, 19,  9, 21])"
      ]
     },
     "execution_count": 64,
     "metadata": {},
     "output_type": "execute_result"
    }
   ],
   "source": [
    "# Assi 8.1\n",
    "arr8 = np.random.randint(1,25,(5,5))\n",
    "print(arr8)\n",
    "sep()\n",
    "\n",
    "rows = [0, 0, 4, 4]\n",
    "columns = [0, 4, 0, 4]\n",
    "arr8[rows, columns] # Gives (0,0), (0,4), (4,0), (4,4)"
   ]
  },
  {
   "cell_type": "code",
   "execution_count": null,
   "id": "760065aa",
   "metadata": {},
   "outputs": [],
   "source": [
    "# Assi 8.2\n",
    "arr8 = np.random.randint(1,20, (4,4))"
   ]
  },
  {
   "cell_type": "code",
   "execution_count": null,
   "id": "80765914",
   "metadata": {},
   "outputs": [
    {
     "name": "stdout",
     "output_type": "stream",
     "text": [
      "[[17 12  3  1]\n",
      " [ 9 19  7 15]\n",
      " [10 15  4  6]\n",
      " [ 9  9 18 10]]\n",
      "================\n",
      "[[10 10  3  1]\n",
      " [ 9 10  7 10]\n",
      " [10 10  4  6]\n",
      " [ 9  9 10 10]]\n"
     ]
    }
   ],
   "source": [
    "print(arr8)\n",
    "sep()\n",
    "\n",
    "arr8[arr8>10] = 10\n",
    "print(arr8)"
   ]
  },
  {
   "cell_type": "markdown",
   "id": "8eb18210",
   "metadata": {},
   "source": [
    "***"
   ]
  },
  {
   "cell_type": "markdown",
   "id": "09496485",
   "metadata": {},
   "source": [
    "### <a id='toc1_1_16_'></a>[Structured Arrays](#toc0_)\n",
    "_Heterogenous Array_"
   ]
  },
  {
   "cell_type": "code",
   "execution_count": null,
   "id": "b3668a71",
   "metadata": {},
   "outputs": [
    {
     "name": "stdout",
     "output_type": "stream",
     "text": [
      "[('Alice', 25, 55.5) ('Bob', 30, 68.2) ('Charlie', 35, 72.3)]\n",
      "['Alice' 'Bob' 'Charlie']\n",
      "('Bob', 30, 68.2)\n",
      "[('Alice', 25, 55.5) ('Bob', 30, 68.2) ('Charlie', 35, 72.3)]\n"
     ]
    }
   ],
   "source": [
    "person_dtype = np.dtype([\n",
    "    (\"name\",\"U10\"),\n",
    "    (\"age\", \"i4\"),\n",
    "    (\"weight\", \"f4\")\n",
    "    ])\n",
    "\n",
    "people_arr = np.array([\n",
    "    (\"Alice\", 25, 55.5),\n",
    "    (\"Bob\",   30, 68.2),\n",
    "    (\"Charlie\", 35, 72.3)\n",
    "], dtype=person_dtype)\n",
    "\n",
    "print(people_arr)\n",
    "print(people_arr[\"name\"])\n",
    "print(people_arr[1])\n",
    "\n",
    "# Sorting Structured array\n",
    "print(np.sort(people_arr,order='weight'))"
   ]
  },
  {
   "cell_type": "markdown",
   "id": "c09475e6",
   "metadata": {},
   "source": [
    "***"
   ]
  },
  {
   "cell_type": "code",
   "execution_count": null,
   "id": "40abce93",
   "metadata": {},
   "outputs": [
    {
     "name": "stdout",
     "output_type": "stream",
     "text": [
      "[('dev', 21, 68.1 ) ('john', 34, 76.32) ('arthur', 32, 78.1 )]\n",
      "[('dev', 21, 68.1 ) ('arthur', 32, 78.1 ) ('john', 34, 76.32)]\n"
     ]
    }
   ],
   "source": [
    "# Assi 9.1\n",
    "person_dtype = np.dtype([\n",
    "    ('name', 'U10'),\n",
    "    ('age', 'i4'),\n",
    "    ('weight', 'f4')\n",
    "])\n",
    "\n",
    "people_arr = np.array([\n",
    "    ('dev',21,68.1),\n",
    "    ('john',34,76.32),\n",
    "    ('arthur',32,78.1),],\n",
    "    dtype=person_dtype\n",
    ")\n",
    "\n",
    "print(people_arr)\n",
    "sorted_ageArray = np.sort(people_arr, order='age')\n",
    "print(sorted_ageArray)"
   ]
  },
  {
   "cell_type": "markdown",
   "id": "1083126b",
   "metadata": {},
   "source": [
    "***\n",
    "### <a id='toc1_1_17_'></a>[What is ```data['x'][:, np.newaxis]```](#toc0_)"
   ]
  },
  {
   "cell_type": "code",
   "execution_count": null,
   "id": "0b280af6",
   "metadata": {},
   "outputs": [
    {
     "data": {
      "text/plain": [
       "array([[3],\n",
       "       [7],\n",
       "       [8]])"
      ]
     },
     "execution_count": 87,
     "metadata": {},
     "output_type": "execute_result"
    }
   ],
   "source": [
    "data_dtype = np.dtype([\n",
    "    ('x', 'i4'),\n",
    "    ('y', 'i4'),\n",
    "])\n",
    "\n",
    "data = np.array([\n",
    "    (3,4),\n",
    "    (7,2),\n",
    "    (8,3),],\n",
    "    dtype=data_dtype)\n",
    "\n",
    "data['x'] # 1D Array\n",
    "data['x'][:,np.newaxis]\n",
    "\n",
    "#? Converted the 1D row matrix to 1D Column \n",
    "# Why do we need it\n",
    "# To easily perform column operations"
   ]
  },
  {
   "cell_type": "markdown",
   "id": "663e8285",
   "metadata": {},
   "source": [
    "***"
   ]
  },
  {
   "cell_type": "code",
   "execution_count": null,
   "id": "d46faad4",
   "metadata": {},
   "outputs": [
    {
     "name": "stdout",
     "output_type": "stream",
     "text": [
      "[(3, 4) (7, 2) (8, 3)]\n",
      "[[0.         4.47213595 5.09901951]\n",
      " [4.47213595 0.         1.41421356]\n",
      " [5.09901951 1.41421356 0.        ]]\n"
     ]
    }
   ],
   "source": [
    "# Assi 9.2\n",
    "point_dtype = np.dtype([\n",
    "    ('x', 'i4'),\n",
    "    ('y', 'i4'),\n",
    "])\n",
    "\n",
    "points = np.array([\n",
    "    (3,4),\n",
    "    (7,2),\n",
    "    (8,3),],\n",
    "    dtype=point_dtype)\n",
    "\n",
    "print(points)\n",
    "\n",
    "# Euclidean Distance =( (x2-x1)**2 + (y2-y1)**2 )**0.5\n",
    "# data['x'][:,np.newaxis] - data['x'] -> difference table of all possible 'x' pairs\n",
    "\n",
    "distances = np.sqrt(\n",
    "    (data['x'][:,np.newaxis] - data['x'])**2 +\n",
    "    (data['y'][:,np.newaxis] - data['y'])**2 )\n",
    "\n",
    "print(distances)"
   ]
  },
  {
   "cell_type": "markdown",
   "id": "1a762e50",
   "metadata": {},
   "source": [
    "***"
   ]
  },
  {
   "cell_type": "markdown",
   "id": "1820a48d",
   "metadata": {},
   "source": [
    "### <a id='toc1_1_18_'></a>[Masked Arrays](#toc0_)\n",
    "Numpy arrays with additional masks which tells which values are valid and which ones are hidden/masked"
   ]
  },
  {
   "cell_type": "code",
   "execution_count": null,
   "id": "e06f0a80",
   "metadata": {},
   "outputs": [
    {
     "name": "stdout",
     "output_type": "stream",
     "text": [
      "[  1   2 201   4 201   6]\n",
      "================\n",
      "[1 2 -- 4 -- 6]\n",
      "================\n",
      "3.25\n",
      "13\n"
     ]
    }
   ],
   "source": [
    "import numpy.ma as ma\n",
    "\n",
    "array = np.array([1,2,201,4,201,6])\n",
    "print(array)\n",
    "sep()\n",
    "\n",
    "# mask the invalid value 201\n",
    "masked_array = ma.masked_equal(array, 201)\n",
    "print(masked_array)\n",
    "sep()\n",
    "\n",
    "print(masked_array.mean())  # Ignores 201\n",
    "print(masked_array.sum())  # Ignores 201\n"
   ]
  },
  {
   "cell_type": "markdown",
   "id": "741f6ffc",
   "metadata": {},
   "source": [
    "***"
   ]
  },
  {
   "cell_type": "code",
   "execution_count": null,
   "id": "304d6cd3",
   "metadata": {},
   "outputs": [
    {
     "name": "stdout",
     "output_type": "stream",
     "text": [
      "[[18 11 14  7]\n",
      " [12 17 14 13]\n",
      " [ 2 14 14  1]\n",
      " [13  8 13  4]]\n",
      "================\n",
      "[[-- -- -- 7]\n",
      " [-- -- -- --]\n",
      " [2 -- -- 1]\n",
      " [-- 8 -- 4]]\n",
      "Sum of Unmasked Elements:  22\n"
     ]
    }
   ],
   "source": [
    "# Assi 10.1\n",
    "arr10 = np.random.randint(1,20, (4,4))\n",
    "print(arr10)\n",
    "sep()\n",
    "\n",
    "masked_arr10 = ma.masked_greater(arr10, 10)\n",
    "print(masked_arr10)\n",
    "\n",
    "print(\"Sum of Unmasked Elements: \", ma.sum(masked_arr10))"
   ]
  },
  {
   "cell_type": "markdown",
   "id": "dfd963e4",
   "metadata": {},
   "source": [
    "***"
   ]
  },
  {
   "cell_type": "markdown",
   "id": "b54ee51d",
   "metadata": {},
   "source": [
    "### <a id='toc1_1_19_'></a>[Manual Masking](#toc0_)\n",
    "Suppose you want to mask only the border elements of a 4x4 matrix"
   ]
  },
  {
   "cell_type": "code",
   "execution_count": null,
   "id": "9b1a4f3e",
   "metadata": {},
   "outputs": [
    {
     "name": "stdout",
     "output_type": "stream",
     "text": [
      "[[ 1 10 10  8]\n",
      " [ 4  6  7  6]\n",
      " [ 5  3  8  5]\n",
      " [ 5  6  1  9]]\n",
      "================\n",
      "[[-- -- -- --]\n",
      " [-- 6 7 --]\n",
      " [-- 3 8 --]\n",
      " [-- -- -- --]]\n"
     ]
    }
   ],
   "source": [
    "arr_4x4 = np.random.randint(1,11,(4,4))\n",
    "print(arr_4x4)\n",
    "sep()\n",
    "# 1 -> Masked\n",
    "# 0 -> Unmasked\n",
    "mask = [\n",
    "    [1,1,1,1],\n",
    "    [1,0,0,1],\n",
    "    [1,0,0,1],\n",
    "    [1,1,1,1],\n",
    "]\n",
    "\n",
    "masked_4x4 = ma.array(arr_4x4,mask=mask)\n",
    "print(masked_4x4)\n"
   ]
  },
  {
   "cell_type": "markdown",
   "id": "b893c105",
   "metadata": {},
   "source": [
    "##### <a id='toc1_1_19_1_1_'></a>[Filling masked values](#toc0_)"
   ]
  },
  {
   "cell_type": "code",
   "execution_count": null,
   "id": "c003f516",
   "metadata": {},
   "outputs": [
    {
     "name": "stdout",
     "output_type": "stream",
     "text": [
      "[[-1 -1 -1 -1]\n",
      " [-1  6  7 -1]\n",
      " [-1  3  8 -1]\n",
      " [-1 -1 -1 -1]]\n"
     ]
    }
   ],
   "source": [
    "print(masked_4x4.filled(-1))"
   ]
  },
  {
   "cell_type": "markdown",
   "id": "c3b3e300",
   "metadata": {},
   "source": [
    "***"
   ]
  },
  {
   "cell_type": "code",
   "execution_count": null,
   "id": "9a455cc9",
   "metadata": {},
   "outputs": [
    {
     "name": "stdout",
     "output_type": "stream",
     "text": [
      "[[7 7 5]\n",
      " [9 3 8]\n",
      " [5 2 9]]\n",
      "================\n",
      "[[-- 7 5]\n",
      " [9 -- 8]\n",
      " [5 2 --]]\n",
      "================\n",
      "Mean:  6\n",
      "[[6 7 5]\n",
      " [9 6 8]\n",
      " [5 2 6]]\n",
      "================\n"
     ]
    }
   ],
   "source": [
    "# Assi 10.2\n",
    "arr10 = np.random.randint(1,10,(3,3))\n",
    "print(arr10)\n",
    "sep()\n",
    "\n",
    "# Identity matrix, diagonal elements = 1\n",
    "mask = np.eye(3, dtype=int)\n",
    "\n",
    "masked10 = ma.array(arr10, mask=mask)\n",
    "print(masked10)\n",
    "sep()\n",
    "\n",
    "mean = masked10.mean()\n",
    "print(\"Mean: \", int(mean))\n",
    "mask_filled = masked10.filled(mean)\n",
    "print(mask_filled)\n",
    "sep()"
   ]
  }
 ],
 "metadata": {
  "kernelspec": {
   "display_name": "py-env",
   "language": "python",
   "name": "python3"
  },
  "language_info": {
   "codemirror_mode": {
    "name": "ipython",
    "version": 3
   },
   "file_extension": ".py",
   "mimetype": "text/x-python",
   "name": "python",
   "nbconvert_exporter": "python",
   "pygments_lexer": "ipython3",
   "version": "3.12.11"
  }
 },
 "nbformat": 4,
 "nbformat_minor": 5
}
