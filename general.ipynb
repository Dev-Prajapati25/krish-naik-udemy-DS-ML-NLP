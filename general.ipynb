{
 "cells": [
  {
   "cell_type": "markdown",
   "id": "315ef77f",
   "metadata": {},
   "source": [
    "## Links to some files for revision"
   ]
  },
  {
   "cell_type": "markdown",
   "id": "a361cf9f",
   "metadata": {},
   "source": [
    "***"
   ]
  },
  {
   "cell_type": "markdown",
   "id": "fd0c3e07",
   "metadata": {},
   "source": [
    "### General\n",
    "* [Python Essentials](1to12_Python/python_essentials_cheatsheet.ipynb)"
   ]
  },
  {
   "cell_type": "markdown",
   "id": "02737685",
   "metadata": {},
   "source": [
    "***"
   ]
  },
  {
   "cell_type": "markdown",
   "id": "c0c131c3",
   "metadata": {},
   "source": [
    "### Section 4  (Data Structures)\n",
    "* [Lists](1to12_python/Section%204/list_assignment_solution/solution.ipynb)       \n",
    "* [Tuples](1to12_python/Section%204/tuple_assignment_solution/solution.ipynb)     \n",
    "* [Sets](1to12_python/Section%204/set_assignments_solution/solution.ipynb)        \n",
    "* [Dictionaries](1to12_python/Section%204/dictionaries_assignment/solution.ipynb)     "
   ]
  },
  {
   "cell_type": "markdown",
   "id": "07e0fd5b",
   "metadata": {},
   "source": [
    "***"
   ]
  },
  {
   "cell_type": "markdown",
   "id": "fa7f5fe5",
   "metadata": {},
   "source": [
    "### Section 13 (Data Analysis)\n",
    "* [NumPy](13_DataAnalysis/numpypandasassignments/self_sol_np.ipynb)        "
   ]
  },
  {
   "cell_type": "markdown",
   "id": "2198f526",
   "metadata": {},
   "source": [
    "***"
   ]
  },
  {
   "cell_type": "markdown",
   "id": "16efb707",
   "metadata": {},
   "source": [
    "Remember shallow copy from section 4 dictionary lecture"
   ]
  }
 ],
 "metadata": {
  "language_info": {
   "name": "python"
  }
 },
 "nbformat": 4,
 "nbformat_minor": 5
}
